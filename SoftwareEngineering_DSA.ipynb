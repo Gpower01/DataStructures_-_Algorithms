{
 "cells": [
  {
   "cell_type": "markdown",
   "metadata": {},
   "source": [
    "## Data Structures and Algorithms\n",
    "\n",
    "- [LaTex](https://www.malinc.se/math/latex/basiccodeen.php)\n",
    "\n",
    "Before we start the course, we will discuss some of the basics\n",
    "\n",
    "- Introduction to Big-O complexity \n",
    "- Introduction to recursion \n",
    "\n",
    "Before we talk about Big-O, it is important that we first understand what exactly an \"algorithm\" is."
   ]
  },
  {
   "cell_type": "markdown",
   "metadata": {},
   "source": [
    "An algorithm can be seen as a recipe for a computer to follow. It's a set of instructions that a computer will follow step-by-step to solve a problem. An algorithm takes an inpute and produce an output. \n",
    "\n",
    "For example, let's say  you had a non-empty array of positive integers called `nums`, and you wanted to answer the question: \"what is the largest number in `nums` ?\".\n",
    "\n",
    "- To answer this question, you would write an algorithm that takes an array called `nums` as **input** and **outputs** the largest number in `nums`. Here is an example of such an algorithm:\n",
    "\n",
    "1) Create a variable `maxNum` and initialize it to `0`.\n",
    "2) Iterate over each element `num` in `nums`.\n",
    "3) If `num` is greater than `maxNum`, update `maxNum = num`.\n",
    "4) Output `maxNum`. \n",
    "\n",
    "Here, we have written down a set of instructions that when followed, will solve the problem. We can now implement these instructions in code so that a computer can quickly solve the problem. There are some important requirements for algorithms:\n",
    "\n",
    "* Algorithms should be **deterministic**. Given the same input, the algorithm should **always** produce the same **output**. Basically, there shouldn't be any randomness.\n",
    "* The algorithm should be correct for any arbitrary valid **input**. In our example, we said that `nums` is a non-empty array of positive integers. There are infinitely many of such arrays, and our algorithm works for **all** of them. Note that if `nums` had negative numbers, the input would be invalid since we stated the integers are positive. In fact, our algorithm would actually break because we initialized `maxNum` to 0, so if all of `nums` was negative, we would incorrectly output `0`.\n",
    "\n",
    "<p>\n",
    "\n",
    "---\n",
    "\n",
    "**Big-O**\n",
    "\n",
    "Big-O is a notation used to describe the computational complexity of an algorithm. The computational complexity is split into two parts: \n",
    "\n",
    "1) Time complexity - the amount of time the algorithms needs to run relative to input size\n",
    "2) Space complaxity - the amount of memory allocated by the algorithm relative to input size\n",
    "\n",
    "\n",
    "**Typically, people care about the time complexity more than the space complexity, but both are important to know**.\n",
    "\n",
    "<p>\n",
    "\n",
    "There are some common assumptions that we make. Wehen dealing with integers, the larger t he integer, the more time operations like addition, multiplication or printing will take. While this **is** relevant in theory, we typically ignore this fact because the difference is practically very small, and treat all integers the same. If you are given an array of integers as an input, the only variable you would ues is _n_ to denote the length of the array. Technically, you could introduce another variable, let's say _k_ which denotes the average value of the integers in the array. However, nobody does this. \n",
    "\n",
    "<p>\n",
    "\n",
    "Here are some example of complexities:\n",
    "\n",
    "* $O(n)$\n",
    "* $O(n^{2})$\n",
    "* $O(2^{n})$\n",
    "* $O(log n)$\n",
    "* $O(n.m)$\n",
    "\n",
    "<p>\n",
    "\n",
    "You might be thinking, what is _m_ ? Remember: we define the variables. As these are simple examples with no associated problem, _m_ could denote any arbitrary variable. For example, we could have a problem where the input is two arrays. _n_ could denote the length of one while _m_ denotes the length of the other.\n",
    "\n",
    "<p>\n",
    "\n",
    "**Calculating complexity**\n",
    "\n",
    "Using the above example (find the largest number in `nuums`), we have a time complexity of **O(n)**. The algorithm involves iterating over each elements in `nums`, so if we define _n_ as the length of `nums`, ou algorithm uses approximately _n_ steps. If we pass an array with a length of `10`, it will perform approximately `10` steps. If we pass an array with a length of `10,000,000,000`, it will perform approximately `10,000,000,000` steps. \n",
    "\n",
    "**NOTE:**\n",
    "- Being able to analyze an algorithm and calculate it's time and space complexity is a crucial skill. Interviewers will **almost always** ask you for your algorithm's complexity to check that you actually understand your algorithm and didn't just memorize/copy the code. Being able to analyze an algorithm also enables you to determine what parts of it can be improved. \n",
    "\n",
    "---\n",
    "\n",
    "**Rules**\n",
    "\n",
    "There are a few rules when it comes to calculating complexity. First, **we ignore constants**. That means $O(9999999n) = O(8n) = O(n) = O(\\frac{n}{500})$. Why do we do this? Imagine you had two algorithms. Algorithm A uses approximately _n_ operations and algorithm B uses approximately _5n_ operations. \n",
    "\n",
    "<p>\n",
    "\n",
    "When _n_ = 100, algorithm A uses 100 operations and algorithm B uses 500 operations. What happens if we double _n_ ? Then algorithm A uses 200 operations and algorithm B uses 1000 operations. As you can see, When we double the value of _n_, both algorithms require double the amount of operations. If we were to _10x_ the value of _n_, then both algorithms would require _10x_ more operations.\n",
    "\n",
    "<p>\n",
    "\n",
    "Remember: the point of complexity is to analyze the algorithm **as the input changes**. We don't care that algorithm B is _5x_ slower than algorithm A. For both algorithms, as the input size increases, the number of operations required increases **linearly**. That's what we care about. Thus, both algorithms are **O(n)**.\n",
    "\n",
    "<p>\n",
    "\n",
    "The second rule is that we consider the complexity as the variables **tend to infinity**. When we have additions/subtraction between terms of the **same variable, we ignore all terms except the most powerful one**.\n",
    "\n",
    "For example, $O(2^{n} + n^{2} - 500) = O(2^{n})$. Why? Because as _n_ tends to infinity, $2^{n}$ becomes so large that the other two terms are effectively zero in comparison. \n",
    "\n",
    "Let's say that we had an algorithm that required _n_ + 500 operations. It has a time complexity of $O(n)$. When _n_ is small, let's say n = 5, the +500 term is very significant - but we don't care about that. We need to perform the analysis as if _n_ is tending toward infinity, and in that scenario, the 500 is nothing.\n",
    "\n",
    "<p>\n",
    "\n",
    "**NOTE:**\n",
    "* The best complexity possible is **O(1)**, called \"constant time\" or \"constant space\". it means that the algorithm ALWAYS uses the same amount of resources, regardless of the input.\n",
    "\n",
    "Note that a constant time complexity doesn't neccessarily mean that an algorithm is fast $(O(5000000) = O(1))$, it just means that it's runtime is independent of the input size. \n",
    "\n",
    "<p>\n",
    "\n",
    "When talking about complexity, there are normally three cases:\n",
    "\n",
    "* Best case scenario \n",
    "* Average case \n",
    "* Worst case scenario \n",
    "\n",
    "<p>\n",
    "\n",
    "In most algorithms, all three of these will be equal, but some algorithms will have them differ. If you have to choose only one to represent the algorithm's time or space complexity, never choose the best case scenario. It is most correct to use the worst case scenario, but you should be able to talk about the difference between the cases. \n",
    "\n",
    "<p>\n",
    "\n",
    "---\n",
    "\n",
    "\n"
   ]
  },
  {
   "cell_type": "code",
   "execution_count": 7,
   "metadata": {},
   "outputs": [],
   "source": [
    "def maximumNumber(nums):\n",
    "    \"\"\"\n",
    "    : create a variable `maxNum` and initialize it to `0`\n",
    "    : Iterate over each element `num` in `nums` \n",
    "    : If `num` is greater than `maxNum`, update `maxNum = num`\n",
    "    : Output `maxNum`\n",
    "    \"\"\"\n",
    "    maxNum = 0\n",
    "\n",
    "    for num in nums:\n",
    "        if num > maxNum:\n",
    "            maxNum = num \n",
    "\n",
    "    return maxNum"
   ]
  },
  {
   "cell_type": "code",
   "execution_count": 8,
   "metadata": {},
   "outputs": [
    {
     "name": "stdout",
     "output_type": "stream",
     "text": [
      "200\n"
     ]
    }
   ],
   "source": [
    "#test \n",
    "nums = [2, 5, 20, 50, 200, 120, 180]\n",
    "\n",
    "sol = maximumNumber(nums)\n",
    "print(sol)\n"
   ]
  },
  {
   "cell_type": "markdown",
   "metadata": {},
   "source": [
    "### Analyzing time complexity \n",
    "\n",
    "Let's look at some example algorithms in pseudo-code and talk about their time complexities.\n",
    "\n",
    "```\n",
    "// Given an integer array \"arr\" with length n,\n",
    "\n",
    "for (int num: arr) {\n",
    "    print(num)\n",
    "}\n",
    "\n",
    "```\n",
    "\n",
    "This algorithms has a time complexity of $O(n)$. In each for loop iteration, we are performing a print, which costs $O(1)$. The for loop iterates $n$ times, which gives a time complexity of $O(1.n)= O(n)$.\n",
    "\n",
    "```\n",
    "// Given an integer array \"arr\" with length n,\n",
    "\n",
    "for (int num: arr) {\n",
    "    for (int i = 0; i < 500,000; i++) {\n",
    "        print(num)\n",
    "    }\n",
    "}\n",
    "```\n",
    "This algorithm has a time complexity of $O(n)$. In each inner for loop iteration, we are performing a print, which costs $O(1)$. This for loop iterates 500,000 times, which means each outer for loop iteration costs $O(500000) = O(1)$. The outer for loop iterates $n$ times, which gives a time complexity of $O(n)$.\n",
    "\n",
    "<p>\n",
    "\n",
    "Even though the first two algorithms technically have the same time complexity, in reality the second algorithm is **much** slower than the first one. It's correct to say that the time complexity is $O(n)$, but it's important to be able to discuss the difference between practicality and theory. \n",
    "\n",
    "```\n",
    "// Given an integer array \"arr\" with length n,\n",
    "\n",
    "for (int num: arr) {\n",
    "    for (int num2: arr) {\n",
    "        print(num * num2)\n",
    "    }\n",
    "} \n",
    "```\n",
    "This algorithm has a time complexity of $O(n^{2})$. In each inner for loop iteration, we are performing a multiplication and print, which cost both cost $O(1)$. The inner for loop runs $n$ times, which means each outer for loop iteration costs $O(n)$. The outer for loop runs $O(n)$ times, which gives a time complexity of $O(n.n) = O(n^{2})$.\n",
    "\n",
    "<p>\n",
    "\n",
    "```\n",
    "// Given integer arrays \"arr\" with length n and \"arr2\" with length m,\n",
    "\n",
    "for (int num: arr) {\n",
    "    print(num)\n",
    "}\n",
    "for (int num: arr) {\n",
    "    print(num)\n",
    "}\n",
    "for (int num: arr2) {\n",
    "    print(num)\n",
    "}\n",
    "```\n",
    "\n",
    "This algorithm has a time complexity of $O(n+m)$. The first two for loops both cost $O(n)$, whereas the final for loop costs $O(m)$. This gives a time complexity of $O(2n+m) = O(n+m)$.\n",
    "\n",
    "```\n",
    "// Given an integer array \"arr\" with length n,\n",
    "\n",
    "for (int i = 0; i < arr.length; i++) {\n",
    "    for (int j = i; j < arr.length; j++) {\n",
    "        print(arr[i] + arr[j])\n",
    "    }\n",
    "}\n",
    "```\n",
    "This algorithm has a time complexity of $O(n^{2})$. The inner for loop is dependent on what iteration the outer for loop is currently on. The first time the inner for loop is run it runs $n$ times. The second time, it runs $n-1$ times, then $n-2$, $n-3$, and so on.\n",
    "\n",
    "<p>\n",
    "\n",
    "That means the total iterations is $1 + 2 + 3 + 4 + ... + n$, which is the partial sum of [this series](https://en.wikipedia.org/wiki/1_%2B_2_%2B_3_%2B_4_%2B_%E2%8B%AF#Partial_sums), which is equal to $\\frac{n.(n+1)}{2} = \\frac{n^{2}+n}{2}$. In big-O, this is $O(n^{2})$ because the addition term in the numerator and the constant term in the denominator are both ignored.\n",
    "\n",
    "<p>\n",
    "\n",
    "### Logarithm time\n",
    "\n",
    "A logarithm is the inverse operation to exponents. The time complexity $O(logn)$ is called logarithmic time and is **extremely fast**. A common time complexity is $O(n.logn)$, which is reasonably fast for most problems and also the time complexity of efficient sorting algorithms. \n",
    "\n",
    "Typically, the base of the logarithm will be `2`. This means that if your input is size $n$, then the algorithm will perform $x$ operations, where $2^{x} = n$. However, the base of the logarithm [doesn't actually matter](https://stackoverflow.com/questions/1569702/is-big-ologn-log-base-e/1569710#1569710) for big $O$, since all algorithms are related by a constant factor.\n",
    "\n",
    "$O(logn)$ means that somewhere in your algorithm, the input is being reduced by a percentatge at every step. A good example of this is binary search, which is a searching algorithm that runs in $O(logn)$ time (there is a chapter dedicated to binary search later on). With binary search, we initially consider the entire input ($n$ elements). After the first step, we only consider $n/2$ elements. After the second step, we only consider $n/4$ elements, and so on. At each step, we are reducing our search space by `50%`, which gives us a logarithmic time complexity.\n",
    "\n",
    "<p>\n",
    "\n",
    "### Analyzing space complexity\n",
    "\n",
    "When you initialize variables like arrays or strings, your algorithm is allocating memory. We never count the space used by the input (it is bad practice to modify the input), and usually don't count the space used by the output (the answer) unless an interviewer asks us to.\n",
    "\n",
    "```\n",
    "In the below examples, the code is only allocating memory so that we can analyze the space complexity, so we will consider everything we allocate as part of the space complexity (there is no \"answer\").\n",
    "```\n",
    "\n",
    "```\n",
    "// Given an integer array \"arr\" with length n\n",
    "for (int num: arr) {\n",
    "    print(num)\n",
    "}\n",
    "```\n",
    "This algorithm has a space complexity of $O(1)$. The only space allocated is an integer variable `num`, which is constant relative to $n$.\n",
    "\n",
    "```\n",
    "// Given an integer array \"arr\" with length n\n",
    "array doubleNums = int[]\n",
    "for (int num: arr) {\n",
    "    doubleNums.add(num * 2)\n",
    "}\n",
    "```\n",
    "This algorithm has a space complexity of $O(n)$. The array `doubleNums` stores $n$ integers at the end of the algorithm.\n",
    "\n",
    "```\n",
    "// Given an integer array \"arr\" with length n\n",
    "array nums = int[]\n",
    "int oneHundredth = n / 100\n",
    "\n",
    "for (int i = 0; i < oneHundredth; i++) {\n",
    "    nums.add(arr[i])\n",
    "}\n",
    "```\n",
    "This is algorithm has a space complexity of $O(n)$. The array `nums` stores the first 1% of numbers in `arr`. This gives a space complexity of $O(\\frac{n}{100}) = O(n)$.\n",
    "\n",
    "```\n",
    "// Given integer arrays \"arr\" with length n and \"arr2\"\n",
    "Array grid = int[n][m]\n",
    "for (int i = 0; i < arr.length; i++) {\n",
    "    for (int j = 0; j < arr2.length; j++) {\n",
    "        grid[i][j] = arr[i] * arr2[j]\n",
    "    }\n",
    "}\n",
    "```\n",
    "This algorithm has a space complexity of $O(n.m)$. We are creating a `grid` that has dimensions $n.m$.\n",
    "\n",
    "**NOTE:**\n",
    "* In this course, we will talk extensively about time and space complexity. If it's a new concept to you, don't worry - with practice, you will become more and more comfortable with analyzing algorithms on your own. "
   ]
  },
  {
   "cell_type": "markdown",
   "metadata": {},
   "source": [
    "## Introduction to recursion \n",
    "\n",
    "* Recursion is a problem solving method. In code, recursion is implemented using a function that calls itself. \n",
    "\n",
    "The opposite of a recursive algorithm would be an **iterative algorithm**. There [is a branch](https://en.wikipedia.org/wiki/Computability_theory) of study that proves that any iterative algorithm can be written recursively. While iterative algorithms use `for loops and while loops` to simukate repetition, recursive algorithms use function calls to simulate the same logic. \n",
    "\n",
    "Let's say we wanted to print the number from 1 to 10. Here's some pseudocode for an iterative algorithm:\n",
    "\n",
    "```\n",
    "for (int i = 1; i < 10; i++) {\n",
    "    print(i)\n",
    "}\n",
    "```"
   ]
  },
  {
   "cell_type": "code",
   "execution_count": 2,
   "metadata": {},
   "outputs": [
    {
     "name": "stdout",
     "output_type": "stream",
     "text": [
      "1\n",
      "2\n",
      "3\n",
      "4\n",
      "5\n",
      "6\n",
      "7\n",
      "8\n",
      "9\n",
      "10\n"
     ]
    }
   ],
   "source": [
    "#print 1 to 10, starting from 1\n",
    "for i in range(1, 11):\n",
    "    print(i)"
   ]
  },
  {
   "cell_type": "markdown",
   "metadata": {},
   "source": [
    "Here's some pseudocode for an equivalent recursive algorithm:\n",
    "\n",
    "```\n",
    "function fn(i):\n",
    "    print(i)\n",
    "    fn(i + 1)\n",
    "    return \n",
    "\n",
    "fn(1)\n",
    "```\n",
    "\n",
    "**NOTE:** This function will run indefinitely as there is no base code to terminate the function. \n",
    "\n",
    "* Each call to `fn` first prints `i` (which starts at 1), and then calls `fn` again but incrementing `i` (to print the next number).\n",
    "\n",
    "`The first function call prints 1, then calls fn(2). In fn(2), we print 2, then call fn(3), and so on.`\n",
    "\n",
    "<p>\n",
    "\n",
    "However, this code is actually wrong. Do you see the problem? The functio calls will never stop! Running this code would print natural numbers (positive integers) infinitely (or until the computer explode). The `return` line never gets reached because `fn(i + 1)` comes before it.\n"
   ]
  },
  {
   "cell_type": "code",
   "execution_count": 4,
   "metadata": {},
   "outputs": [],
   "source": [
    "def recursive_fun(i):\n",
    "    print(i)\n",
    "    recursive_fun(i + 1)\n",
    "    return \n",
    "\n",
    "#recursive_fun(1)\n",
    "    "
   ]
  },
  {
   "cell_type": "markdown",
   "metadata": {},
   "source": [
    "To optimize the function and stop it from running indefinitely and stack overflow. we can implement a break when it reaches a base case.\n",
    "\n",
    "We need what is called a **base case** to make the recursion stop. Base cases are conditions at the start of recursive functions that terminate the calls."
   ]
  },
  {
   "cell_type": "code",
   "execution_count": 8,
   "metadata": {},
   "outputs": [
    {
     "name": "stdout",
     "output_type": "stream",
     "text": [
      "1\n",
      "2\n",
      "3\n",
      "4\n",
      "5\n",
      "6\n",
      "7\n",
      "8\n",
      "9\n",
      "10\n"
     ]
    }
   ],
   "source": [
    "def recursive_func(i):\n",
    "    if i > 10:\n",
    "        return \n",
    "    print(i)\n",
    "    recursive_func(i + 1)\n",
    "    return \n",
    "\n",
    "recursive_func(1)"
   ]
  },
  {
   "cell_type": "markdown",
   "metadata": {},
   "source": [
    "After we call `fn(10)`, we print `10` and call `fn(11)`. In the `fn(11)` call, we trigger the base case and return. So now we are back in the call to `fn(10)` and move to the next line, which is the return statement. This makes us return back to the `fn(9)` call and so on, until we eventually return from the `fn(1)` call and the algorithm terminates. \n",
    "\n",
    "An important thing to understand about recursion is the **order** in which the code runs - the order in which the computer executes instructions. With an iterative program, it's easy - start at the top, and go line by line. With recursion, it can get confusing because calls can cascade on top of each other. Let's print numbers again, but this time only up to 3. Let's also add another print statement and number the lines:"
   ]
  },
  {
   "cell_type": "code",
   "execution_count": 11,
   "metadata": {},
   "outputs": [
    {
     "name": "stdout",
     "output_type": "stream",
     "text": [
      "1\n",
      "2\n",
      "3\n",
      "End of call where i = 3\n",
      "End of call where i = 2\n",
      "End of call where i = 1\n"
     ]
    }
   ],
   "source": [
    "def fn(i):\n",
    "    if i > 3:\n",
    "        return \n",
    "    \n",
    "    print(i)\n",
    "    fn(i + 1)\n",
    "    print(f\"End of call where i = {i}\")\n",
    "    return \n",
    "\n",
    "fn(1)"
   ]
  },
  {
   "cell_type": "markdown",
   "metadata": {},
   "source": [
    "As you can see, the line where we print text is executed in reverse order. The original call `fn(1)` first prints `1`, then calls to `fn(2)`, which prints `2`, then calls to `fn(3)`, which prints `3`, then calls to `fn(4)`. **Now, this the important part:** how recursion \"moves\" back \"up\". `fn(4)` triggers the base case, which returns. We are now back in the function call where `i = 3` and line **4** has finished, so we move to line **5** which prints `End of call where i = 3`. Once that line runs, we move to the next line, which is a `return`. Now, we are back in the function call where `i = 2` and **line 4** line has finshed, so again we move to the next line and print `End of call where i = 2`. This repeats until the original function call to `fn(1)` returns. \n",
    "\n",
    "<p>\n",
    "\n",
    "Note that each function call also has its own scope. So in the example above, when we call `f(3)`, there are 3 \"versions\" of `i` simultaneously. The first call has `i = 1`, the second call has `i = 2`, and the third call has `i = 3`. Let's say that we were to do `i += 1` in the `f(3)` call. Then `i` becomes `4`, but **only** in the `f(3)` call. The other 2 \"versions\" of `i` are unaffected because they are in different scopes. \n",
    "\n",
    "<p>\n",
    "\n",
    "### Breaking problems down\n",
    "\n",
    "This printing example is pretty pointless - it's easier to use a for loop if you just want to print numbers. Where recursion shines is when you use it to break down a problem into \"subproblems\", whose solutions can then be combined to solve the original problem. \n",
    "\n",
    "Let's look at the [Fibonacci numbers](https://en.wikipedia.org/wiki/Fibonacci_sequence). The Fibonacci numbers are a sequence of numbers starting with `0, 1`. Then, each number is defined as teh sum of the previous two numbers. The first few Fibonacci numbers are `0, 1, 1, 2, 3, 5, 8`. More formally we have \n",
    "\n",
    "$F_{n} = F_{n-1} + F_{n-2}$\n",
    "\n",
    "This is called a **recurrence relation** - it's an equation that connected the terms together. \n",
    "\n",
    "Let's use a pseudocode to write a function `F(n)` that returns the $n^{th}$ Fibonacci number (0 indexed). `Don't forget we need base cases with any recursive function`. In this case, the base cases are explicitly defined: `F(0) = 0`, and `F(1) = 1` "
   ]
  },
  {
   "cell_type": "code",
   "execution_count": 17,
   "metadata": {},
   "outputs": [
    {
     "data": {
      "text/plain": [
       "2"
      ]
     },
     "execution_count": 17,
     "metadata": {},
     "output_type": "execute_result"
    }
   ],
   "source": [
    "def fib(n):\n",
    "    if n <= 1:\n",
    "        return n \n",
    "    \n",
    "    oneback = fib(n - 1)\n",
    "    twoback = fib(n - 2)\n",
    "\n",
    "    return oneback + twoback\n",
    "\n",
    "fib(3)"
   ]
  },
  {
   "cell_type": "markdown",
   "metadata": {},
   "source": [
    "Let's sat that we wanted to find `F(3)`. Upon calling `F(3)`, we would see the following flow, with each indentation level representing a function call's scope:\n",
    "\n",
    "```\n",
    "oneBack = fib(2)\n",
    "    oneBack = fib(1)\n",
    "        fib(1) = 1\n",
    "    twoBack = fib(0)\n",
    "        fib(0) = 0\n",
    "    fib(2) = oneBack + twoBack = 1\n",
    "twoBack = fib(1)\n",
    "    fib(1) = 1\n",
    "fib(3) = oneBack + twoBack = 2\n",
    "```\n",
    "\n",
    "* As you can see, we took the original problem `fib(3)`, and broke it down into two smaller subproblems - `F(2)` and `F(1)`. By combining the recurrence relation and base cases, we can solve the subproblems and use those solutions to solve the original problem. \n",
    "\n",
    "This is the most common use of recursion - you have your recursive function **return the answer to the problem you're trying to solve for a given input**. In this example, the problem we're trying to solve for a given input is \"What is the $n^{th}$ Fibonacci number ?\" As such, we designed our function to return a Fibonacci number, according to the input $n$. By determining the base cases and a recurrence relation, we can easily implement the function. \n",
    "\n",
    "<p>\n",
    "\n",
    "By following this idea, solving the subproblems is easy - if we wanted the 100th Fibonacci number, we know by definition that it is the sum of the 99th and 98th Fibonacci number. On the function call to `F(100)`, we know that calling `F(99)` and `F(98)` will give us those numbers."
   ]
  },
  {
   "cell_type": "code",
   "execution_count": 22,
   "metadata": {},
   "outputs": [
    {
     "name": "stdout",
     "output_type": "stream",
     "text": [
      "The 100th Fibonacci number is: 354224848179261915075\n"
     ]
    }
   ],
   "source": [
    "def fibonacci(n, memo={}):\n",
    "    \"\"\"\n",
    "    :optimized Fibonnaci function\n",
    "    \"\"\"\n",
    "    if n <= 1:\n",
    "        return n\n",
    "    \n",
    "    if n not in memo:\n",
    "        memo[n] = fibonacci(n - 1, memo) + fibonacci(n - 2, memo)\n",
    "\n",
    "    return memo[n]\n",
    "\n",
    "# Test\n",
    "fibonacci_number = fibonacci(100)\n",
    "print(f\"The 100th Fibonacci number is: {fibonacci_number}\")"
   ]
  },
  {
   "cell_type": "markdown",
   "metadata": {},
   "source": [
    "## Arrays and strings\n",
    "In terms of algorithm problems, arrays (1D) and strings are very similar: they both represent an ordered group of elements. Most algorithm problems will include either an array or string as part of the input, so it's important to be comfortable with  the basic operations and learn the most common patterns.\n",
    "\n",
    "\"Array\" can mean something different between languages. For example, Python primarily uses \"lists\" instead of arrays which are extremely lenient. Initialization is as easy as `arr = []`, and you don't need to worry about the type of data you store in the list or the size of the list. Other languages like C++ require you to specify the size and data type of the array during initialization, but also have support for lists (like `std::vector` in C++).\n",
    "\n",
    "<p>\n",
    "\n",
    "* Technically, an array can't be resized. A dynamic array, or list can be. In the context of algorithm problem, usually when people talk about arrays, they are referring to dynamic arrays. \n",
    "\n",
    "Similary, strings are implemented differently between languages. In Python and Java, they are `immutable`. In C++ they are `mutable`. \n",
    "\n",
    "- **Mutable:** a type of data that can be changed\n",
    "- **Immutable:** a type of data that cannot be changed.\n",
    " \n",
    "If you want to change something **immutable**, you will have to recreate the entire thing. \n",
    "\n",
    "Why should we care about somethinh being mutable or immutable? If you have array `arr = [\"a\", \"b\", \"c\"]` and an immutable string `s = \"abc`, but you want to instead represent `abd`, you can easily do:"
   ]
  },
  {
   "cell_type": "code",
   "execution_count": 35,
   "metadata": {},
   "outputs": [
    {
     "data": {
      "text/plain": [
       "['a', 'b', 'd']"
      ]
     },
     "execution_count": 35,
     "metadata": {},
     "output_type": "execute_result"
    }
   ],
   "source": [
    "arr = [\"a\", \"b\", \"c\"]\n",
    "arr[2] = \"d\" # replace \"c\" with \"d\"\n",
    "arr"
   ]
  },
  {
   "cell_type": "markdown",
   "metadata": {},
   "source": [
    "But you cannot do:"
   ]
  },
  {
   "cell_type": "code",
   "execution_count": 28,
   "metadata": {},
   "outputs": [
    {
     "ename": "TypeError",
     "evalue": "'str' object does not support item assignment",
     "output_type": "error",
     "traceback": [
      "\u001b[0;31m---------------------------------------------------------------------------\u001b[0m",
      "\u001b[0;31mTypeError\u001b[0m                                 Traceback (most recent call last)",
      "Cell \u001b[0;32mIn[28], line 2\u001b[0m\n\u001b[1;32m      1\u001b[0m s \u001b[38;5;241m=\u001b[39m \u001b[38;5;124m'\u001b[39m\u001b[38;5;124mabc\u001b[39m\u001b[38;5;124m'\u001b[39m\n\u001b[0;32m----> 2\u001b[0m \u001b[43ms\u001b[49m\u001b[43m[\u001b[49m\u001b[38;5;241;43m2\u001b[39;49m\u001b[43m]\u001b[49m \u001b[38;5;241m=\u001b[39m \u001b[38;5;124m'\u001b[39m\u001b[38;5;124md\u001b[39m\u001b[38;5;124m'\u001b[39m\n",
      "\u001b[0;31mTypeError\u001b[0m: 'str' object does not support item assignment"
     ]
    }
   ],
   "source": [
    "s = 'abc'\n",
    "s[2] = 'd'"
   ]
  },
  {
   "cell_type": "code",
   "execution_count": 44,
   "metadata": {},
   "outputs": [
    {
     "name": "stdout",
     "output_type": "stream",
     "text": [
      "['__add__', '__class__', '__contains__', '__delattr__', '__dir__', '__doc__', '__eq__', '__format__', '__ge__', '__getattribute__', '__getitem__', '__getnewargs__', '__getstate__', '__gt__', '__hash__', '__init__', '__init_subclass__', '__iter__', '__le__', '__len__', '__lt__', '__mod__', '__mul__', '__ne__', '__new__', '__reduce__', '__reduce_ex__', '__repr__', '__rmod__', '__rmul__', '__setattr__', '__sizeof__', '__str__', '__subclasshook__', 'capitalize', 'casefold', 'center', 'count', 'encode', 'endswith', 'expandtabs', 'find', 'format', 'format_map', 'index', 'isalnum', 'isalpha', 'isascii', 'isdecimal', 'isdigit', 'isidentifier', 'islower', 'isnumeric', 'isprintable', 'isspace', 'istitle', 'isupper', 'join', 'ljust', 'lower', 'lstrip', 'maketrans', 'partition', 'removeprefix', 'removesuffix', 'replace', 'rfind', 'rindex', 'rjust', 'rpartition', 'rsplit', 'rstrip', 'split', 'splitlines', 'startswith', 'strip', 'swapcase', 'title', 'translate', 'upper', 'zfill']\n"
     ]
    }
   ],
   "source": [
    "print(dir(s))"
   ]
  },
  {
   "cell_type": "code",
   "execution_count": 45,
   "metadata": {},
   "outputs": [
    {
     "name": "stdout",
     "output_type": "stream",
     "text": [
      "Help on built-in function endswith:\n",
      "\n",
      "endswith(...) method of builtins.str instance\n",
      "    S.endswith(suffix[, start[, end]]) -> bool\n",
      "    \n",
      "    Return True if S ends with the specified suffix, False otherwise.\n",
      "    With optional start, test S beginning at that position.\n",
      "    With optional end, stop comparing S at that position.\n",
      "    suffix can also be a tuple of strings to try.\n",
      "\n"
     ]
    }
   ],
   "source": [
    "help(s.endswith)\n"
   ]
  },
  {
   "cell_type": "code",
   "execution_count": 47,
   "metadata": {},
   "outputs": [
    {
     "name": "stdout",
     "output_type": "stream",
     "text": [
      "Help on built-in function startswith:\n",
      "\n",
      "startswith(...) method of builtins.str instance\n",
      "    S.startswith(prefix[, start[, end]]) -> bool\n",
      "    \n",
      "    Return True if S starts with the specified prefix, False otherwise.\n",
      "    With optional start, test S beginning at that position.\n",
      "    With optional end, stop comparing S at that position.\n",
      "    prefix can also be a tuple of strings to try.\n",
      "\n"
     ]
    }
   ],
   "source": [
    "help(s.startswith)"
   ]
  },
  {
   "cell_type": "code",
   "execution_count": 49,
   "metadata": {},
   "outputs": [
    {
     "name": "stdout",
     "output_type": "stream",
     "text": [
      "['__add__', '__class__', '__contains__', '__delattr__', '__dir__', '__eq__', '__format__', '__ge__', '__getattribute__', '__getitem__', '__getnewargs__', '__getstate__', '__gt__', '__hash__', '__init__', '__init_subclass__', '__iter__', '__le__', '__len__', '__lt__', '__mod__', '__mul__', '__ne__', '__new__', '__reduce__', '__reduce_ex__', '__repr__', '__rmod__', '__rmul__', '__setattr__', '__sizeof__', '__str__', '__subclasshook__', 'capitalize', 'casefold', 'center', 'count', 'encode', 'endswith', 'expandtabs', 'find', 'format', 'format_map', 'index', 'isalnum', 'isalpha', 'isascii', 'isdecimal', 'isdigit', 'isidentifier', 'islower', 'isnumeric', 'isprintable', 'isspace', 'istitle', 'isupper', 'join', 'ljust', 'lower', 'lstrip', 'maketrans', 'partition', 'removeprefix', 'removesuffix', 'replace', 'rfind', 'rindex', 'rjust', 'rpartition', 'rsplit', 'rstrip', 'split', 'splitlines', 'startswith', 'strip', 'swapcase', 'title', 'translate', 'upper', 'zfill']\n"
     ]
    }
   ],
   "source": [
    "methods = [method for method in dir(str) if callable(getattr(str, method))]\n",
    "print(methods)\n"
   ]
  },
  {
   "cell_type": "code",
   "execution_count": 39,
   "metadata": {},
   "outputs": [
    {
     "name": "stdout",
     "output_type": "stream",
     "text": [
      "['__add__', '__class__', '__class_getitem__', '__contains__', '__delattr__', '__delitem__', '__dir__', '__doc__', '__eq__', '__format__', '__ge__', '__getattribute__', '__getitem__', '__getstate__', '__gt__', '__hash__', '__iadd__', '__imul__', '__init__', '__init_subclass__', '__iter__', '__le__', '__len__', '__lt__', '__mul__', '__ne__', '__new__', '__reduce__', '__reduce_ex__', '__repr__', '__reversed__', '__rmul__', '__setattr__', '__setitem__', '__sizeof__', '__str__', '__subclasshook__', 'append', 'clear', 'copy', 'count', 'extend', 'index', 'insert', 'pop', 'remove', 'reverse', 'sort']\n"
     ]
    }
   ],
   "source": [
    "arr.append('e')\n",
    "print(dir(arr)) # see all available method for array/list \n"
   ]
  },
  {
   "cell_type": "code",
   "execution_count": 48,
   "metadata": {},
   "outputs": [
    {
     "name": "stdout",
     "output_type": "stream",
     "text": [
      "Help on built-in function remove:\n",
      "\n",
      "remove(value, /) method of builtins.list instance\n",
      "    Remove first occurrence of value.\n",
      "    \n",
      "    Raises ValueError if the value is not present.\n",
      "\n"
     ]
    }
   ],
   "source": [
    "help(arr.remove)"
   ]
  },
  {
   "cell_type": "markdown",
   "metadata": {},
   "source": [
    "You would need to create `s` entirely from scratch. With such a small string, it's not a big deal. But sometimes you are dealing with strings with 100,000 characters, so creating new versions just to modify one character is very expensive $O(n)$, where $n$ is the size of the string.\n",
    "\n",
    "<p>\n",
    "\n",
    "As mentioned earlier, a majority of algorithm problems will involve an array or string. They are extremely versatile data structures and it's impossible to list all the relevant problem-solving techniques in one article. In the next few articles, we will go over the most common techniques.\n",
    "\n",
    "- **But first, let's take a quick look at the complexity of array and string operations.**"
   ]
  },
  {
   "cell_type": "markdown",
   "metadata": {},
   "source": [
    "## Two Pointers \n",
    "\n",
    "Two pointers is an extremely common technique used to solve array and string problems. It involves having two integer variables that both move along an iterable. This means we have two integers, usually named something like `i` and `j` or `left` and `right` which each represent an `index` of the array or string.\n",
    "\n",
    "\n",
    "<p>\n",
    "\n",
    "There are several ways to implement two pointers. To start, let's look at the following method: \n",
    "\n",
    "```\n",
    "Start the pointer at the edges of the input. Move them towards each other util they meet. \n",
    "```\n",
    "\n",
    "**Converting this idea into instructions:**\n",
    "1) Start one pointer at the first index `0` and the other pointer at the last index `input.length - 1`.\n",
    "\n",
    "2) Use a `while loop` until the pointers are equal to each other.\n",
    "\n",
    "3) At each iteration of the loop, move the pointers towards each other. This means either increment the pointer that start at the first index, decrement the pointer that started at the last index,, or both. Deciding which pointers to move will depend on the problem we are trying to solve. \n",
    "\n",
    "**Here's some pseudocode illustrating the concept:**\n",
    "\n",
    "```\n",
    "function fn(arr):\n",
    "    left = 0\n",
    "    right = arr.length - 1\n",
    "\n",
    "    while left < right:\n",
    "        Do some logic here depending on the problem\n",
    "        Do some more logic here to decide on one of the following:\n",
    "        1. Left ++\n",
    "        2. right --\n",
    "        3. Both left ++ and right --\n",
    "```\n",
    "\n",
    "- The strength of this technique is that we will never have more than $O(n)$ iterations for the while loop because the pointers start $n$ away from each other and move at least one step closer in every iteration. Therefore, if we can keep the work inside each iteration at $O(1)$, this technique will result in a linear runtime, which is usually the best possible runtime. Let's look at some example:\n",
    "\n",
    "<p>\n",
    "\n",
    "### Example 1:\n",
    "Given a string `s`, return `true` if it is a palindrome, `false` otherwise.\n",
    "\n",
    "A string is a palindrome if it reads the same forward as backward. That means, after reversing it, it is still the same string. For example: \"abcdcba\" or \"racecar\".\n",
    "\n",
    "After reversing a string, the first character becomes the last character. If a string is the same after being reversed, that means the first character is the same as the last character, the second character is the same as the second last character, and so on. We can use the two pointers technique here to check that all corresponding characters are equal. To start, we check the first and last characters using two separate pointers. To check the next pair of characters, we just need to move our pointers toward each other one position. We continue until the pointers meet each other or we find a mismatch.\n",
    "\n",
    "- **NOTE:** We keep track of two indices: a left one, and a right one. In the beginning, the left index points to the first character, and the right index points to the last character. If these characters are not equal to each other, we know the string can't be a palindrome, so we return false. Otherwise, the string may be a palindrome; we need to check the next pair. To move on to the next pair, we move the left index forward by one, and the right index backward by one. Again, we check if the pair of characters are equal, and if they aren't, we return false.\n",
    "\n",
    "- We continue this process until we either find a mismatch (in which case the string cannot be a palindrome, so we return false), or the pointers meet each other (which indicates we have gone through the entire string, checking all pairs). If we get through all pairs without a mismatch, we know the string is a palindrome, so we can return true.\n",
    "\n",
    "- To run the algorithm until the pointers meet each other, we can use a while loop. Each iteration in the while loop checks one pair. If the check is successful, we increment `left` and decrement `right` to move to the next pair. If the check is unsuccessful, we return false."
   ]
  },
  {
   "cell_type": "markdown",
   "metadata": {},
   "source": [
    "### Example 2:\n",
    "Given a **sorted** array of unique integers and a target integer, return `true` if there exists a pair of numbers that sum to target, `false` otherwise. This problem is similar to [Two Sum]. (In Two Sum, the input is not sorted).\n",
    "\n",
    "For example, given nums = [1, 2, 4, 6, 8, 9, 14, 15] and target = 13, return true because 4 + 9 = 13."
   ]
  },
  {
   "cell_type": "code",
   "execution_count": 59,
   "metadata": {},
   "outputs": [
    {
     "name": "stdout",
     "output_type": "stream",
     "text": [
      "The sum of 9 and 4 is: 13\n",
      "(2, 5)\n"
     ]
    }
   ],
   "source": [
    "def two_sum(nums, target):\n",
    "    # Create a dictionary to store the numbers we have seen and their indices\n",
    "    num_to_index = {}\n",
    "    \n",
    "    for index, num in enumerate(nums):\n",
    "        # Calculate the complement of the current number\n",
    "        complement = target - num\n",
    "        \n",
    "        # Check if the complement is in the dictionary\n",
    "        if complement in num_to_index:\n",
    "            print(f'The sum of {num} and {complement} is: {num + complement}')\n",
    "            return (num_to_index[complement], index)\n",
    "        \n",
    "        # Store the current number in the dictionary\n",
    "        num_to_index[num] = index\n",
    "    \n",
    "    # If no such pair is found\n",
    "    return None\n",
    "\n",
    "# Test function \n",
    "nums = [1, 2, 4, 6, 8, 9, 14, 15]\n",
    "result = two_sum(nums, target=13)\n",
    "print(result)"
   ]
  },
  {
   "cell_type": "markdown",
   "metadata": {},
   "source": [
    "The brute force solution would be to iterate over all pairs of integers. Each number in the array can be paired with another number, so this would result in a **time complexity** of $O(n^{2})$. \n",
    "\n",
    "- Because the array is sorted, we can use two pointers to improve to an $O(n)$ time complexity. To implement this algorithm, we use a similar process as in the previous `palindrome` example. We use a while a loop until the pointers meet each other. If at any point the sum is equal to the `target`, we can return true. If the pointers meet each other, it means we went through the entire input without finding `target`, so we return false. \n",
    "\n",
    "\n",
    "**Convert idea to instructions**\n",
    "- Assuming an array: [1, 2, 4, 6, 8, 9, 14, 15] with a target sum `13`\n",
    "1) With the two pointers, we start by looking at the first and last number\n",
    "2) Their sum is `1 + 15  = 16`. Because `16 > target`, we neet to make our current sum smaller and therefore need to move the right pointer.\n",
    "3) Now we have `1 + 14 = 15` - again this is greater than targer, we move the right pointer.\n",
    "4) Now we have `1 + 9 = 10` - Since this two small, we need to move the left pointer\n",
    "5) We have `2 + 9 = 11` which is smaller than the target. So we need to move the left pointer again\n",
    "6) Finally we have `4 + 9 = 13` - which is equal to the target. \n",
    "\n",
    "\n",
    "The reason the algorithm works is because we have a sorted array - so moving left pointer permanently increases the value, similarly - moving the right pointer permanently decreases the value. "
   ]
  },
  {
   "cell_type": "code",
   "execution_count": 65,
   "metadata": {},
   "outputs": [
    {
     "name": "stdout",
     "output_type": "stream",
     "text": [
      "The sum of 4 and 9 is 13, which is equal to target\n",
      "True\n"
     ]
    }
   ],
   "source": [
    "def check_for_target(num: list, target: int) -> int:\n",
    "    left = 0 \n",
    "    right = len(num) - 1\n",
    "\n",
    "    while left < right:\n",
    "        curr = num[left] + num[right] \n",
    "        if curr == target:\n",
    "            print(f'The sum of {num[left]} and {num[right]} is {curr}, which is equal to target')\n",
    "            return True \n",
    "        \n",
    "        if curr > target:\n",
    "            right -= 1\n",
    "        else:\n",
    "            left += 1\n",
    "    \n",
    "    return False\n",
    "\n",
    "# Test function \n",
    "nums = [1, 2, 4, 6, 8, 9, 14, 15]\n",
    "result = check_for_target(nums, target=13)\n",
    "print(result)"
   ]
  },
  {
   "cell_type": "markdown",
   "metadata": {},
   "source": [
    "### Another way to use two pointers \n",
    "This method where we start the pointers at the first and last indices and move them towards each other is only one way to implement two pointers. Algorithms are beautiful because of how abstract they are - \"two pointers\" is just an idea, and it can be implemented in many different ways. Let's look at another method and some new examples. The following method is capable when the problem has two iterables in the input, for example, two arrays. \n",
    "\n",
    "_Move along both input inputs simultaneously until all elements have been checked._\n",
    "\n",
    "**Converting  this idea into instructions:**\n",
    "1) Create two pointers, one for each iterable. Each pointer should start at the first index.\n",
    "2) Use a while loop until one of the pointers reached the end of its iterable.\n",
    "3) At each iteration of the loop, move the pointers forward. This means incrementing either one of the pointers or both of the pointers. Deciding which pointers to move will depend on the problem we are trying to solve. \n",
    "4) Because our while loop will stop when one of the pointers reaches the end, the other pointer will not be at the end of its respective iterable when the loop finishes. Sometimes, we need to iterate through all elements - if this is the case, you will need to write extra code here to make sure both iterables are exhausted. \n",
    "\n",
    "_Here's some pseudocode illustrating the concept:_\n",
    "\n",
    "```\n",
    "function fn(arr1, arr2):\n",
    "    i = j = 0\n",
    "    while i < arr1.length AND j < arr2.length:\n",
    "    Do some logic here depending on the problem \n",
    "    Do some more logic here to decide on one of the following:\n",
    "        1. i++\n",
    "        2. j++\n",
    "        3. Both i++ and j++\n",
    "\n",
    "// Step 4: make sure both iterables are exhausted \n",
    "// Note that only one of these loops would run while i < arr1.length:\n",
    "    Do some logic here depending on the problem i++\n",
    "\n",
    "while j < arr2.length:\n",
    "    Do some logic here depending on the problem j++\n",
    "```\n",
    "\n",
    "Similar to the first method we looked at, this method will have a linear time complexity of $O(n + m)$ if the work inside the while loop is $(1)$, where $n = arr1.length$ and $m = arr2.length$. This is because at every iteration, we move at least one pointer forward, and the pointer cannot be moved forward more than $n + m$ times without the arrays being exhausted. Let's look at some examples.\n",
    "\n",
    "\n",
    "### Example 3: \n",
    "\n",
    "Given two sorted integer arrays arr1 and arr2, return a new array that combines both of them and it is also sorted. \n",
    "\n",
    "\n",
    "* The trivial approach would be to first combine both input arrays and then perform a sort. If we have $n = arr1.length + arr2.length$, then this gives a time complexity of $O(n⋅logn)$ (the cost of sorting). This would be a good approach if the input arrays were not sorted, but because they are sorted, we can take advantage of the two pointers technique to improve to $O(n)$.\n",
    "\n",
    "* In the explanation prior to this example, we declared $n = arr1.length$ and $m = arr2.length$. Here, we are saying $n = arr1.length + arr2.length$. Why? Remember that when it comes to big $O$, we are allowed to define the variables as we see fit. We could certainly stick to using $n, m$. In that case, the time complexity of the sorting approach would be $O((n+m)⋅log(m+n))$ and the time complexity of the approach we are about to cover would be $O(n+m)$. It doesn't really make a difference, but one justification we could give here is that since we are combining the arrays, the total length is a significant number, so it makes sense to represent it as $n$.\n",
    "\n",
    "* We can build the answer array as $ans$ one element at a time. Start two pointers at the first index of each array, and compare their elements. At each iteration, we have 2 values. Whichever value is lower needs to come first in the answer, so add it to the answer and move the respective pointer. \n",
    "\n",
    "**Explanation**\n",
    "* Sorting an array of length $n$ costs $O(n. log n)$. We can improve the time complexity by a factor of $log n$ by taking advantage of the input arrays already being sorted. \n",
    "\n",
    "* If we start with the smallest number from each array, then whichever one is smaller must be before the other one - so we add it to the answer and move to the next number in that array. If the values are equal, it doesn't matter which one we choose - we can arbitrarily choose either. This process can be repeated until one of the arrays runs out of numbers.\n",
    "\n",
    "* When this happens, we are still left with some numbers in the other array. These numbers are all larger than the largest number in the exhausted array. We should just append them to the answer."
   ]
  },
  {
   "cell_type": "code",
   "execution_count": null,
   "metadata": {},
   "outputs": [],
   "source": [
    "def combine(arr1: list[int], arr2: list[int]) -> list[int]:\n",
    "    ans = []\n",
    "    i = j = 0\n",
    "\n",
    "    while i < len(arr1) and j < len(arr2):\n",
    "        if arr1[i] < arr2[j]:\n",
    "            ans.append(arr1[i])\n",
    "            i += 1\n",
    "        else:\n",
    "            ans.append(arr2[j])\n",
    "            j += 1\n",
    "\n",
    "    while i < len(arr1):\n",
    "        ans.append(arr1[i])\n",
    "        i += 1\n",
    "    while j < len(arr2):\n",
    "        ans.append(arr2[j])\n",
    "        j += 1\n",
    "\n",
    "    return ans"
   ]
  },
  {
   "cell_type": "markdown",
   "metadata": {},
   "source": [
    "* Like in the previous two examples, this algorithm has a time complexity of $O(n)$ and uses $O(1)$ space (if we don't count the output as extra space, which we usually don't)\n",
    "\n",
    "### Example 4: Is Subsequence \n",
    "Given two strings `s` and `t`, return true if `s` is a subsequence of `t` or false otherwise.\n",
    "\n",
    "A subsequencce of a string is a sequence of characters that can be obtained by deleting some (or none) of the characters from the original string, while maintaining the relative order of the remaining characters. For example, \"ace\" is a subsequence of \"abcde\" while \"aec\" is not.\n",
    "\n",
    "In this problem, we need to check if the characters of `s` appear in the same order in `t` with gaps allowed. For example, \"ace\" is a subsequence of \"abcde\" because \"abcde\" contains the letters \"ace\" in the same order - the fact that they aren't consecutive doesn't matter.\n",
    "\n",
    "We can use two pointers to solve this in linear time. If we find that s[i] == t[j], that means we \"found\" the letter at position `i` for `s` and we can move on to the next one by incrementing `i`. We should increment `j` at each iteration no matter what (which means we could also implement this algorithm using a for loop). `s` is a subsequence of `t` if we can \"find\" all the letters of `s`, which means that `i == s.length` at the end of the algorithm. \n",
    "\n",
    "#### Further Explanation\n",
    "</p>\n",
    "\n",
    "For every character in `s`, we need to find a match in `t`. Let's say we have $s = \"bc\"$ and $t = \"abcd\"$. Using the two pointers technique, we start by looking at the first character in both strings.\n",
    "\n",
    "We need to try and match the first character of s, which is $\"b\"$. The first character of $t$ is $\"a\"$, which is not a match. As such, we will move to the next character in $t$. We don't move forward in s just yet, because we still need to match the $\"b\"$. The next character of $t$ is $\"b\"$, and we have found $a$ match. Now, we can move on to the next character in $s$, which is the $\"c\"$. A character in $t$ can only be matched once, so we must also move forward in $t$. Now, we have another match since the next character in $t$ is also $\"c\"$.\n",
    "\n",
    "We have managed to match all the characters in $s$, which means that $s$ is a subsequence of $t$.\n",
    "\n",
    "As you can see, in both scenarios (match or mismatch), we move forward in $t$. In the match scenario, it's because we can't use a letter in $t$ multiple times. In the mismatch scenario, it's like we're discarding the character since it's not useful. We only move forward in s when we find a match, since our task is to match all characters in $s$."
   ]
  },
  {
   "cell_type": "code",
   "execution_count": 20,
   "metadata": {},
   "outputs": [
    {
     "name": "stdout",
     "output_type": "stream",
     "text": [
      "string a is a match with string a\n",
      "string c is a match with string c\n",
      "string e is a match with string e\n",
      "True\n"
     ]
    }
   ],
   "source": [
    "def is_subsequence(str1, str2):\n",
    "    is_substr = ''\n",
    "    i = j = 0\n",
    "\n",
    "    while i < len(str1) and j < len(str2):\n",
    "        if str1[i] == str2[j]:\n",
    "            print(f\"string {str1[i]} is a match with string {str2[j]}\")\n",
    "            i += 1\n",
    "\n",
    "        j += 1\n",
    "\n",
    "    return i == len(str1) # we have a match only if all the characters have been exhausted and matches the lenght of str1\n",
    "\n",
    "\n",
    "#Test Functions \n",
    "str1 = 'ace'\n",
    "str2 = 'abcde'\n",
    "\n",
    "func = is_subsequence(str1, str2)\n",
    "print(func)\n"
   ]
  },
  {
   "cell_type": "markdown",
   "metadata": {},
   "source": [
    "* Just like all the prior examples, this solution uses $O(1)$ space. The time complexity is linear with  the length of `str1` and `str2`. "
   ]
  },
  {
   "cell_type": "code",
   "execution_count": 18,
   "metadata": {},
   "outputs": [
    {
     "name": "stdout",
     "output_type": "stream",
     "text": [
      "['__add__', '__class__', '__contains__', '__delattr__', '__dir__', '__eq__', '__format__', '__ge__', '__getattribute__', '__getitem__', '__getnewargs__', '__getstate__', '__gt__', '__hash__', '__init__', '__init_subclass__', '__iter__', '__le__', '__len__', '__lt__', '__mod__', '__mul__', '__ne__', '__new__', '__reduce__', '__reduce_ex__', '__repr__', '__rmod__', '__rmul__', '__setattr__', '__sizeof__', '__str__', '__subclasshook__', 'capitalize', 'casefold', 'center', 'count', 'encode', 'endswith', 'expandtabs', 'find', 'format', 'format_map', 'index', 'isalnum', 'isalpha', 'isascii', 'isdecimal', 'isdigit', 'isidentifier', 'islower', 'isnumeric', 'isprintable', 'isspace', 'istitle', 'isupper', 'join', 'ljust', 'lower', 'lstrip', 'maketrans', 'partition', 'removeprefix', 'removesuffix', 'replace', 'rfind', 'rindex', 'rjust', 'rpartition', 'rsplit', 'rstrip', 'split', 'splitlines', 'startswith', 'strip', 'swapcase', 'title', 'translate', 'upper', 'zfill']\n"
     ]
    }
   ],
   "source": [
    "methods = [method for method in dir(str) if callable(getattr(str, method))]\n",
    "print(methods)"
   ]
  },
  {
   "cell_type": "code",
   "execution_count": 21,
   "metadata": {},
   "outputs": [
    {
     "name": "stdout",
     "output_type": "stream",
     "text": [
      "['__add__', '__class__', '__class_getitem__', '__contains__', '__delattr__', '__delitem__', '__dir__', '__eq__', '__format__', '__ge__', '__getattribute__', '__getitem__', '__getstate__', '__gt__', '__iadd__', '__imul__', '__init__', '__init_subclass__', '__iter__', '__le__', '__len__', '__lt__', '__mul__', '__ne__', '__new__', '__reduce__', '__reduce_ex__', '__repr__', '__reversed__', '__rmul__', '__setattr__', '__setitem__', '__sizeof__', '__str__', '__subclasshook__', 'append', 'clear', 'copy', 'count', 'extend', 'index', 'insert', 'pop', 'remove', 'reverse', 'sort']\n",
      "Help on built-in function append:\n",
      "\n",
      "append(object, /) method of builtins.list instance\n",
      "    Append object to the end of the list.\n",
      "\n",
      "Help on built-in function reverse:\n",
      "\n",
      "reverse() method of builtins.list instance\n",
      "    Reverse *IN PLACE*.\n",
      "\n"
     ]
    }
   ],
   "source": [
    "lst_methods = [method for method in dir(list) if callable(getattr(list, method))]\n",
    "\n",
    "print(lst_methods)\n",
    "help(lst_methods.append)\n",
    "help(lst_methods.reverse)"
   ]
  },
  {
   "cell_type": "code",
   "execution_count": 11,
   "metadata": {},
   "outputs": [
    {
     "name": "stdout",
     "output_type": "stream",
     "text": [
      "['__class__', '__class_getitem__', '__contains__', '__delattr__', '__delitem__', '__dir__', '__eq__', '__format__', '__ge__', '__getattribute__', '__getitem__', '__getstate__', '__gt__', '__init__', '__init_subclass__', '__ior__', '__iter__', '__le__', '__len__', '__lt__', '__ne__', '__new__', '__or__', '__reduce__', '__reduce_ex__', '__repr__', '__reversed__', '__ror__', '__setattr__', '__setitem__', '__sizeof__', '__str__', '__subclasshook__', 'clear', 'copy', 'fromkeys', 'get', 'items', 'keys', 'pop', 'popitem', 'setdefault', 'update', 'values']\n"
     ]
    }
   ],
   "source": [
    "dict_methods = [method for method in dir(dict) if callable(getattr(dict, method))]\n",
    "print(dict_methods)"
   ]
  },
  {
   "cell_type": "markdown",
   "metadata": {},
   "source": [
    "## Sliding Window\n",
    "Like **two pointers**, sliding windows work the same with arrays and strings - the important thing is that they're iterables with ordered elements. For the sake of brevity, the first part of this article up until the examples will be focusing on **arrays**. However, all the logic is identical for strings. \n",
    "\n",
    "Sliding window is another common approach to solving problems related to arrays. A sliding window is actually implemented using **two pointers**! Before we start, we need to talk about the concept of a **subarray**. \n",
    "\n",
    "#### Subarrays\n",
    "Givern an array, a **subarray** is a contiguous section of the array. All the elements must be adjacent to each other in the original array and in their original order. For example, with the array `[1, 2, 3, 4]`, the subarrays (grouped by length) are:\n",
    "\n",
    "- [1], [2], [3], [4]\n",
    "- [1, 2], [2, 3], [3, 4]\n",
    "- [1, 2, 3], [2, 3, 4]\n",
    "- [1, 2, 3, 4]\n",
    "\n",
    "**A subarray can be defined by two indices, the start and end**. For example, with `[1, 2, 3, 4]`, the subarray `[2, 3]` has a starting index of `1` and an ending index of `2`. Let's call the starting index the **left bound** and the ending index the **right bound**. Another name for subarray in this context is `\"window\"`.\n",
    "\n",
    "**When should we use sliding window?**\n",
    "\n",
    "There is a very common group of problems involving subarrays that can be solved efficiently with sliding window. Let's talk about how to identify this problems.\n",
    "\n",
    "- **first**, the problem will either explicitly or implicitly define criteria that make a subarray \"valid\". There are 2 components regarding what makes a subarray valid:\n",
    "\n",
    "1) A constraint metric. This is some attribute of a subarray. It could be the sum, the number of unique elements, the frequency of a specific element, or any other attribute.\n",
    "\n",
    "</p>\n",
    "\n",
    "2) A numeric restriction on the constraint metric. This is what the constraint metric should be for a subarray to be considered valid.\n",
    "\n",
    "**For example**, let's say a problem declares a subarray is valid if it has a sum less than or equal to `10`. The constraint metric here is the sum of the subarray, and the numeric restriction is `<= 10`. A subarray is considered valid if its constraint metric conforms to the numeric restriction, i.e. the sum is less than or equal to `10`.\n",
    "\n",
    "- **Second**, the problem will ask you to find valid subarrays in some way.\n",
    "\n",
    "1) The most common task you will see is finding the best valid subarray. The problem will define what makes a subarray better than another. For example, a problem might ask you to find the **longest** valid subarray. \n",
    "\n",
    "</p>\n",
    "\n",
    "2) Another common task is finding the number of valid subarrays. We will take a look at this later in the article. \n",
    "\n",
    "```\n",
    "Whenever a problem description talks about subarrays, you should figure out if sliding window is a good option by analyzing the problem description. If you can find the things mentioned above, then it's a good bet.\n",
    "```\n",
    "Here is a preview of some of the example problems that we will look at in this article, to help you better understand what sliding window problems look like:\n",
    "\n",
    "* Find the longest subarray with a sum less than or equal to `k`\n",
    "* Find the longest substing that has at most one `0`\n",
    "* Find the number of the subarrays that have a product less than `k`\n",
    "\n",
    "#### The algorithm\n",
    "\n",
    "The idea behind a sliding window is to consider **only** valid subarrays. Recall that a subarray can be defined by a left bound (the index of the first element) and a right bound (the index of the last element). In sliding window, we maintain two variables `left` and `right`, which at any given time represent the **current subarray** under consideration.\n",
    "\n",
    "Initially, we have `left = right = 0`, which means that the first subarray we look at is just the first element of the array on its own. We want to expand the size of our `\"window\"`, and we do that by incrementing `right`. When we increment `right`, this is like \"adding\" a new element to our window.\n",
    "\n",
    "But what if after adding a new element, the subarray becomes invalid? We need to \"remove\" some elements from our window until it becomes valid again. To \"remove\" elements, we can increment `left`, which shrinks our window.\n",
    "\n",
    "As we add and remove elements, we are `\"sliding\"` our window along the input from left to right. The window's size is constantly changing - it grows as large as it can until it's invalid, and then it shrinks. However, it always slides along to the right, until we reach the end of the input.\n",
    "\n",
    "To explain why this algorithm works, let's look at a specific example. Let's say that we are given a positive integer array `nums` and an integer `k`. We need to find the length of the longest subarray that has a sum less than or equal to `k`. For this example, let `nums = [3, 2, 1, 3, 1, 1]` and `k = 5`.\n",
    "\n",
    "Initially, we have `left = right = 0`, so our window is only the first element: `[3]`. Now, let's expand to the right until the constraint is broken. This will occur when `left = 0`, `right = 2`, and our window is: `[3, 2, 1]`. The sum here is `6`, which is greater than `k`. We must now shrink the window from the left until the constraint is no longer broken. After removing one element, the window becomes valid again: `[2, 1]`.\n",
    "\n",
    "Why is it correct to remove this `3` and forget about it for the rest of the algorithm? Because the input only has positive integers, a longer subarray directly equals a larger sum. We know that `[3, 2, 1]` already results in a sum that is too large. There is no way for us to ever have a valid window again if we keep this `3` because if we were to add any more elements from the right, the sum would only get larger. That's why we can forget about the `3` for the rest of the algorithm.\n",
    "\n",
    "#### Implementation \n",
    "Now that you have an idea of how sliding window works, let's talk about how to implement it. For this section, we will use the previous example (find the longest subarray with a sum less than or equal to `k`).\n",
    "\n",
    "As described above, we need to identify a **constraint metric**. In our example, the constraint metric is the sum of the window. How do we keep track of the sum of the window as elements are added and removed? One way that we could do it is by keeping the window in a separate array. When we add elements from the right, we add them to our array. When we remove elements from the left, we remove the corresponding elements from the array. This way, we can always find the sum of our current window just by summing the elements in the separate array.\n",
    "\n",
    "This is very inefficient as removing elements and finding the sum of the window will be $O(n)$ operations. How can we do better?\n",
    "\n",
    "We don't actually need to store the window in a separate array. All we need is some variable, let's call it curr, that keeps track of the current sum. When we add a new element from the right, we just do `curr += nums[right]`. When we remove an element from the left, we just do `curr -= nums[left]`. This way, all operations are done in $O(1)$.\n",
    "\n",
    "Next, how do we move the pointers `left` and `right?` Remember, we want to keep expanding our window, and the window always slides to the right - it just might shrink a few times in between. Because `right` is always moving forward, we can use a `for loop` to iterate right over the input. In each iteration of the `for loop`, we will be `adding the element nums[right] to our window`.\n",
    "\n",
    "What about `left?` When we move `left`, we are shrinking our window. We only shrink our window when it becomes invalid. By maintaining `curr`, we can easily tell if the current window is valid by checking the condition `curr <= k`. When we add a new element and the window becomes invalid, we may need to remove multiple elements from the left. For example, let's say `nums = [1, 1, 1, 3]` and `k = 3`. When we arrive at the `3` and add it to the window, the window becomes invalid. We need to remove three elements from the left before the window becomes valid again.\n",
    "\n",
    "This suggests that we should use a while loop to perform the removals. The condition will be `while (curr > k)` (while the window is invalid). To perform the removals, we do `curr -= nums[left]` and then increment `left` in each iteration of the while loop.\n",
    "\n",
    "Finally, how do we update the answer? In each `for loop iteration`, after the `while loop`, the current window is valid. We can write code here to update the answer. **The formula for the length of a window is right - left + 1**.\n",
    "\n",
    "\n",
    "- Here's some pseudocode that puts it all together:\n",
    "\n",
    "```\n",
    "function fn(nums, k):\n",
    "    left = 0\n",
    "    curr = 0\n",
    "    answer = 0\n",
    "    for (int right = 0; right < nums.length; right++):\n",
    "        curr += nums[right]\n",
    "        while (curr > k):\n",
    "            curr -= nums[left]\n",
    "            left++\n",
    "\n",
    "        answer = max(answer, right - left + 1)\n",
    "\n",
    "    return answer\n",
    "```\n",
    "\n",
    "* Here's some pseudocode for a general template:\n",
    "\n",
    "```\n",
    "function fn(arr):\n",
    "    left = 0\n",
    "    for (int right = 0; right < arr.length; right++):\n",
    "        Do some logic to \"add\" element at arr[right] to window\n",
    "\n",
    "        while WINDOW_IS_INVALID:\n",
    "            Do some logic to \"remove\" element at arr[left] from window\n",
    "            left++\n",
    "\n",
    "        Do some logic to update the answer\n",
    "```\n",
    "### Why is Sliding window efficient ?\n",
    "\n",
    "For any array, how many subarrays are there? If the array has a length of `n`, there are `n` subarrays of length `1`. Then there are `n - 1` subarrays of length `2` (every index except the last one can be a starting index), `n - 2` subarrays of length `3` and so on until there is only `1` subarray of length `n`. This means there are $\\sum_{k=1}^{n}k=\\frac{n.(n+1)}{2}$ subarrays (it's the partial sum of this [series](https://en.wikipedia.org/wiki/1_%2B_2_%2B_3_%2B_4_%2B_%E2%8B%AF#Partial_sums)). In terms of time complexity, any algorithm that looks at every subarray will be at least $O(n^2)$, which is usually too slow. A sliding window guarantees a maximum of $2n$ window iterations - the right pointer can move $n$ times and the left pointer can move $n$ times. This means if the logic done for each window is $O(1)$, sliding window algorithms run in $O(n)$, which is **much** faster.\n",
    "\n",
    "* You may be thinking: there is a while loop inside of the for loop, isn't the time complexity $O(n^2)$? The reason it is still $O(n)$ is that the while loop can only iterate $n$ times in total for the entire algorithm (`left` starts at $0$, only increases, and never exceeds `n`). If the while loop were to run `n` times on one iteration of the for loop, that would mean it wouldn't run at all for all the other iterations of the for loop. This is what we refer to as [amortized analysis](https://en.wikipedia.org/wiki/Amortized_analysis) - even though the worst case for an iteration inside the for loop is $O(n)$, it averages out to $O(1)$ when you consider the entire runtime of the algorithm.\n",
    "\n",
    "- Now let's look at some sliding window examples.\n",
    "\n",
    "#### Example 1:\n",
    "\n",
    "Given an array of positive integers `nums` and an integer `k`, find the length of the longest subarray whose sum is less than or equal to `k`. This is the problem we have been talking about above. We will now formally solve it.\n",
    "\n",
    "Let's use an integer `curr` that tracks the `sum` of the current window. Since the problem wants subarrays whose sum is less than or equal to `k`, we want to maintain `curr <= k`. Let's look at an example where `nums = [3, 1, 2, 7, 4, 2, 1, 1, 5`] and `k = 8`.\n",
    "\n",
    "The window starts empty, but we can grow it to `[3, 1, 2]` while maintaining the constraint. However, after adding the `7`, the window's sum becomes too large. We need to tighten the window until the sum is below `8` again, which doesn't happen until our window looks like `[7]`. When we try to add the next element, our window again becomes too large, and we need to remove the `7` which means we have `[4]`. We can now grow the window until it looks like `[4, 2, 1, 1]`, but adding the next element makes the sum too large. We remove elements from the left until it fits the constraint again, which happens at `[1, 1, 5]`. The longest subarray we found was `[4, 2, 1, 1]` which means the answer is `4`.\n",
    "\n",
    "When we add an element to the window by moving the right bound, we just do `curr += value`. When we remove an element from the window by moving the left bound, we just do `curr -= value.` We should remove elements so long as `curr > k`.\n",
    "\n",
    "**More detailed explanation**\n",
    "\n",
    "To summarize what each variable does in the code:\n",
    "\n",
    "* `left`: the leftmost index of our current window\n",
    "* `right`: the rightmost index of our current window\n",
    "* `curr`: the sum of our current window\n",
    "* `ans`: the length of the longest valid window we have seen so far\n",
    "\n",
    "Iterate `right` over the input to add elements to the window. Update `curr` by adding `nums[right]` to it. When the window becomes invalid `(curr > k)`, remove elements from the window by subtracting `nums[left]` from `curr`. Then increment `left`. We need to do this until the window becomes valid again, so we use a while loop.\n",
    "\n",
    "The size of a window is `right - left + 1`. Update our answer only when the window becomes valid.\n",
    "\n",
    "\n",
    "### Let's programme the sliding window example"
   ]
  },
  {
   "cell_type": "code",
   "execution_count": null,
   "metadata": {},
   "outputs": [],
   "source": [
    "def find_length(nums: list[int], k: int) -> int:\n",
    "    #let's start by initializing our pointers with the left, curr and ans - all starts from zero\n",
    "    # curr is the current sum of the window \n",
    "    left = curr = ans = 0\n",
    "    #next we interate over the input \n",
    "    for right in range(len(nums)):\n",
    "        curr += nums[right] #At each number we add the number to our current window by incrementing our current window sum by that value\n",
    "        #Next we will check as long as the constraint is broken - as long as the sum is greater than the element \n",
    "        while curr > k:\n",
    "            curr -= nums[left] # we remove the value from the left and then increment left pointer to the right. So this will shrink our window\n",
    "            left += 1\n",
    "\n",
    "        #Now once we know that our constraint is no longer broken, we will update our ans and the length of our window\n",
    "        ans = max(ans, right - left + 1)\n",
    "\n",
    "    return ans\n"
   ]
  },
  {
   "cell_type": "markdown",
   "metadata": {},
   "source": [
    "* Given a subarray **starting at left and ending at right, the length is `right - left + 1`**. As mentioned before, this algorithm has a time complexity of $O(n)$ since all work done inside the for loop is amortized $O(1)$, where \n",
    "`n` is the length of nums. The space complexity is constant because we are only using 3 integer variables.\n",
    "\n",
    "#### Example 2\n",
    "You are given a binary string `s` (a string containing only 0\" and \"1\"). You may choose up to one \"0\" and flip it to a \"1\". What is the length of the longest substring achievable that contains only \"1\" ?\n",
    "\n",
    "For example, given s = \"1101100111\", the answer is \"5\". If you perform the flip at index `2`, the string becomes `1111100111`.\n",
    "\n",
    "For example, given `s = \"1101100111\"`, the answer is `5`. If you perform the flip at index `2`, the string becomes `1111100111`.\n",
    "\n",
    "Because the string can only contain `\"1\"` and `\"0\"`, another way to look at this problem is \"what is the longest substring that contains **at most one** `\"0\"`?. This makes it easy for us to solve with a sliding window where our condition is `window.count(\"0\") <= 1`. We can use an integer `curr` that keeps track of how many `\"0\"` we currently have in our window.\n",
    "\n",
    "**Further explanation**\n",
    "The input can only contain `\"1\"` or `\"0\"`. We want to find the max consecutive `\"1\"`. Because any element that isn't a `\"1\"` is a `\"0\"`, this problem is equivalent to \"what is the longest substring with at most one `\"0\"`, since we could just flip that `\"0\"` and it's guaranteed every other character in the substring would be a `\"1\"`.\n",
    "\n",
    "Notice that the problem is asking for the length of a substring, and also has defined what makes a substring valid. The constraint metric is \"how many `0s` are in the substring\". The numeric restriction is `<= 1`. Therefore, if we use an integer `curr` to track the constraint metric, the condition to determine if a window is valid is `curr <= 1`.\n",
    "\n",
    "We can use the exact same process as in the previous example now. We iterate over the elements with a pointer `right`. At each element, if `s[right]` is equal to `\"1\"`, we don't need to do anything. If it's equal to `\"0\"`, we increment `curr`.\n",
    "\n",
    "Whenever the window becomes invalid `(curr > 1)`, we remove elements from the left. If `s[left] == \"0\"`, then we can decrement `curr`. We increment `left` to remove elements.\n",
    "\n",
    "Again, the size of a window is `right - left + 1`. We update our answer with this value after the `while loop` because the window is guaranteed to be valid."
   ]
  },
  {
   "cell_type": "code",
   "execution_count": 25,
   "metadata": {},
   "outputs": [],
   "source": [
    "def find_length(s: str) -> int:\n",
    "    \"\"\" \n",
    "    \"\"\"\n",
    "    #define the pointers \n",
    "    left = curr = ans = 0\n",
    "\n",
    "    for right in range(len(s)):\n",
    "        if s[right] == \"0\":\n",
    "            curr += 1\n",
    "        \n",
    "        while curr > 1:\n",
    "            if s[left] == \"0\":\n",
    "                curr -= 1\n",
    "            left += 1\n",
    "\n",
    "        ans = max(ans, right - left + 1)\n",
    "\n",
    "    return ans \n"
   ]
  },
  {
   "cell_type": "markdown",
   "metadata": {},
   "source": [
    "Like the previous example, this problem runs in $O(n)$ time, where \n",
    "$n$ is the length of `s`, as the work done in each loop iteration is **amortized** constant. Only a few integer variables are used as well, which means this algorithm uses \n",
    "$O(1)$ space.\n",
    "\n",
    "#### Number of subarrays \n",
    "If a problem asks for the number of subarrays that fit some constraint, we can still use sliding window, but we need to use a neat math trick to calculate the number of subarrays.\n",
    "\n",
    "Let's say that we are using the sliding window algorithm we have learned and currently have a window `(left, right)`. How many valid windows **end** at index `right`?\n",
    "\n",
    "There's the current window `(left, right)`, then `(left + 1, right)`, `(left + 2, right)`, and so on until `(right, right)` (only the element at `right`).\n",
    "\n",
    "You can fix the right bound and then choose any value between `left` and `right` inclusive for the left bound. Therefore, the number of valid windows **ending** at index `right` is equal to the size of the window, which we know is `right - left + 1`.\n",
    "\n",
    "### Example 3: Subarray Product Less Than K\n",
    "Given an array of positive integers `nums` and an integer `k`, return the number of subarrays where the product of all the elements in the subarray is strictly less than `k`. \n",
    "\n",
    "For example, given the input `nums = [10, 5, 2, 6], k = 100`, the answer is `8`. The subarrays with products less than `k` are:\n",
    "\n",
    "`[10], [5], [2], [6], [10, 5], [5, 2], [2, 6], [5, 2, 6]`\n",
    "\n",
    "To demonstrate the property we have just learned, let's look at the example in the description. When we reach index `2`, the product becomes too large, so we need to remove the leftmost element `10`. Now, the window is valid, and it has a length of `2`. That means that there are `2` valid subarrays that end here (`[2]` and `[5, 2]`).\n",
    "\n",
    "Recall that in the previous examples, we updated the answer (longest length) after the while loop, when the window must be valid. Here, we can add the current size of the window to our answer instead. The constraint that determines if a window is valid is that the product is less than `k`.\n",
    "\n",
    "Additionally, note that if `k <= 1` we can never have any valid windows, so we can just return `0` immediately.\n",
    "\n",
    "**Further Explanation**\n",
    "The constraint metric is: product of the window. The numeric restriction is `< k`. If we use an integer `curr` to represent the current product of the window, the condition that makes a window invalid is `curr >= k`. \n",
    "\n",
    "Add elements to the window with `curr *= nums[right]`. Remove them with `curr /= nums[left]`.\n",
    "\n",
    "After the while loop, we know the window is valid. Add the window size `right - left + 1` to our answer. "
   ]
  },
  {
   "cell_type": "code",
   "execution_count": null,
   "metadata": {},
   "outputs": [],
   "source": [
    "class Solution:\n",
    "    def numSubarrayProductLessThanK(self, nums: list[int], k: int) -> int:\n",
    "        if k <= 1:\n",
    "            return  0\n",
    "        \n",
    "        ans = left = 0\n",
    "        curr = 1 # since we are dealing with product, this can't be zero \n",
    "\n",
    "        for right in range(len(nums)):\n",
    "            curr *= nums[right]\n",
    "            while curr >= k:\n",
    "                curr //= nums[left]\n",
    "                left += 1\n",
    "\n",
    "            ans += right - left + 1 #add to ans to get the number of subarrays with product less than K\n",
    "        \n",
    "        return ans  "
   ]
  },
  {
   "cell_type": "markdown",
   "metadata": {},
   "source": [
    "Again, the work done in each loop iteration is amortized constant, so this algorithm has a runtime of $O(n)$, where $n$ is the length of `nums`, and $O(1)$ space.\n",
    "\n",
    "\n",
    "### Fixed window size \n",
    "In the example we looked at above, our window size was dynamic. We tried to"
   ]
  }
 ],
 "metadata": {
  "kernelspec": {
   "display_name": "test",
   "language": "python",
   "name": "test"
  },
  "language_info": {
   "codemirror_mode": {
    "name": "ipython",
    "version": 3
   },
   "file_extension": ".py",
   "mimetype": "text/x-python",
   "name": "python",
   "nbconvert_exporter": "python",
   "pygments_lexer": "ipython3",
   "version": "3.11.5"
  }
 },
 "nbformat": 4,
 "nbformat_minor": 2
}

{
 "cells": [
  {
   "cell_type": "markdown",
   "metadata": {},
   "source": [
    "### System Design Thinking \n",
    "\n",
    "<img width=\"823\" alt=\"System Design Thinking\" src=\"https://github.com/user-attachments/assets/49af07fb-992a-4d2e-bf4d-b3ab9e7a872f\">"
   ]
  },
  {
   "cell_type": "markdown",
   "metadata": {},
   "source": [
    "### Find the top K-most popular videos on YouTube at the moment:\n",
    "\n",
    "**First we write down:** - **Funtional Requirements**\n",
    "\n",
    "We want our request to return list of top-k heavy hitters:\n",
    "\n",
    "* topk(k, startTime, endTime)\n",
    "\n",
    "\n",
    "**Second, we discuss the:** - **Non-Funcational Requirements**\n",
    "\n",
    "We should consider these things:\n",
    "\n",
    "* Scalable (Scales out together with increasing amiunt of data: video, tweets, posts etc.)\n",
    "\n",
    "* High Available (survives hardware/network failure, no single point of failure)\n",
    "\n",
    "* High Performance (few  tens of milliseconds to return top 100 list)\n",
    "\n",
    "* Accurate (as accurate as we can get)"
   ]
  },
  {
   "cell_type": "markdown",
   "metadata": {},
   "source": [
    "#### Hash Table, Single Host Solution\n",
    "\n",
    "**Top k algorithm implementation**: **Single Host Solution**"
   ]
  },
  {
   "cell_type": "code",
   "execution_count": null,
   "metadata": {
    "vscode": {
     "languageId": "javascript"
    }
   },
   "outputs": [],
   "source": [
    "public list < HeavyHitter > topK(String[], events, int k) {\n",
    "    Map < String, Integer > frequencyTable = new HashMap < String, Integer > ();\n",
    "    for (String event : events) {\n",
    "        frequencyTable.put(event, frequencyTable.getOrDefault(event, 0) + 1);\n",
    "    }\n",
    "    PriorityQueue < HeavyHitter > heap = \n",
    "    new PriorityQueue < HeavyHitter > (Comparator.comparing(e -> e.getFrequency()));\n",
    "\n",
    "    for (Map.Entry < String, Integer > entry : frequencyTable.entrySet()) {\n",
    "        heap.offer(new HeavyHitter(entry.getKey(), entry.getValue()));\n",
    "\n",
    "        if (heap.size() > k) {\n",
    "            heap.pop();\n",
    "        }\n",
    "    }\n",
    "    List < HeavyHitter > result = new ArrayList < HeavyHitter > ();\n",
    "    while (heap.size() > 0) {\n",
    "        result.add(heap.poll());\n",
    "    }\n",
    "    return result; \n",
    "}"
   ]
  },
  {
   "cell_type": "markdown",
   "metadata": {},
   "source": [
    "**Python Implementation of top-k algorithm**"
   ]
  },
  {
   "cell_type": "code",
   "execution_count": 6,
   "metadata": {},
   "outputs": [
    {
     "name": "stdout",
     "output_type": "stream",
     "text": [
      "[(banana, 3), (apple, 2)]\n"
     ]
    }
   ],
   "source": [
    "import heapq\n",
    "from collections import defaultdict\n",
    "\n",
    "class HeavyHitters:\n",
    "    def __init__(self, event, freqency):\n",
    "        self.event = event \n",
    "        self.frequency = freqency\n",
    "\n",
    "    def __lt__(self, other):\n",
    "        return self.frequency < other.frequency \n",
    "\n",
    "    def get_event(self):\n",
    "        return self.event \n",
    "\n",
    "    def get_frequency(self):\n",
    "        return self.frequency\n",
    "\n",
    "    def __repr__(self):\n",
    "        return f\"({self.event}, {self.frequency})\"\n",
    "\n",
    "def topK(events, k):\n",
    "    #Step 1: Build frequency table \n",
    "    frequency_table = defaultdict(int)\n",
    "\n",
    "    for event in events:\n",
    "        frequency_table[event] += 1\n",
    "\n",
    "    #Step 2: Use a min-heap to store top k heavy hitters \n",
    "    heap = []\n",
    "\n",
    "    for event, frequency in frequency_table.items():\n",
    "        heavy_hitters = HeavyHitters(event, frequency)\n",
    "        heapq.heappush(heap, heavy_hitters)\n",
    "\n",
    "        #If the heap exceeds size k, remove the smallest elements\n",
    "        if len(heap) > k:\n",
    "            heapq.heappop(heap)\n",
    "\n",
    "    # Step 3: Extract the top k heavy hitters from the heap \n",
    "    result = []\n",
    "    while heap:\n",
    "        result.append(heapq.heappop(heap))\n",
    "\n",
    "    #Since we ued a min-heap, the results are in ascending order, we reverse it \n",
    "    result.reverse()\n",
    "\n",
    "    return result\n",
    "\n",
    "#Test Example \n",
    "if __name__ == '__main__':\n",
    "    events = [\"apple\", \"banana\", \"apple\", \"orange\", \"banana\", \"banana\", \"grape\"]\n",
    "    k = 2\n",
    "    result = topK(events, k)\n",
    "    print(result)\n"
   ]
  },
  {
   "cell_type": "markdown",
   "metadata": {},
   "source": [
    "**Explanation**\n",
    "\n",
    "1) Step 1: A frequency table `frequency_table` is built using the `defaultdict` to store the occurrence of each event.\n",
    "\n",
    "2) Step 2: A min-heap `heap` is used to keep track of top `k` events. This is done by pushing each event into the heap and popping the smallest (least frequent) wvent when the heap exceeds size k.\n",
    "\n",
    "3) Step 3: The to `k` heavy hitters are extracted from the heap and stored in the result list. Since the heap gives the smallest element first, we reverse the list to the events in descending order of frequency.\n",
    "\n",
    "**Overall Time & Space Complexity**\n",
    "\n",
    "- **Time Comp;exity:** $O(n + mlog k) = O(nlogk)$\n",
    "\n",
    "- **Space Complexity:** $O(m + k) = O(n + k)$\n",
    "\n",
    "**Single Host Solution** was easy to build but the problem with this solution is that it is not scalable."
   ]
  },
  {
   "cell_type": "markdown",
   "metadata": {},
   "source": [
    "### Hash Table, Multiple Hosts"
   ]
  },
  {
   "cell_type": "code",
   "execution_count": null,
   "metadata": {},
   "outputs": [],
   "source": []
  }
 ],
 "metadata": {
  "kernelspec": {
   "display_name": "DevOpsManager",
   "language": "python",
   "name": "python3"
  },
  "language_info": {
   "codemirror_mode": {
    "name": "ipython",
    "version": 3
   },
   "file_extension": ".py",
   "mimetype": "text/x-python",
   "name": "python",
   "nbconvert_exporter": "python",
   "pygments_lexer": "ipython3",
   "version": "3.12.4"
  }
 },
 "nbformat": 4,
 "nbformat_minor": 2
}

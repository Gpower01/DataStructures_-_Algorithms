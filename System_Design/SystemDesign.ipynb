{
 "cells": [
  {
   "cell_type": "markdown",
   "metadata": {},
   "source": [
    "### System Design Thinking \n",
    "\n",
    "<img width=\"823\" alt=\"System Design Thinking\" src=\"https://github.com/user-attachments/assets/49af07fb-992a-4d2e-bf4d-b3ab9e7a872f\">"
   ]
  },
  {
   "cell_type": "markdown",
   "metadata": {},
   "source": [
    "### Find the top K-most popular videos on YouTube at the moment:\n",
    "\n",
    "**First we write down:** - **Funtional Requirements**\n",
    "\n",
    "We want our request to return list of top-k heavy hitters:\n",
    "\n",
    "* topk(k, startTime, endTime)\n",
    "\n",
    "\n",
    "**Second, we discuss the:** - **Non-Funcational Requirements**\n",
    "\n",
    "We should consider these things:\n",
    "\n",
    "* Scalable (Scales out together with increasing amiunt of data: video, tweets, posts etc.)\n",
    "\n",
    "* High Available (survives hardware/network failure, no single point of failure)\n",
    "\n",
    "* High Performance (few  tens of milliseconds to return top 100 list)\n",
    "\n",
    "* Accurate (as accurate as we can get)"
   ]
  },
  {
   "cell_type": "markdown",
   "metadata": {},
   "source": [
    "**Top k algorithm implementation**"
   ]
  },
  {
   "cell_type": "code",
   "execution_count": null,
   "metadata": {
    "vscode": {
     "languageId": "javascript"
    }
   },
   "outputs": [],
   "source": [
    "public list < HeavyHitter > topK(String[], events, int k) {\n",
    "    Map < String, Integer > frequencyTable = new HashMap < String, Integer > ();\n",
    "    for (String event : events) {\n",
    "        frequencyTable.put(event, frequencyTable.getOrDefault(event, 0) + 1);\n",
    "    }\n",
    "    PriorityQueue < HeavyHitter > heap = \n",
    "    new PriorityQueue < HeavyHitter > (Comparator.comparing(e -> e.getFrequency()));\n",
    "\n",
    "    for (Map.Entry < String, Integer > entry : frequencyTable.entrySet()) {\n",
    "        heap.offer(new HeavyHitter(entry.getKey(), entry.getValue()));\n",
    "\n",
    "        if (heap.size() > k) {\n",
    "            heap.pop();\n",
    "        }\n",
    "    }\n",
    "    List < HeavyHitter > result = new ArrayList < HeavyHitter > ();\n",
    "    while (heap.size() > 0) {\n",
    "        result.add(heap.poll());\n",
    "    }\n",
    "    return result; \n",
    "}"
   ]
  },
  {
   "cell_type": "markdown",
   "metadata": {},
   "source": [
    "**Python Implementation of top-k algorithm**"
   ]
  },
  {
   "cell_type": "code",
   "execution_count": 3,
   "metadata": {},
   "outputs": [],
   "source": [
    "import heapq\n",
    "from collections import defaultdict\n",
    "\n",
    "class HeavyHitters:\n",
    "    def __init__(self, event, freqency):\n",
    "        self.event = event \n",
    "        self.frequency = freqency\n",
    "\n",
    "    def __lt__(self, other):\n",
    "        return self.frequency < other.frequency \n",
    "\n",
    "    def get_event(self):\n",
    "        return self.event \n",
    "\n",
    "    def get_frequency(self):\n",
    "        return self.frequency"
   ]
  },
  {
   "cell_type": "code",
   "execution_count": null,
   "metadata": {},
   "outputs": [],
   "source": []
  }
 ],
 "metadata": {
  "kernelspec": {
   "display_name": "DevOpsManager",
   "language": "python",
   "name": "python3"
  },
  "language_info": {
   "codemirror_mode": {
    "name": "ipython",
    "version": 3
   },
   "file_extension": ".py",
   "mimetype": "text/x-python",
   "name": "python",
   "nbconvert_exporter": "python",
   "pygments_lexer": "ipython3",
   "version": "3.12.4"
  }
 },
 "nbformat": 4,
 "nbformat_minor": 2
}

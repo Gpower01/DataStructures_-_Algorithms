{
 "cells": [
  {
   "cell_type": "markdown",
   "metadata": {},
   "source": [
    "### Dynamic Programming - DP"
   ]
  },
  {
   "cell_type": "code",
   "execution_count": 6,
   "metadata": {},
   "outputs": [
    {
     "name": "stdout",
     "output_type": "stream",
     "text": [
      "The coins used for the change amount 11 is: [6, 5]\n",
      "The fewest number of coins used to make up the amount 11 is: 2\n"
     ]
    }
   ],
   "source": [
    "#Q:Coin Change - Given an array of coins and a target amount, return the fewest amount of coin change required for the target amount \n",
    "def coinChange(coins, amount):\n",
    "    \"\"\"\n",
    "    Time Complexity: O(n * m), where n is the number of coins and m is the number of change amount \n",
    "    Space Complexity: O(m) - because of DP, the number of change amount m is contant  \n",
    "    \"\"\"\n",
    "    # create a DP array to store the coins amount \n",
    "    dp = [float('inf')] * (amount + 1)\n",
    "\n",
    "    #Create a base case \n",
    "    dp[0] = 0 \n",
    " \n",
    "    # Fill the dp \n",
    "    for coin in coins:\n",
    "        for i in range(coin, amount + 1):\n",
    "            dp[i] = min(dp[i], dp[i - coin] + 1)\n",
    "\n",
    "    #if dp[amount] == float('inf') return -1 \n",
    "    if dp[amount] == float('inf'):\n",
    "        return -1\n",
    "    \n",
    "    #Backtrack to find the coins used for the change \n",
    "    coin_used =  []\n",
    "    remainning_amount = amount\n",
    "\n",
    "    while remainning_amount > 0:\n",
    "        for coin in coins:\n",
    "            if remainning_amount >= coin and dp[remainning_amount] == dp[remainning_amount - coin] + 1:\n",
    "                coin_used.append(coin)\n",
    "                remainning_amount -= coin\n",
    "                break \n",
    "\n",
    "    #Debug statement \n",
    "    print(f\"The coins used for the change amount {amount} is: {coin_used}\")\n",
    "\n",
    "    return dp[amount]\n",
    "\n",
    "if __name__ == '__main__':\n",
    "        coins = [9, 6, 5, 1]\n",
    "        amount = 11\n",
    "        result = coinChange(coins, amount)\n",
    "        print(f\"The fewest number of coins used to make up the amount {amount} is: {result}\")"
   ]
  },
  {
   "cell_type": "markdown",
   "metadata": {},
   "source": [
    "### Knapsack Problem"
   ]
  },
  {
   "cell_type": "code",
   "execution_count": 8,
   "metadata": {},
   "outputs": [
    {
     "name": "stdout",
     "output_type": "stream",
     "text": [
      "The maximum weight capacity for the knapsack problem is: 220\n"
     ]
    }
   ],
   "source": [
    "#Q:knapsack problem for maximum weight capacity \n",
    "def knapsack_optimized(values, weights, capacity):\n",
    "    \"\"\"\n",
    "    Time complexity:\n",
    "    Space complexity: \n",
    "    \"\"\"\n",
    "    #calculated the length of values \n",
    "    n = len(values)\n",
    "\n",
    "    #create a 2D array to store the maximum number of weight capacity values \n",
    "    dp = [[0 for _ in range(capacity + 1)] for _ in range(n + 1)]\n",
    "\n",
    "    #Build the DP array - bottom-up \n",
    "    for i in range(0, n + 1):\n",
    "        for w in range(0, capacity + 1):\n",
    "            if i == 0 and w == 0:\n",
    "                dp[i][w] = 0 # Base case \n",
    "            elif weights[i - 1] <= w:\n",
    "                dp[i][w] = max(values[i - 1] + dp[i - 1][w - weights[i - 1]], dp[i - 1][w]) \n",
    "            else:\n",
    "                dp[i][w] = dp[i - 1][w]\n",
    "    \n",
    "    return dp[n][capacity]\n",
    "\n",
    "if __name__ == '__main__':\n",
    "    values = [60, 100, 120]\n",
    "    weights = [10, 20, 30]\n",
    "    capacity = 50\n",
    "    result = knapsack_optimized(values, weights, capacity)\n",
    "    print(f\"The maximum weight capacity for the knapsack problem is: {result}\")"
   ]
  },
  {
   "cell_type": "code",
   "execution_count": null,
   "metadata": {},
   "outputs": [],
   "source": []
  }
 ],
 "metadata": {
  "kernelspec": {
   "display_name": "DevOpsManager",
   "language": "python",
   "name": "python3"
  },
  "language_info": {
   "codemirror_mode": {
    "name": "ipython",
    "version": 3
   },
   "file_extension": ".py",
   "mimetype": "text/x-python",
   "name": "python",
   "nbconvert_exporter": "python",
   "pygments_lexer": "ipython3",
   "version": "3.12.4"
  }
 },
 "nbformat": 4,
 "nbformat_minor": 2
}

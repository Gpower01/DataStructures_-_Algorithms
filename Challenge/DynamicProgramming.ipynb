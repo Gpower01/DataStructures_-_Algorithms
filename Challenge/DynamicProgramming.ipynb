{
 "cells": [
  {
   "cell_type": "markdown",
   "metadata": {},
   "source": [
    "### Dynamic Programming - DP"
   ]
  },
  {
   "cell_type": "code",
   "execution_count": 6,
   "metadata": {},
   "outputs": [
    {
     "name": "stdout",
     "output_type": "stream",
     "text": [
      "The coins used for the change amount 11 is: [6, 5]\n",
      "The fewest number of coins used to make up the amount 11 is: 2\n"
     ]
    }
   ],
   "source": [
    "#Q:Coin Change - Given an array of coins and a target amount, return the fewest amount of coin change required for the target amount \n",
    "def coinChange(coins, amount):\n",
    "    \"\"\"\n",
    "    Time Complexity: O(n * m), where n is the number of coins and m is the number of change amount \n",
    "    Space Complexity: O(m) - because of DP, the number of change amount m is contant  \n",
    "    \"\"\"\n",
    "    # create a DP array to store the coins amount \n",
    "    dp = [float('inf')] * (amount + 1)\n",
    "\n",
    "    #Create a base case \n",
    "    dp[0] = 0 \n",
    " \n",
    "    # Fill the dp \n",
    "    for coin in coins:\n",
    "        for i in range(coin, amount + 1):\n",
    "            dp[i] = min(dp[i], dp[i - coin] + 1)\n",
    "\n",
    "    #if dp[amount] == float('inf') return -1 \n",
    "    if dp[amount] == float('inf'):\n",
    "        return -1\n",
    "    \n",
    "    #Backtrack to find the coins used for the change \n",
    "    coin_used =  []\n",
    "    remainning_amount = amount\n",
    "\n",
    "    while remainning_amount > 0:\n",
    "        for coin in coins:\n",
    "            if remainning_amount >= coin and dp[remainning_amount] == dp[remainning_amount - coin] + 1:\n",
    "                coin_used.append(coin)\n",
    "                remainning_amount -= coin\n",
    "                break \n",
    "\n",
    "    #Debug statement \n",
    "    print(f\"The coins used for the change amount {amount} is: {coin_used}\")\n",
    "\n",
    "    return dp[amount]\n",
    "\n",
    "if __name__ == '__main__':\n",
    "        coins = [9, 6, 5, 1]\n",
    "        amount = 11\n",
    "        result = coinChange(coins, amount)\n",
    "        print(f\"The fewest number of coins used to make up the amount {amount} is: {result}\")"
   ]
  },
  {
   "cell_type": "markdown",
   "metadata": {},
   "source": [
    "### Knapsack Problem"
   ]
  },
  {
   "cell_type": "code",
   "execution_count": 8,
   "metadata": {},
   "outputs": [
    {
     "name": "stdout",
     "output_type": "stream",
     "text": [
      "The maximum weight capacity for the knapsack problem is: 220\n"
     ]
    }
   ],
   "source": [
    "#Q:knapsack problem for maximum weight capacity \n",
    "def knapsack_optimized(values, weights, capacity):\n",
    "    \"\"\"\n",
    "    Time complexity:\n",
    "    Space complexity: \n",
    "    \"\"\"\n",
    "    #calculated the length of values \n",
    "    n = len(values)\n",
    "\n",
    "    #create a 2D array to store the maximum number of weight capacity values \n",
    "    dp = [[0 for _ in range(capacity + 1)] for _ in range(n + 1)]\n",
    "\n",
    "    #Build the DP array - bottom-up \n",
    "    for i in range(0, n + 1):\n",
    "        for w in range(0, capacity + 1):\n",
    "            if i == 0 and w == 0:\n",
    "                dp[i][w] = 0 # Base case \n",
    "            elif weights[i - 1] <= w:\n",
    "                dp[i][w] = max(values[i - 1] + dp[i - 1][w - weights[i - 1]], dp[i - 1][w]) \n",
    "            else:\n",
    "                dp[i][w] = dp[i - 1][w]\n",
    "    \n",
    "    return dp[n][capacity]\n",
    "\n",
    "if __name__ == '__main__':\n",
    "    values = [60, 100, 120]\n",
    "    weights = [10, 20, 30]\n",
    "    capacity = 50\n",
    "    result = knapsack_optimized(values, weights, capacity)\n",
    "    print(f\"The maximum weight capacity for the knapsack problem is: {result}\")"
   ]
  },
  {
   "cell_type": "code",
   "execution_count": null,
   "metadata": {},
   "outputs": [],
   "source": [
    "#------------------------------------------coin change & knapsack problems--------------------------"
   ]
  },
  {
   "cell_type": "code",
   "execution_count": 9,
   "metadata": {},
   "outputs": [
    {
     "name": "stdout",
     "output_type": "stream",
     "text": [
      "The coins used to make up the change amount 11 is; [6, 5]\n",
      "The fewest number of coins used to make up the amount 11 is: 2\n"
     ]
    }
   ],
   "source": [
    "#Q; coinchange \n",
    "def coinChange(coins, amount):\n",
    "    \"\"\" \n",
    "    Time Complexity: O(n * m)\n",
    "    Space Complexity: O(m)\n",
    "    \"\"\"\n",
    "    #create a DP array to store the maximum number of coin change \n",
    "    dp = [float('inf')] * (amount + 1)\n",
    "\n",
    "    #Base Case \n",
    "    dp[0] = 0 \n",
    "\n",
    "    # Fill the DP \n",
    "    for coin in coins:\n",
    "        for i in range(coin, amount + 1):\n",
    "            dp[i] = min(dp[i], dp[i - coin] + 1)\n",
    "\n",
    "    #if dp[amount] == float('inf') return -1\n",
    "    if dp[amount] == float('inf'):\n",
    "        return -1\n",
    "    \n",
    "    #Back track to find the coins used for the change\n",
    "    coin_used = []\n",
    "    remainning_amount = amount \n",
    "\n",
    "    while remainning_amount > 0:\n",
    "        for coin in coins:\n",
    "            if remainning_amount >= coin and dp[remainning_amount] == dp[remainning_amount - coin] + 1:\n",
    "                coin_used.append(coin)\n",
    "                remainning_amount -= coin\n",
    "                break \n",
    "\n",
    "    #Debug statement \n",
    "    print(f\"The coins used to make up the change amount {amount} is; {coin_used}\")\n",
    "\n",
    "    return dp[amount]\n",
    "\n",
    "if __name__ =='__main__':\n",
    "        coins = [9, 6, 5, 1]\n",
    "        amount = 11\n",
    "        result = coinChange(coins, amount)\n",
    "        print(f\"The fewest number of coins used to make up the amount {amount} is: {result}\")"
   ]
  },
  {
   "cell_type": "code",
   "execution_count": 11,
   "metadata": {},
   "outputs": [
    {
     "name": "stdout",
     "output_type": "stream",
     "text": [
      "The maximum weight capacity for the knapsack problem is: 220\n"
     ]
    }
   ],
   "source": [
    "#Q: knapsack problem \n",
    "def knapsack_optimized(values, weights, capacity):\n",
    "    \"\"\"\n",
    "    Time Complexity: O(n * m) \n",
    "    Space Complexity: O(n * m)\n",
    "    \"\"\"\n",
    "    #create the lenght of values \n",
    "    n = len(values)\n",
    "\n",
    "    #create a 2D DP array to store the maximum weight capacity values \n",
    "    dp = [[0 for _ in range(capacity + 1)] for _ in range(n + 1)]\n",
    "\n",
    "    #Build the DP \n",
    "    for i in range(0, n + 1):\n",
    "        for w in range(0, capacity + 1):\n",
    "            if i == 0 and w == 0:\n",
    "                dp[i][w] = 0 # Base Case \n",
    "            elif weights[i - 1] <= w:\n",
    "                dp[i][w] = max(values[i -1] + dp[i -1][w - weights[i -1]], dp[i - 1][w])\n",
    "            else:\n",
    "                dp[i][w] = dp[i - 1][w]\n",
    "\n",
    "    return dp[n][capacity]\n",
    "\n",
    "if __name__ =='__main__':\n",
    "    values = [60, 100, 120]\n",
    "    weights = [10, 20, 30]\n",
    "    capacity = 50\n",
    "    result = knapsack_optimized(values, weights, capacity)\n",
    "    print(f\"The maximum weight capacity for the knapsack problem is: {result}\")"
   ]
  },
  {
   "cell_type": "code",
   "execution_count": 15,
   "metadata": {},
   "outputs": [
    {
     "name": "stdout",
     "output_type": "stream",
     "text": [
      "The maximum knapsack capacity is: 220\n"
     ]
    }
   ],
   "source": [
    "#Q:knapsack optimized top-down \n",
    "from functools import cache\n",
    "def knapsack_top_down(values, weights, capacity):\n",
    "    #Initialize memoization table\n",
    "    n = len(weights)\n",
    "    memo = [[-1] * (capacity + 1) for _ in range(n)]\n",
    "\n",
    "    @cache\n",
    "    def knapsack_recursive(i, remainning_capacity):\n",
    "        #Base case, no item left or capacity is zero\n",
    "        if i == n or remainning_capacity == 0:\n",
    "            return 0 \n",
    "        \n",
    "        #If we have already solved for the subproblem return the result \n",
    "        if memo[i][remainning_capacity] != -1:\n",
    "            return memo[i][remainning_capacity]\n",
    "        \n",
    "        #Case 1: Do not include the current item \n",
    "        max_value = knapsack_recursive(i + 1, remainning_capacity)\n",
    "\n",
    "        #Case 2: Include the current item if it fits i nto the current capacity \n",
    "        if weights[i] <= remainning_capacity:\n",
    "            max_value = max(max_value, values[i] + knapsack_recursive(i + 1, remainning_capacity - weights[i]))\n",
    "        \n",
    "        #memoize the result and return it \n",
    "        memo[i][remainning_capacity] = max_value\n",
    "        return max_value\n",
    "    \n",
    "    #Solve the knapsack problem starting from the 0th capacity \n",
    "    return knapsack_recursive(0, capacity)\n",
    "\n",
    "if __name__ =='__main__':\n",
    "    values = [60, 100, 120]\n",
    "    weights = [10, 20, 30]\n",
    "    capacity = 50\n",
    "    result = knapsack_top_down(values, weights, capacity)\n",
    "    print(f\"The maximum knapsack capacity is: {result}\")       "
   ]
  },
  {
   "cell_type": "code",
   "execution_count": null,
   "metadata": {},
   "outputs": [],
   "source": []
  },
  {
   "cell_type": "code",
   "execution_count": null,
   "metadata": {},
   "outputs": [],
   "source": [
    "#Q: DP knapsack_problem top-down\n",
    "from functools import cache\n",
    "def knapsack_top_down_sol(values, weights, capacity):\n",
    "    #Initialize memoization table \n",
    "    n = len(weights)\n",
    "    memo = [[-1] * (capacity + 1) for _ in range(n)]\n",
    "\n",
    "    @cache\n",
    "    def knapsack_recursive2(i, remainning_capacity):\n",
    "        #if there is  no item left or remainning capacity is zero\n",
    "        if i == n or remainning_capacity == 0:\n",
    "            return 0\n",
    "        \n",
    "        #if the subproblem have been solved already, return the result \n",
    "        if memo[i][remainning_capacity] != -1:\n",
    "            return memo[i][remainning_capacity]\n",
    "        \n",
    "        #Do not include the current item\n",
    "        max_value = knapsack_recursive2(i + 1, remainning_capacity)\n",
    "\n",
    "        #Include the current item if it is within the current capacity \n",
    "        if weights[i] <= remainning_capacity:\n",
    "            max_value = max(max_value, values[i] + knapsack_recursive2(i +1, remainning_capacity - weights[i]))\n",
    "\n",
    "        #memoize the result \n",
    "        memo[i][remainning_capacity] == max_value\n",
    "        return max_value\n",
    "\n",
    "    #solve the knapsack problem starting from 0 capacity \n",
    "    return knapsack_recursive2(0, capacity)"
   ]
  },
  {
   "cell_type": "code",
   "execution_count": null,
   "metadata": {},
   "outputs": [],
   "source": [
    "#Q: knapsack bottom-up\n",
    "def knapsack_bottom_up(values, weights, capacity):\n",
    "    #create the length of values \n",
    "    n = len(values)\n",
    "\n",
    "    # Create a 2D DP array to store the maximum weight capacity values \n",
    "    dp = [[0 for _ in range(capacity + 1)] for _ in range(n + 1)]\n",
    "\n",
    "    #Build the DP - bottom-up \n",
    "    for i in range(0, n + 1):\n",
    "        for w in range(0, capacity + 1):\n",
    "            if i == 0 and w == 0:\n",
    "                dp[i][w] = 0 #Base case \n",
    "            elif weights[i -1] <= w:\n",
    "                dp[i][w] = max(values[i - 1] + dp[i -1][w - weights[i - 1]], dp[i - 1][w])\n",
    "            else:\n",
    "                dp[i][w] = dp[i - 1][w]\n",
    "\n",
    "    return dp[n][capacity]"
   ]
  },
  {
   "cell_type": "code",
   "execution_count": 19,
   "metadata": {},
   "outputs": [
    {
     "name": "stdout",
     "output_type": "stream",
     "text": [
      "The coin used to make up the change amount 11 is: [6, 5]\n",
      "The fewest number of coins needed for the change amount of 11 is: 2\n"
     ]
    }
   ],
   "source": [
    "#Q: fewest coin Change problem for target amount \n",
    "def coinChange2(coins, amount):\n",
    "    dp = [float('inf')] * (amount + 1)\n",
    "\n",
    "    #Base case \n",
    "    dp[0] = 0 \n",
    "\n",
    "    #fill the dp\n",
    "    for coin in coins:\n",
    "        for i in range(coin, amount + 1):\n",
    "            dp[i] = min(dp[i], dp[i - coin] + 1)\n",
    "\n",
    "    \n",
    "    # if dp[amount] == float('inf) return -1 \n",
    "    if dp[amount] == float('inf'):\n",
    "        return -1\n",
    "    \n",
    "    #Back track to find the coins used for the change amount \n",
    "    coin_used = []\n",
    "    remainning_amount = amount \n",
    "    while remainning_amount > 0:\n",
    "        for coin in coins:\n",
    "            if remainning_amount >= coin and dp[remainning_amount] == dp[remainning_amount - coin] + 1:\n",
    "                coin_used.append(coin)\n",
    "                remainning_amount -= coin \n",
    "                break \n",
    "\n",
    "    #Debug Statement \n",
    "    print(f\"The coin used to make up the change amount {amount} is: {coin_used}\")\n",
    "\n",
    "\n",
    "    return dp[amount]\n",
    "\n",
    "if __name__ == '__main__':\n",
    "    coins = [9, 6, 5, 1]\n",
    "    amount  = 11\n",
    "    result = coinChange2(coins, amount)\n",
    "    print(f\"The fewest number of coins needed for the change amount of 11 is: {result}\")"
   ]
  },
  {
   "cell_type": "code",
   "execution_count": null,
   "metadata": {},
   "outputs": [],
   "source": [
    "#Q: Decimal to binary- python built-in\n",
    "def decimanl_binary_built_in(num):\n",
    "    return bin(num)[2:] # to remove '0b' prefix "
   ]
  },
  {
   "cell_type": "code",
   "execution_count": 23,
   "metadata": {},
   "outputs": [
    {
     "name": "stdout",
     "output_type": "stream",
     "text": [
      "11011\n"
     ]
    }
   ],
   "source": [
    "#Q: Decimal to binary maual - append method \n",
    "def decimal_binary_manual_app(num):\n",
    "    if num == 0:\n",
    "        return '0'\n",
    "    \n",
    "    binary_digits = []\n",
    "\n",
    "    while num > 0:\n",
    "        remainder = num % 2\n",
    "        binary_digits.append(str(remainder))\n",
    "        num = num // 2\n",
    "\n",
    "    binary_digits.reverse()\n",
    "    return ''.join(binary_digits)\n",
    "\n",
    "if __name__ == '__main__':\n",
    "    num = 27 \n",
    "    print(decimal_binary_manual_app(num))"
   ]
  },
  {
   "cell_type": "code",
   "execution_count": 24,
   "metadata": {},
   "outputs": [
    {
     "name": "stdout",
     "output_type": "stream",
     "text": [
      "11011\n"
     ]
    }
   ],
   "source": [
    "#Q: Decimal to binary manual - insert method \n",
    "def decimal_to_binary_insert(arr):\n",
    "    if arr == 0:\n",
    "        return 0 \n",
    "    \n",
    "    bin_digits = []\n",
    "    while arr > 0:\n",
    "        remainder = arr % 2\n",
    "        bin_digits.insert(0, remainder)\n",
    "        arr = arr // 2\n",
    "\n",
    "    bin_digits.reverse()\n",
    "    return ''.join(map(str, bin_digits))\n",
    "\n",
    "if __name__ == '__main__':\n",
    "    num = 27 \n",
    "    print(decimal_to_binary_insert(num))"
   ]
  },
  {
   "cell_type": "code",
   "execution_count": 26,
   "metadata": {},
   "outputs": [
    {
     "name": "stdout",
     "output_type": "stream",
     "text": [
      "[['row', 'wor'], ['a'], ['test', 'ttes', 'tset']]\n"
     ]
    }
   ],
   "source": [
    "#Q; Group anagram \n",
    "def group_anagram(word_list):\n",
    "    anagram =  {}\n",
    "\n",
    "    for word in word_list:\n",
    "        signature = ''.join(sorted(word))\n",
    "\n",
    "        if signature in anagram:\n",
    "            anagram[signature].append(word)\n",
    "        else:\n",
    "            anagram[signature] = [word]\n",
    "    \n",
    "    anagram = list(anagram.values())\n",
    "\n",
    "    return anagram\n",
    "\n",
    "if __name__ == '__main__':\n",
    "    word_list = [\"row\", \"a\", \"wor\", \"test\", \"ttes\", \"tset\"]\n",
    "    groupAnag = group_anagram(word_list)\n",
    "    print(groupAnag)"
   ]
  },
  {
   "cell_type": "code",
   "execution_count": 27,
   "metadata": {},
   "outputs": [
    {
     "name": "stdout",
     "output_type": "stream",
     "text": [
      "[['row', 'wor'], ['a'], ['test', 'ttes', 'tset']]\n"
     ]
    }
   ],
   "source": [
    "from collections import defaultdict\n",
    "def word_anagram(words):\n",
    "    anagram_group = defaultdict(list)\n",
    "\n",
    "    for word in words:\n",
    "        signature = ''.join(sorted(word))\n",
    "\n",
    "        if signature in anagram_group:\n",
    "            anagram_group[signature].append(word)\n",
    "        else:\n",
    "            anagram_group[signature] = [word]\n",
    "\n",
    "    anagram_group = list(anagram_group.values())\n",
    "\n",
    "    return anagram_group\n",
    "\n",
    "if __name__ == '__main__':\n",
    "    word_list = [\"row\", \"a\", \"wor\", \"test\", \"ttes\", \"tset\"]\n",
    "    groupAnag = word_anagram(word_list)\n",
    "    print(groupAnag)"
   ]
  },
  {
   "cell_type": "code",
   "execution_count": 38,
   "metadata": {},
   "outputs": [
    {
     "name": "stdout",
     "output_type": "stream",
     "text": [
      "Taking 0 from left and 3 from right: sum = 6\n",
      "Taking 1 from left and 2 from right: sum = 8\n",
      "Taking 2 from left and 1 from right: sum = 5\n",
      "Taking 3 from left and 0 from right: sum = 6\n",
      "The maximum achievable sum by picking 3 cards is: 8\n"
     ]
    }
   ],
   "source": [
    "#Q: cards combination with both_side_max_index\n",
    "from functools import cache\n",
    "def both_side_max_index(cards, k =3):\n",
    "    n = len(cards)\n",
    "\n",
    "    if k > n:\n",
    "        return sum(cards)\n",
    "    \n",
    "    max_and = 0 \n",
    "    \n",
    "    #@cache\n",
    "    def manual_sum(nums):\n",
    "        total_num = 0 \n",
    "        for num in nums:\n",
    "            total_num += num \n",
    "        \n",
    "        return total_num\n",
    "    \n",
    "    for left_count in range(0, k + 1):\n",
    "        right_count = k - left_count\n",
    "\n",
    "        left_sum = manual_sum(cards[:left_count]) if left_count > 0 else 0 \n",
    "\n",
    "        #Right sum starting from the end \n",
    "        right_sum = manual_sum(cards[-right_count:]) if right_count > 0 else 0 \n",
    "\n",
    "        current_sum = left_sum + right_sum\n",
    "\n",
    "        max_and = max(max_and, current_sum)\n",
    "\n",
    "        #Debug statement \n",
    "        print(f\"Taking {left_count} from left and {right_count} from right: sum = {current_sum}\")\n",
    "\n",
    "    return max_and \n",
    "\n",
    "if __name__ == '__main__':\n",
    "    cards = [5, -2, 3, 1, 2]\n",
    "    print(f\"The maximum achievable sum by picking 3 cards is: {both_side_max_index(cards, k=3)}\")\n"
   ]
  },
  {
   "cell_type": "code",
   "execution_count": 36,
   "metadata": {},
   "outputs": [
    {
     "name": "stdout",
     "output_type": "stream",
     "text": [
      "The majority occuring element in the array is: 1\n"
     ]
    }
   ],
   "source": [
    "#Q: majority elements for n/2 times\n",
    "from functools import cache\n",
    "def majority_element2(arr):\n",
    "    counts = 0 \n",
    "    candidate = None \n",
    "\n",
    "    @cache\n",
    "    def manual_sum(nums):\n",
    "        count_sum = 0\n",
    "        for num in nums:\n",
    "            count_sum += num \n",
    "\n",
    "        return count_sum\n",
    "    \n",
    "    for num in arr:\n",
    "        if counts == 0:\n",
    "            candidate = num \n",
    "        \n",
    "        counts += (1 if num == candidate else -1)\n",
    "\n",
    "    #verify candidate \n",
    "    counts = manual_sum(1 for num in arr if num == candidate)\n",
    "\n",
    "    if counts > len(arr) // 2:\n",
    "        return candidate\n",
    "    else: \n",
    "        return None \n",
    "    \n",
    "if __name__ == '__main__':\n",
    "    arr = [2,1,1,1,4,7,1,1,1,1]\n",
    "    result = majority_element2(arr)\n",
    "    print(f\"The majority occuring element in the array is: {result}\")\n"
   ]
  },
  {
   "cell_type": "code",
   "execution_count": null,
   "metadata": {},
   "outputs": [],
   "source": []
  }
 ],
 "metadata": {
  "kernelspec": {
   "display_name": "DevOpsManager",
   "language": "python",
   "name": "python3"
  },
  "language_info": {
   "codemirror_mode": {
    "name": "ipython",
    "version": 3
   },
   "file_extension": ".py",
   "mimetype": "text/x-python",
   "name": "python",
   "nbconvert_exporter": "python",
   "pygments_lexer": "ipython3",
   "version": "3.12.4"
  }
 },
 "nbformat": 4,
 "nbformat_minor": 2
}

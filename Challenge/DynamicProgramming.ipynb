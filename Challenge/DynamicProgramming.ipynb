{
 "cells": [
  {
   "cell_type": "markdown",
   "metadata": {},
   "source": [
    "### Dynamic Programming - DP"
   ]
  },
  {
   "cell_type": "code",
   "execution_count": 6,
   "metadata": {},
   "outputs": [
    {
     "name": "stdout",
     "output_type": "stream",
     "text": [
      "The coins used for the change amount 11 is: [6, 5]\n",
      "The fewest number of coins used to make up the amount 11 is: 2\n"
     ]
    }
   ],
   "source": [
    "#Q:Coin Change - Given an array of coins and a target amount, return the fewest amount of coin change required for the target amount \n",
    "#If that amount of money cannot be made up by any combination of this coins, return -1. You may assume that you have an infinite number of each kind of coin.\n",
    "def coinChange(coins, amount):\n",
    "    \"\"\"\n",
    "    Time Complexity: O(n * m), where n is the number of coins and m is the number of change amount \n",
    "    Space Complexity: O(m) - because of DP, the number of change amount m is contant  \n",
    "    \"\"\"\n",
    "    # create a DP array to store the coins amount \n",
    "    dp = [float('inf')] * (amount + 1)\n",
    "\n",
    "    #Create a base case \n",
    "    dp[0] = 0 \n",
    " \n",
    "    # Fill the dp \n",
    "    for coin in coins:\n",
    "        for i in range(coin, amount + 1):\n",
    "            dp[i] = min(dp[i], dp[i - coin] + 1)\n",
    "\n",
    "    #if dp[amount] == float('inf') return -1 \n",
    "    if dp[amount] == float('inf'):\n",
    "        return -1\n",
    "    \n",
    "    #Backtrack to find the coins used for the change \n",
    "    coin_used =  []\n",
    "    remainning_amount = amount\n",
    "\n",
    "    while remainning_amount > 0:\n",
    "        for coin in coins:\n",
    "            if remainning_amount >= coin and dp[remainning_amount] == dp[remainning_amount - coin] + 1:\n",
    "                coin_used.append(coin)\n",
    "                remainning_amount -= coin\n",
    "                break \n",
    "\n",
    "    #Debug statement \n",
    "    print(f\"The coins used for the change amount {amount} is: {coin_used}\")\n",
    "\n",
    "    return dp[amount]\n",
    "\n",
    "if __name__ == '__main__':\n",
    "        coins = [9, 6, 5, 1]\n",
    "        amount = 11\n",
    "        result = coinChange(coins, amount)\n",
    "        print(f\"The fewest number of coins used to make up the amount {amount} is: {result}\")"
   ]
  },
  {
   "cell_type": "markdown",
   "metadata": {},
   "source": [
    "### Knapsack Problem"
   ]
  },
  {
   "cell_type": "code",
   "execution_count": 4,
   "metadata": {},
   "outputs": [
    {
     "name": "stdout",
     "output_type": "stream",
     "text": [
      "The maximum weight capacity for the knapsack problem is: 220\n"
     ]
    }
   ],
   "source": [
    "#Q:knapsack problem for maximum weight capacity \n",
    "def knapsack_optimized(values, weights, capacity):\n",
    "    \"\"\"\n",
    "    Time complexity: O(n * m)\n",
    "    Space complexity: O(n * m)\n",
    "    \"\"\"\n",
    "    #calculated the length of values \n",
    "    n = len(values)\n",
    "\n",
    "    #create a 2D array to store the maximum number of weight capacity values \n",
    "    dp = [[0 for _ in range(capacity + 1)] for _ in range(n + 1)]\n",
    "\n",
    "    #Build the DP array - bottom-up \n",
    "    for i in range(0, n + 1):\n",
    "        for w in range(0, capacity + 1):\n",
    "            if i == 0 and w == 0:\n",
    "                dp[i][w] = 0 # Base case \n",
    "            elif weights[i - 1] <= w:\n",
    "                dp[i][w] = max(values[i - 1] + dp[i - 1][w - weights[i - 1]], dp[i - 1][w]) \n",
    "            else:\n",
    "                dp[i][w] = dp[i - 1][w]\n",
    "    \n",
    "    return dp[n][capacity]\n",
    "\n",
    "if __name__ == '__main__':\n",
    "    values = [60, 100, 120]\n",
    "    weights = [10, 20, 30]\n",
    "    capacity = 50\n",
    "    result = knapsack_optimized(values, weights, capacity)\n",
    "    print(f\"The maximum weight capacity for the knapsack problem is: {result}\")"
   ]
  },
  {
   "cell_type": "code",
   "execution_count": 5,
   "metadata": {},
   "outputs": [
    {
     "name": "stderr",
     "output_type": "stream",
     "text": [
      "INFO:__main__:Set the Base Case dp[i][w] = 0\n",
      "INFO:__main__:Return the maximum weight capacity!\n"
     ]
    },
    {
     "name": "stdout",
     "output_type": "stream",
     "text": [
      "The maximum weight capacity for knapsack problem is: 220\n"
     ]
    }
   ],
   "source": [
    "import logging\n",
    "\n",
    "#Setup configurations \n",
    "logging.basicConfig(level=logging.INFO)\n",
    "log = logging.getLogger(__name__)\n",
    "\n",
    "class DP:\n",
    "    def __init__(self, values, weights, capacity):\n",
    "        \"\"\"Initialize the knapsack parameters.\"\"\"\n",
    "        self.values = values \n",
    "        self.weights = weights \n",
    "        self.capacity = capacity\n",
    "    \n",
    "    def knapsack(self):\n",
    "        \"\"\"Solve the knapsack problem using dynamic programming.\"\"\"\n",
    "        n = len(self.values)\n",
    "\n",
    "        # Initialize a 2D DP array with dimensions (n+1) x (capacity+1)\n",
    "        dp = [[0 for _ in range(self.capacity + 1)] for _ in range(n + 1)]\n",
    "\n",
    "        #Fill the DP array bottom-up \n",
    "        for i in range(n + 1):\n",
    "            for w in range(self.capacity + 1):\n",
    "                if i == 0  and w == 0:\n",
    "                    #Set the base case for the DP table\n",
    "                    log.info(f\"Set the Base Case dp[i][w] = 0\")\n",
    "                    dp[i][w] = 0 \n",
    "                elif self.weights[i-1] <= w:\n",
    "                    dp[i][w] = max(self.values[i-1] + dp[i-1][w - self.weights[i-1]], dp[i-1][w])\n",
    "                else:\n",
    "                    dp[i][w] = dp[i-1][w]\n",
    "\n",
    "        log.info(f\"Return the maximum weight capacity!\")\n",
    "        return dp[n][self.capacity]\n",
    "    \n",
    "if __name__ == '__main__':\n",
    "    values = [60, 100, 120] \n",
    "    weights = [10, 20 ,30]\n",
    "    capacity = 50 \n",
    "\n",
    "    result = DP(values, weights, capacity)\n",
    "    max_value = result.knapsack()\n",
    "    print(f\"The maximum weight capacity for knapsack problem is: {max_value}\")\n"
   ]
  },
  {
   "cell_type": "code",
   "execution_count": null,
   "metadata": {},
   "outputs": [],
   "source": [
    "#------------------------------------------coin change & knapsack problems--------------------------"
   ]
  },
  {
   "cell_type": "code",
   "execution_count": 9,
   "metadata": {},
   "outputs": [
    {
     "name": "stdout",
     "output_type": "stream",
     "text": [
      "The coins used to make up the change amount 11 is; [6, 5]\n",
      "The fewest number of coins used to make up the amount 11 is: 2\n"
     ]
    }
   ],
   "source": [
    "#Q; coinchange \n",
    "def coinChange(coins, amount):\n",
    "    \"\"\" \n",
    "    Time Complexity: O(n * m)\n",
    "    Space Complexity: O(m)\n",
    "    \"\"\"\n",
    "    #create a DP array to store the maximum number of coin change \n",
    "    dp = [float('inf')] * (amount + 1)\n",
    "\n",
    "    #Base Case \n",
    "    dp[0] = 0 \n",
    "\n",
    "    # Fill the DP \n",
    "    for coin in coins:\n",
    "        for i in range(coin, amount + 1):\n",
    "            dp[i] = min(dp[i], dp[i - coin] + 1)\n",
    "\n",
    "    #if dp[amount] == float('inf') return -1\n",
    "    if dp[amount] == float('inf'):\n",
    "        return -1\n",
    "    \n",
    "    #Back track to find the coins used for the change\n",
    "    coin_used = []\n",
    "    remainning_amount = amount \n",
    "\n",
    "    while remainning_amount > 0:\n",
    "        for coin in coins:\n",
    "            if remainning_amount >= coin and dp[remainning_amount] == dp[remainning_amount - coin] + 1:\n",
    "                coin_used.append(coin)\n",
    "                remainning_amount -= coin\n",
    "                break \n",
    "\n",
    "    #Debug statement \n",
    "    print(f\"The coins used to make up the change amount {amount} is; {coin_used}\")\n",
    "\n",
    "    return dp[amount]\n",
    "\n",
    "if __name__ =='__main__':\n",
    "        coins = [9, 6, 5, 1]\n",
    "        amount = 11\n",
    "        result = coinChange(coins, amount)\n",
    "        print(f\"The fewest number of coins used to make up the amount {amount} is: {result}\")"
   ]
  },
  {
   "cell_type": "code",
   "execution_count": 11,
   "metadata": {},
   "outputs": [
    {
     "name": "stdout",
     "output_type": "stream",
     "text": [
      "The maximum weight capacity for the knapsack problem is: 220\n"
     ]
    }
   ],
   "source": [
    "#Q: knapsack problem \n",
    "def knapsack_optimized(values, weights, capacity):\n",
    "    \"\"\"\n",
    "    Time Complexity: O(n * m) \n",
    "    Space Complexity: O(n * m)\n",
    "    \"\"\"\n",
    "    #create the lenght of values \n",
    "    n = len(values)\n",
    "\n",
    "    #create a 2D DP array to store the maximum weight capacity values \n",
    "    dp = [[0 for _ in range(capacity + 1)] for _ in range(n + 1)]\n",
    "\n",
    "    #Build the DP \n",
    "    for i in range(0, n + 1):\n",
    "        for w in range(0, capacity + 1):\n",
    "            if i == 0 and w == 0:\n",
    "                dp[i][w] = 0 # Base Case \n",
    "            elif weights[i - 1] <= w:\n",
    "                dp[i][w] = max(values[i -1] + dp[i -1][w - weights[i -1]], dp[i - 1][w])\n",
    "            else:\n",
    "                dp[i][w] = dp[i - 1][w]\n",
    "\n",
    "    return dp[n][capacity]\n",
    "\n",
    "if __name__ =='__main__':\n",
    "    values = [60, 100, 120]\n",
    "    weights = [10, 20, 30]\n",
    "    capacity = 50\n",
    "    result = knapsack_optimized(values, weights, capacity)\n",
    "    print(f\"The maximum weight capacity for the knapsack problem is: {result}\")"
   ]
  },
  {
   "cell_type": "code",
   "execution_count": 15,
   "metadata": {},
   "outputs": [
    {
     "name": "stdout",
     "output_type": "stream",
     "text": [
      "The maximum knapsack capacity is: 220\n"
     ]
    }
   ],
   "source": [
    "#Q:knapsack optimized top-down \n",
    "from functools import cache\n",
    "def knapsack_top_down(values, weights, capacity):\n",
    "    #Initialize memoization table\n",
    "    n = len(weights)\n",
    "    memo = [[-1] * (capacity + 1) for _ in range(n)]\n",
    "\n",
    "    @cache\n",
    "    def knapsack_recursive(i, remainning_capacity):\n",
    "        #Base case, no item left or capacity is zero\n",
    "        if i == n or remainning_capacity == 0:\n",
    "            return 0 \n",
    "        \n",
    "        #If we have already solved for the subproblem return the result \n",
    "        if memo[i][remainning_capacity] != -1:\n",
    "            return memo[i][remainning_capacity]\n",
    "        \n",
    "        #Case 1: Do not include the current item \n",
    "        max_value = knapsack_recursive(i + 1, remainning_capacity)\n",
    "\n",
    "        #Case 2: Include the current item if it fits into the current capacity \n",
    "        if weights[i] <= remainning_capacity:\n",
    "            max_value = max(max_value, values[i] + knapsack_recursive(i + 1, remainning_capacity - weights[i]))\n",
    "        \n",
    "        #memoize the result and return it \n",
    "        memo[i][remainning_capacity] = max_value\n",
    "        return max_value\n",
    "    \n",
    "    #Solve the knapsack problem starting from the 0th capacity \n",
    "    return knapsack_recursive(0, capacity)\n",
    "\n",
    "if __name__ =='__main__':\n",
    "    values = [60, 100, 120]\n",
    "    weights = [10, 20, 30]\n",
    "    capacity = 50\n",
    "    result = knapsack_top_down(values, weights, capacity)\n",
    "    print(f\"The maximum knapsack capacity is: {result}\")       "
   ]
  },
  {
   "cell_type": "code",
   "execution_count": 2,
   "metadata": {},
   "outputs": [
    {
     "name": "stderr",
     "output_type": "stream",
     "text": [
      "INFO:__main__:Solving the knapsack problem starting from the 0th capacity\n"
     ]
    },
    {
     "name": "stdout",
     "output_type": "stream",
     "text": [
      "The maximum weight capacity for the problem is: 220\n"
     ]
    }
   ],
   "source": [
    "import logging\n",
    "from functools import cache\n",
    "\n",
    "#setuo configuration settings \n",
    "logging.basicConfig(level=logging.INFO)\n",
    "log = logging.getLogger(__name__)\n",
    "\n",
    "class DP:\n",
    "    def __init__(self, values, weights, capacity):\n",
    "        \"\"\"Initialize knapsack parameters\"\"\"\n",
    "        self.values = values \n",
    "        self.weights = weights \n",
    "        self.capacity = capacity\n",
    "\n",
    "    def knapsack_top_down(self):\n",
    "        \"\"\"\n",
    "        Solve the knapsack problem using dynamic programming\n",
    "        Initialize memoization table \n",
    "        \"\"\"\n",
    "        n = len(self.weights)\n",
    "        memo = [[-1] * (self.capacity + 1) for _ in range(n)]\n",
    "\n",
    "        def knapsack_recursive(i, w):\n",
    "            \"\"\" \n",
    "            w: remaining_capacity\n",
    "            \"\"\"\n",
    "            if i == n or w == 0:\n",
    "                return 0 \n",
    "            \n",
    "            #check if we have already solved for the subproblem and return the result \n",
    "            if memo[i][w] != -1:\n",
    "                return memo[i][w]\n",
    "            \n",
    "            #Case 1: Do not include the current item \n",
    "            max_value = knapsack_recursive(i + 1, w)\n",
    "\n",
    "            #Case 2: Include the current item if it fits into the weight capacity \n",
    "            if self.weights[i] <= w:\n",
    "                max_value = max(max_value, self.values[i] + knapsack_recursive(i + 1, w - self.weights[i]))\n",
    "\n",
    "            #memoize the result and return it \n",
    "            memo[i][w] = max_value\n",
    "            return max_value\n",
    "\n",
    "        log.info(f\"Solving the knapsack problem starting from the 0th capacity\")\n",
    "        return knapsack_recursive(0, self.capacity)\n",
    "    \n",
    "\n",
    "if __name__ == '__main__':\n",
    "    values = [60, 100, 120]\n",
    "    weights = [10, 20, 30]\n",
    "    capacity =  50 \n",
    "    result = DP(values, weights, capacity)\n",
    "    max_val = result.knapsack_top_down()\n",
    "    print(f\"The maximum weight capacity for the problem is: {max_val}\")"
   ]
  },
  {
   "cell_type": "code",
   "execution_count": null,
   "metadata": {},
   "outputs": [],
   "source": [
    "#Q: DP knapsack_problem top-down\n",
    "from functools import cache\n",
    "def knapsack_top_down_sol(values, weights, capacity):\n",
    "    #Initialize memoization table \n",
    "    n = len(weights)\n",
    "    memo = [[-1] * (capacity + 1) for _ in range(n)]\n",
    "\n",
    "    @cache\n",
    "    def knapsack_recursive2(i, remainning_capacity):\n",
    "        #if there is  no item left or remainning capacity is zero\n",
    "        if i == n or remainning_capacity == 0:\n",
    "            return 0\n",
    "        \n",
    "        #if the subproblem have been solved already, return the result \n",
    "        if memo[i][remainning_capacity] != -1:\n",
    "            return memo[i][remainning_capacity]\n",
    "        \n",
    "        #Do not include the current item\n",
    "        max_value = knapsack_recursive2(i + 1, remainning_capacity)\n",
    "\n",
    "        #Include the current item if it is within the current capacity \n",
    "        if weights[i] <= remainning_capacity:\n",
    "            max_value = max(max_value, values[i] + knapsack_recursive2(i +1, remainning_capacity - weights[i]))\n",
    "\n",
    "        #memoize the result \n",
    "        memo[i][remainning_capacity] == max_value\n",
    "        return max_value\n",
    "\n",
    "    #solve the knapsack problem starting from 0 capacity \n",
    "    return knapsack_recursive2(0, capacity)"
   ]
  },
  {
   "cell_type": "code",
   "execution_count": null,
   "metadata": {},
   "outputs": [],
   "source": [
    "#Q: knapsack bottom-up\n",
    "def knapsack_bottom_up(values, weights, capacity):\n",
    "    #create the length of values \n",
    "    n = len(values)\n",
    "\n",
    "    # Create a 2D DP array to store the maximum weight capacity values \n",
    "    dp = [[0 for _ in range(capacity + 1)] for _ in range(n + 1)]\n",
    "\n",
    "    #Build the DP - bottom-up \n",
    "    for i in range(0, n + 1):\n",
    "        for w in range(0, capacity + 1):\n",
    "            if i == 0 and w == 0:\n",
    "                dp[i][w] = 0 #Base case \n",
    "            elif weights[i -1] <= w:\n",
    "                dp[i][w] = max(values[i - 1] + dp[i -1][w - weights[i - 1]], dp[i - 1][w])\n",
    "            else:\n",
    "                dp[i][w] = dp[i - 1][w]\n",
    "\n",
    "    return dp[n][capacity]"
   ]
  },
  {
   "cell_type": "code",
   "execution_count": 19,
   "metadata": {},
   "outputs": [
    {
     "name": "stdout",
     "output_type": "stream",
     "text": [
      "The coin used to make up the change amount 11 is: [6, 5]\n",
      "The fewest number of coins needed for the change amount of 11 is: 2\n"
     ]
    }
   ],
   "source": [
    "#Q: fewest coin Change problem for target amount \n",
    "def coinChange2(coins, amount):\n",
    "    dp = [float('inf')] * (amount + 1)\n",
    "\n",
    "    #Base case \n",
    "    dp[0] = 0 \n",
    "\n",
    "    #fill the dp\n",
    "    for coin in coins:\n",
    "        for i in range(coin, amount + 1):\n",
    "            dp[i] = min(dp[i], dp[i - coin] + 1)\n",
    "\n",
    "    \n",
    "    # if dp[amount] == float('inf) return -1 \n",
    "    if dp[amount] == float('inf'):\n",
    "        return -1\n",
    "    \n",
    "    #Back track to find the coins used for the change amount \n",
    "    coin_used = []\n",
    "    remainning_amount = amount \n",
    "    while remainning_amount > 0:\n",
    "        for coin in coins:\n",
    "            if remainning_amount >= coin and dp[remainning_amount] == dp[remainning_amount - coin] + 1:\n",
    "                coin_used.append(coin)\n",
    "                remainning_amount -= coin \n",
    "                break \n",
    "\n",
    "    #Debug Statement \n",
    "    print(f\"The coin used to make up the change amount {amount} is: {coin_used}\")\n",
    "\n",
    "\n",
    "    return dp[amount]\n",
    "\n",
    "if __name__ == '__main__':\n",
    "    coins = [9, 6, 5, 1]\n",
    "    amount  = 11\n",
    "    result = coinChange2(coins, amount)\n",
    "    print(f\"The fewest number of coins needed for the change amount of 11 is: {result}\")"
   ]
  },
  {
   "cell_type": "code",
   "execution_count": 8,
   "metadata": {},
   "outputs": [
    {
     "name": "stdout",
     "output_type": "stream",
     "text": [
      "11011\n"
     ]
    }
   ],
   "source": [
    "#Q: Decimal to binary- python built-in\n",
    "def decimal_binary_built_in(num):\n",
    "    return bin(num)[2:] # to remove '0b' prefix \n",
    "\n",
    "if __name__=='__main__':\n",
    "    num = 27\n",
    "    result = decimal_binary_built_in(num)\n",
    "    print(result)"
   ]
  },
  {
   "cell_type": "code",
   "execution_count": 23,
   "metadata": {},
   "outputs": [
    {
     "name": "stdout",
     "output_type": "stream",
     "text": [
      "11011\n"
     ]
    }
   ],
   "source": [
    "#Q: Decimal to binary maual - append method \n",
    "def decimal_binary_manual_app(num):\n",
    "    if num == 0:\n",
    "        return '0'\n",
    "    \n",
    "    binary_digits = []\n",
    "\n",
    "    while num > 0:\n",
    "        remainder = num % 2\n",
    "        binary_digits.append(str(remainder))\n",
    "        num = num // 2\n",
    "\n",
    "    binary_digits.reverse()\n",
    "    return ''.join(binary_digits)\n",
    "\n",
    "if __name__ == '__main__':\n",
    "    num = 27 \n",
    "    print(decimal_binary_manual_app(num))"
   ]
  },
  {
   "cell_type": "code",
   "execution_count": 24,
   "metadata": {},
   "outputs": [
    {
     "name": "stdout",
     "output_type": "stream",
     "text": [
      "11011\n"
     ]
    }
   ],
   "source": [
    "#Q: Decimal to binary manual - insert method \n",
    "def decimal_to_binary_insert(arr):\n",
    "    if arr == 0:\n",
    "        return 0 \n",
    "    \n",
    "    bin_digits = []\n",
    "    while arr > 0:\n",
    "        remainder = arr % 2\n",
    "        bin_digits.insert(0, remainder)\n",
    "        arr = arr // 2\n",
    "\n",
    "    bin_digits.reverse()\n",
    "    return ''.join(map(str, bin_digits))\n",
    "\n",
    "if __name__ == '__main__':\n",
    "    num = 27 \n",
    "    print(decimal_to_binary_insert(num))"
   ]
  },
  {
   "cell_type": "code",
   "execution_count": 26,
   "metadata": {},
   "outputs": [
    {
     "name": "stdout",
     "output_type": "stream",
     "text": [
      "[['row', 'wor'], ['a'], ['test', 'ttes', 'tset']]\n"
     ]
    }
   ],
   "source": [
    "#Q; Group anagram \n",
    "def group_anagram(word_list):\n",
    "    anagram =  {}\n",
    "\n",
    "    for word in word_list:\n",
    "        signature = ''.join(sorted(word))\n",
    "\n",
    "        if signature in anagram:\n",
    "            anagram[signature].append(word)\n",
    "        else:\n",
    "            anagram[signature] = [word]\n",
    "    \n",
    "    anagram = list(anagram.values())\n",
    "\n",
    "    return anagram\n",
    "\n",
    "if __name__ == '__main__':\n",
    "    word_list = [\"row\", \"a\", \"wor\", \"test\", \"ttes\", \"tset\"]\n",
    "    groupAnag = group_anagram(word_list)\n",
    "    print(groupAnag)"
   ]
  },
  {
   "cell_type": "code",
   "execution_count": 27,
   "metadata": {},
   "outputs": [
    {
     "name": "stdout",
     "output_type": "stream",
     "text": [
      "[['row', 'wor'], ['a'], ['test', 'ttes', 'tset']]\n"
     ]
    }
   ],
   "source": [
    "from collections import defaultdict\n",
    "def word_anagram(words):\n",
    "    anagram_group = defaultdict(list)\n",
    "\n",
    "    for word in words:\n",
    "        signature = ''.join(sorted(word))\n",
    "\n",
    "        if signature in anagram_group:\n",
    "            anagram_group[signature].append(word)\n",
    "        else:\n",
    "            anagram_group[signature] = [word]\n",
    "\n",
    "    anagram_group = list(anagram_group.values())\n",
    "\n",
    "    return anagram_group\n",
    "\n",
    "if __name__ == '__main__':\n",
    "    word_list = [\"row\", \"a\", \"wor\", \"test\", \"ttes\", \"tset\"]\n",
    "    groupAnag = word_anagram(word_list)\n",
    "    print(groupAnag)"
   ]
  },
  {
   "cell_type": "code",
   "execution_count": 38,
   "metadata": {},
   "outputs": [
    {
     "name": "stdout",
     "output_type": "stream",
     "text": [
      "Taking 0 from left and 3 from right: sum = 6\n",
      "Taking 1 from left and 2 from right: sum = 8\n",
      "Taking 2 from left and 1 from right: sum = 5\n",
      "Taking 3 from left and 0 from right: sum = 6\n",
      "The maximum achievable sum by picking 3 cards is: 8\n"
     ]
    }
   ],
   "source": [
    "#Q: cards combination with both_side_max_index\n",
    "from functools import cache\n",
    "def both_side_max_index(cards, k =3):\n",
    "    n = len(cards)\n",
    "\n",
    "    if k > n:\n",
    "        return sum(cards)\n",
    "    \n",
    "    max_and = 0 \n",
    "    \n",
    "    #@cache\n",
    "    def manual_sum(nums):\n",
    "        total_num = 0 \n",
    "        for num in nums:\n",
    "            total_num += num \n",
    "        \n",
    "        return total_num\n",
    "    \n",
    "    for left_count in range(0, k + 1):\n",
    "        right_count = k - left_count\n",
    "\n",
    "        left_sum = manual_sum(cards[:left_count]) if left_count > 0 else 0 \n",
    "\n",
    "        #Right sum starting from the end \n",
    "        right_sum = manual_sum(cards[-right_count:]) if right_count > 0 else 0 \n",
    "\n",
    "        current_sum = left_sum + right_sum\n",
    "\n",
    "        max_and = max(max_and, current_sum)\n",
    "\n",
    "        #Debug statement \n",
    "        print(f\"Taking {left_count} from left and {right_count} from right: sum = {current_sum}\")\n",
    "\n",
    "    return max_and \n",
    "\n",
    "if __name__ == '__main__':\n",
    "    cards = [5, -2, 3, 1, 2]\n",
    "    print(f\"The maximum achievable sum by picking 3 cards is: {both_side_max_index(cards, k=3)}\")\n"
   ]
  },
  {
   "cell_type": "code",
   "execution_count": 36,
   "metadata": {},
   "outputs": [
    {
     "name": "stdout",
     "output_type": "stream",
     "text": [
      "The majority occuring element in the array is: 1\n"
     ]
    }
   ],
   "source": [
    "#Q: majority elements for n/2 times\n",
    "from functools import cache\n",
    "def majority_element2(arr):\n",
    "    counts = 0 \n",
    "    candidate = None \n",
    "\n",
    "    @cache\n",
    "    def manual_sum(nums):\n",
    "        count_sum = 0\n",
    "        for num in nums:\n",
    "            count_sum += num \n",
    "\n",
    "        return count_sum\n",
    "    \n",
    "    for num in arr:\n",
    "        if counts == 0:\n",
    "            candidate = num \n",
    "        \n",
    "        counts += (1 if num == candidate else -1)\n",
    "\n",
    "    #verify candidate \n",
    "    counts = manual_sum(1 for num in arr if num == candidate)\n",
    "\n",
    "    if counts > len(arr) // 2:\n",
    "        return candidate\n",
    "    else: \n",
    "        return None \n",
    "    \n",
    "if __name__ == '__main__':\n",
    "    arr = [2,1,1,1,4,7,1,1,1,1]\n",
    "    result = majority_element2(arr)\n",
    "    print(f\"The majority occuring element in the array is: {result}\")\n"
   ]
  },
  {
   "cell_type": "markdown",
   "metadata": {},
   "source": [
    "### Hamilton Cycle \n",
    "\n",
    "A Hamilton cycle in a graph is a path that visits each vertex exactly once and returns to the starting vertex. This is an NP-complete problem, which means there is no efficient solution known for large graphs.\n",
    "\n",
    "- NP: Nondeterministic polynomial time\n",
    "\n",
    "- Using a dynamic programming approach to find if there is a Hamiltonian cycle in the graph.\n",
    "\n",
    "**Aproach Explanation**\n",
    "\n",
    "- **Bit Masking**: We use a bitmask to represent subsets of nodes. Each subset is represented by a bit value in which a `1` at the $i^th$ position indicates that the $i^th$ node is included in the subset.\n",
    "\n",
    "- **height = 1 << n**: represents all possible subsets of nodes (from `0` to $2^n$ - 1 where each integer represents a subset)"
   ]
  },
  {
   "cell_type": "code",
   "execution_count": 19,
   "metadata": {},
   "outputs": [
    {
     "name": "stdout",
     "output_type": "stream",
     "text": [
      "Hamiltonian cycle exists.\n"
     ]
    }
   ],
   "source": [
    "def hamilton_cycle(graph, n):\n",
    "    #Represents 2^n possible subsets of nodes\n",
    "    height = 1 << n\n",
    "\n",
    "    #Initialize DP table with False values\n",
    "    dp = [[False for _ in range(n)] for _ in range(height)]\n",
    "\n",
    "    #Base case: Each node alone in its subset\n",
    "    for i in range(n):\n",
    "        dp[1 << i][i] = True \n",
    "\n",
    "    #Fill the DP table for each subset of nodes \n",
    "    for i in range(height):\n",
    "        #separate nodes in and out of the current subset \n",
    "        ones, zeros = [], []\n",
    "\n",
    "        for pos in range(n):\n",
    "            if (1 << pos) & i: \n",
    "                ones.append(pos)\n",
    "            else:\n",
    "                zeros.append(pos)\n",
    "\n",
    "        #for each node in 'one' (ending node of current subset paths)\n",
    "        for o in ones:\n",
    "            if not dp[i][o]:\n",
    "                continue \n",
    "\n",
    "            #for each node in 'zeros' (possible next node)\n",
    "            for z in zeros:\n",
    "                if graph[o][z]:\n",
    "                    new_val = i | (1 << z)\n",
    "                    dp[new_val][z] = True \n",
    "\n",
    "    \n",
    "    #Check if there's a Hamiltonian cycale that covers all the nodes\n",
    "    return any(dp[height - 1][j] and graph[j][0] for j in range(n))\n",
    "\n",
    "if __name__ =='__main__':\n",
    "\n",
    "    graph = [\n",
    "    [0, 1, 0, 1, 0],\n",
    "    [1, 0, 1, 1, 1],\n",
    "    [0, 1, 0, 0, 1],\n",
    "    [1, 1, 0, 0, 1],\n",
    "    [0, 1, 1, 1, 0]\n",
    "    ]\n",
    "\n",
    "    n = len(graph)\n",
    "    if hamilton_cycle(graph, n):\n",
    "        print(f\"Hamiltonian cycle exists.\")\n",
    "    else:\n",
    "        print(f\"No Hamiltonian cycle exists.\")"
   ]
  },
  {
   "cell_type": "markdown",
   "metadata": {},
   "source": [
    "**Optimized Himiltoonian Cycle Function**\n",
    "\n",
    "Above code can be optimized in a few way to produce efficiency and clarity:\n",
    "\n",
    "1) `Remove zeros list`: instead of creating zeros (the list of nodes not in the subset), we can directly iterate through nodes and use a condition to check if a node is in the subset or not.\n",
    "\n",
    "2) `Use Bitwise Operations for` new_val: Instead  of calculating `new_val` with `i + (1 << z)`, we can simply use ` i | (i << z)` to make it more explicit.\n"
   ]
  },
  {
   "cell_type": "code",
   "execution_count": 30,
   "metadata": {},
   "outputs": [
    {
     "name": "stdout",
     "output_type": "stream",
     "text": [
      "True\n"
     ]
    }
   ],
   "source": [
    "def hamiltonian_cycle_optimized(graph, n):\n",
    "    \"\"\" \n",
    "    Time complexity: O(2^n * n^2)\n",
    "    Space complexity: O(2^n * n)\n",
    "    \"\"\"\n",
    "    #Initialize a DP table \n",
    "    dp = [[False] * n  for _ in range(1 << n)]\n",
    "\n",
    "    #Base Case: path with a single node \n",
    "    for i in range(n):\n",
    "        dp[1 << i][i] = True \n",
    "\n",
    "    #Fill the DP table for all subsets of graph \n",
    "    for subset in range(1 << n):\n",
    "        for end in range(n):\n",
    "            #Continue only if there is a path ending at 'end' for the current subset \n",
    "            if not dp[subset][end]:\n",
    "                continue \n",
    "\n",
    "            #Try to extend path to each 'next_node' not in subset \n",
    "            for next_node in range(n):\n",
    "                if subset & (1 << next_node) == 0 and graph[end][next_node]:\n",
    "                    dp[subset | (1 << next_node)][next_node] = True \n",
    "\n",
    "    \n",
    "    #Check for Hamiltonian cycle by verifying if a path that covers all nodes\n",
    "    #can return to the starting node (node 0)\n",
    "    full_set = (1 << n) - 1\n",
    "    return any(dp[full_set][j] and graph[j][0] for j in range(1, n))\n",
    "\n",
    "\n",
    "if __name__ =='__main__':\n",
    "    graph = graph = [\n",
    "    [0, 1, 0, 1, 0],\n",
    "    [1, 0, 1, 1, 1],\n",
    "    [0, 1, 0, 0, 1],\n",
    "    [1, 1, 0, 0, 1],\n",
    "    [0, 1, 1, 1, 0]\n",
    "    ]\n",
    "    n = len(graph)\n",
    "\n",
    "    print(hamiltonian_cycle_optimized(graph, n))"
   ]
  },
  {
   "cell_type": "markdown",
   "metadata": {},
   "source": [
    "##### Big-O Notation: Time & Space Complexity Analysis: Hamiltonian Cycle Optimized\n",
    "\n",
    "The optimized code for finding a Hiltonian cycle in a graph has specific time and space complexity due to the nature of the dynamic programming and bitmasking:\n",
    "\n",
    "**Time Complexity**\n",
    "\n",
    "- The **Outer Loop (subset iteration)**: the code iterates over all subsets of nodes. Since there are $n$ nodes, there are $2^n$ possible subsets, so the outer loop runs $O(2^n)$ times.\n",
    "\n",
    "- The **Inner Loop (Each Node and Next Node)**:\n",
    "    - For each subset, we iterate through each node to see if it could be the end node for Hamiltonian path in that subset. This requires $O(n)$ time \n",
    "    - For each end node, we try to extend the path to any node not in the subset, which also takes $O(n)$ time.\n",
    "\n",
    "**Thus, the total time complexity is:**  $O(2^n * n^2)$\n",
    "\n",
    "**Space Complexity**\n",
    "\n",
    "- **DP Table**: We use a `dp` table with a dimension of $2^n$ x $n$, where each entry stores whether a Hamiltonian path ending at a specific node exists for each subset. This results in a space complexity of $O(2^n * n)$.\n",
    "\n",
    "- Other **variables**: Apart from the `dp` table, the space used by other variables (such as `full_set`) is negligible in comparison.\n",
    "\n",
    "**This, the total space complexity is: $O(2^n * n)$"
   ]
  },
  {
   "cell_type": "markdown",
   "metadata": {},
   "source": [
    "#### --------------------Longest Common Subsequence -------------------------\n",
    "\n",
    "The **Longest Common Subsequence (LCS)** problem is a classic dynamic programming problem where given two strings, the goal is to find the longest subsequence that appears in both strings in the same order."
   ]
  },
  {
   "cell_type": "code",
   "execution_count": null,
   "metadata": {},
   "outputs": [],
   "source": [
    "def longest_common_subsequence(str1, str2):\n",
    "    #Get the length of the two strings\n",
    "    m, n = len(str1), len(str2)\n",
    "\n",
    "    #Create a 2D DP array to store the length of LCS \n",
    "    dp = [[0] * (n + 1) for _ in range(m + 1)]\n",
    "\n",
    "    #build a dp array in bottom-up manner \n",
    "    for i in range(1, m + 1):\n",
    "        for j in range(1, n + 1):\n",
    "            if str1[i - 1] == str2[j - 1]:\n",
    "                dp[i][j] = dp[i - 1][j - 1] + 1\n",
    "            else:\n",
    "                dp[i][j] = max(dp[i - 1][j], dp[i][j - 1])\n",
    "\n",
    "    #Now dp[m][n] contains the length of LCS, but we need to retrieve the LCS itself \n",
    "    lcs = -[]\n",
    "    i, j = m , n \n",
    "\n",
    "    while i > 0 and j > 0 :\n",
    "        pass \n",
    "\n",
    "    "
   ]
  },
  {
   "cell_type": "code",
   "execution_count": null,
   "metadata": {},
   "outputs": [],
   "source": []
  }
 ],
 "metadata": {
  "kernelspec": {
   "display_name": "DevOpsManager",
   "language": "python",
   "name": "python3"
  },
  "language_info": {
   "codemirror_mode": {
    "name": "ipython",
    "version": 3
   },
   "file_extension": ".py",
   "mimetype": "text/x-python",
   "name": "python",
   "nbconvert_exporter": "python",
   "pygments_lexer": "ipython3",
   "version": "3.12.4"
  }
 },
 "nbformat": 4,
 "nbformat_minor": 2
}

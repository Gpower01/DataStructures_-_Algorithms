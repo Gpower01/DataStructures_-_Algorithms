{
 "cells": [
  {
   "cell_type": "markdown",
   "metadata": {},
   "source": [
    "### Hashing \n",
    "\n",
    "A hash function is a function that takes an inpute and deterministically converts it to an integer that is less than a fized size set by the programmer. Inputs are called **keys** and the same input will always be converted to the same integer.\n",
    "\n",
    "**Check if the sentence is Pangram**\n",
    "- A pangram is a sentence where every letter of the English alphabet appears at least once."
   ]
  },
  {
   "cell_type": "code",
   "execution_count": 2,
   "metadata": {},
   "outputs": [
    {
     "name": "stdout",
     "output_type": "stream",
     "text": [
      "True\n"
     ]
    }
   ],
   "source": [
    "#Q: Given a string sentence containing only lowercase English letters, return true if sentence is a pangram or false otherwise\n",
    "def is_pangram(sentence):\n",
    "    seen = set()\n",
    "\n",
    "    for i in sentence:\n",
    "        seen.add(i)\n",
    "        if len(seen) == 26:\n",
    "            return True \n",
    "        \n",
    "    return len(seen) == 26 \n",
    "\n",
    "if __name__ == '__main__':\n",
    "    sentence = \"thequickbrownfoxjumpsoverthelazydog\"\n",
    "    print(is_pangram(sentence))"
   ]
  },
  {
   "cell_type": "markdown",
   "metadata": {},
   "source": [
    "### Create A HashTable Or Hash Function/ Hash Map\n",
    "\n",
    "Python implementation of a simple hash table (also known as a hash map) using **separate chaning** to handle **collision** including basic operators or methods such as **set**, **get** and **delete** "
   ]
  },
  {
   "cell_type": "code",
   "execution_count": null,
   "metadata": {},
   "outputs": [],
   "source": [
    "class HashTable:\n",
    "    def __init__(self, size=100):\n",
    "        \"\"\" \n",
    "        Initialize the table with a fixed size.\n",
    "        Each slot in the table contains a list to handle collision via chaining.\n",
    "        \"\"\"\n",
    "        self.size = size \n",
    "        self.table = [[] for _ in range(self.size)]\n",
    "\n",
    "    def _hash(self, key):\n",
    "        \"\"\"\n",
    "        Generate a hash for the given key.\n",
    "        Using the python built-in hash function \n",
    "        \"\"\"\n",
    "        return hash(key) % self.size"
   ]
  }
 ],
 "metadata": {
  "kernelspec": {
   "display_name": "DevOpsManager",
   "language": "python",
   "name": "python3"
  },
  "language_info": {
   "codemirror_mode": {
    "name": "ipython",
    "version": 3
   },
   "file_extension": ".py",
   "mimetype": "text/x-python",
   "name": "python",
   "nbconvert_exporter": "python",
   "pygments_lexer": "ipython3",
   "version": "3.12.4"
  }
 },
 "nbformat": 4,
 "nbformat_minor": 2
}

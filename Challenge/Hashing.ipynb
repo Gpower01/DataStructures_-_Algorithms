{
 "cells": [
  {
   "cell_type": "markdown",
   "metadata": {},
   "source": [
    "### Hashing \n",
    "\n",
    "A hash function is a function that takes an inpute and deterministically converts it to an integer that is less than a fized size set by the programmer. Inputs are called **keys** and the same input will always be converted to the same integer.\n",
    "\n",
    "**Check if the sentence is Pangram**\n",
    "- A pangram is a sentence where every letter of the English alphabet appears at least once."
   ]
  },
  {
   "cell_type": "code",
   "execution_count": null,
   "metadata": {},
   "outputs": [],
   "source": [
    "#Q: Given a string sentence containing only lowercase English letters, return true if sentence is a pangram or false otherwise\n",
    "def is_pangram(sentence):\n",
    "    sentence = len(sentence)\n",
    "    seen = {}\n",
    "\n",
    "    for i in sentence:\n",
    "        seen.add(i)\n",
    "        if len(seen) == 26:\n",
    "            return True \n",
    "        \n",
    "    return len(seen) == 26 "
   ]
  }
 ],
 "metadata": {
  "language_info": {
   "name": "python"
  }
 },
 "nbformat": 4,
 "nbformat_minor": 2
}

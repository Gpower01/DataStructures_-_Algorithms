{
 "cells": [
  {
   "cell_type": "markdown",
   "metadata": {},
   "source": [
    "### Hashing \n",
    "\n",
    "A hash function is a function that takes an inpute and deterministically converts it to an integer that is less than a fized size set by the programmer. Inputs are called **keys** and the same input will always be converted to the same integer.\n",
    "\n",
    "**Check if the sentence is Pangram**\n",
    "- A pangram is a sentence where every letter of the English alphabet appears at least once."
   ]
  },
  {
   "cell_type": "code",
   "execution_count": 2,
   "metadata": {},
   "outputs": [
    {
     "name": "stdout",
     "output_type": "stream",
     "text": [
      "True\n"
     ]
    }
   ],
   "source": [
    "#Q: Given a string sentence containing only lowercase English letters, return true if sentence is a pangram or false otherwise\n",
    "def is_pangram(sentence):\n",
    "    seen = set()\n",
    "\n",
    "    for i in sentence:\n",
    "        seen.add(i)\n",
    "        if len(seen) == 26:\n",
    "            return True \n",
    "        \n",
    "    return len(seen) == 26 \n",
    "\n",
    "if __name__ == '__main__':\n",
    "    sentence = \"thequickbrownfoxjumpsoverthelazydog\"\n",
    "    print(is_pangram(sentence))"
   ]
  },
  {
   "cell_type": "markdown",
   "metadata": {},
   "source": [
    "### Create A HashTable Or Hash Function/ Hash Map: Separate Chaining\n",
    "\n",
    "Python implementation of a simple hash table (also known as a hash map) using **separate chaning** to handle **collision** including basic operators or methods such as **set**, **get** and **delete** "
   ]
  },
  {
   "cell_type": "code",
   "execution_count": null,
   "metadata": {},
   "outputs": [],
   "source": [
    "class HashTable:\n",
    "    def __init__(self, size=100):\n",
    "        \"\"\" \n",
    "        Initialize the table with a fixed size.\n",
    "        Each slot in the table contains a list to handle collision via chaining.\n",
    "        \"\"\"\n",
    "        self.size = size \n",
    "        self.table = [[] for _ in range(self.size)]\n",
    "\n",
    "    def _hash(self, key):\n",
    "        \"\"\"\n",
    "        Generate a hash for the given key.\n",
    "        Using the python built-in hash function \n",
    "        \"\"\"\n",
    "        return hash(key) % self.size \n",
    "    \n",
    "    def set(self, key, value):\n",
    "        \"\"\" \n",
    "        Insert a key-value pair into the hash table \n",
    "        If the key already exist, update the value\n",
    "        \"\"\"\n",
    "        index =  self._hash(key)\n",
    "        #check if the key already exist and update the value\n",
    "        for pair in self.table[index]:\n",
    "            if pair[0] == key:\n",
    "                pair[1] = value\n",
    "                print(f\"Updated key '{key}' with value '{value}'.\")\n",
    "                return \n",
    "        \n",
    "        #If the key doesn't exist, append new key-value pair\n",
    "        self.table[index].append([key, value])\n",
    "        print(f\"Inserted key '{key}' with value '{value}'.\")\n",
    "\n",
    "    def get(self, key):\n",
    "        \"\"\"\n",
    "        Retrieve the value associated with the given key \n",
    "        Returns None if the key is not Found \n",
    "        \"\"\"\n",
    "        index = self._hash(key):\n",
    "        for pair in self.table[index]:\n",
    "            if pair[0] == key:\n",
    "                print(f\"Found key '{key}' with value '{pair[1]}'.\")\n",
    "                return pair[1]\n",
    "        \n",
    "        print(f\"Key '{key}' not Found\")\n",
    "        return None"
   ]
  }
 ],
 "metadata": {
  "kernelspec": {
   "display_name": "DevOpsManager",
   "language": "python",
   "name": "python3"
  },
  "language_info": {
   "codemirror_mode": {
    "name": "ipython",
    "version": 3
   },
   "file_extension": ".py",
   "mimetype": "text/x-python",
   "name": "python",
   "nbconvert_exporter": "python",
   "pygments_lexer": "ipython3",
   "version": "3.12.4"
  }
 },
 "nbformat": 4,
 "nbformat_minor": 2
}

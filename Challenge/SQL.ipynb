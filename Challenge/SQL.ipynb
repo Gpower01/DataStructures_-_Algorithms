{
 "cells": [
  {
   "cell_type": "markdown",
   "metadata": {},
   "source": [
    "### Big Data Analysis \n",
    "\n",
    "- SQL (Structured Query Language) is a ,jor programming language in the database development field. The biggest difference between SQL and other programming languages, such as Java and Python is the language design logic.\n",
    "\n",
    "* The syntax of SQL focused on teh logic of **grouping**; while most other programming languages focus more on **proceedure**, which uses liner thinking. \n",
    "\n",
    "##### SQL Data Structure\n",
    "\n",
    "**General Database Structure**\n",
    "\n",
    "<img width=\"823\" alt=\"General Database Structure \" src=\"https://github.com/user-attachments/assets/dc7514f9-5a26-4546-a79c-979b96266446\">\n",
    "\n",
    "- The figure above describes what the architecture looks like in a typical database software ecosystem. The most valuable part of the database is the data itself. Different types of data can be stored.\n",
    "\n",
    "**What is Primary key**:\n",
    "\n",
    "The Primary Key is a vital part of each table in the database system. It can be any column or a group of multiple columns, and there can only be one primary key in a table. The value cannot be repeated or null.\n",
    "\n",
    "##### Data Type\n",
    "- **Number**\n",
    "\n",
    "1) `INT`\n",
    "2) `Double`, `Float`, `Decimal`\n",
    "\n",
    "- **Datetime**\n",
    "1) `Date`\n",
    "2) `Month`\n",
    "3) `Year\n",
    "4) `Datetime`\n",
    "5) Timestamp\n",
    "\n",
    "- **TEXT**:\n",
    "1) `Char`\n",
    "2) `Varchar`\n",
    "\n",
    "#### Special Data Types:\n",
    "1) BINARY\n",
    "2) BLOB\n",
    "3) BOOLEAN"
   ]
  },
  {
   "cell_type": "code",
   "execution_count": 1,
   "metadata": {},
   "outputs": [
    {
     "name": "stdout",
     "output_type": "stream",
     "text": [
      "Logging hadn't been started.\n"
     ]
    }
   ],
   "source": [
    "%logstop\n",
    "%matplotlib inline\n",
    "import matplotlib\n",
    "import seaborn as sns\n",
    "sns.set()\n",
    "matplotlib.rcParams['figure.dpi'] = 144"
   ]
  },
  {
   "cell_type": "code",
   "execution_count": 2,
   "metadata": {},
   "outputs": [],
   "source": [
    "%load_ext sql\n",
    "%sql sqlite:///testdb.sqlite"
   ]
  },
  {
   "cell_type": "code",
   "execution_count": 3,
   "metadata": {},
   "outputs": [],
   "source": [
    "%reload_ext sql\n",
    "%sql sqlite:///testdb.sqlite"
   ]
  },
  {
   "cell_type": "code",
   "execution_count": 18,
   "metadata": {},
   "outputs": [
    {
     "name": "stdout",
     "output_type": "stream",
     "text": [
      " * sqlite:///testdb.sqlite\n",
      "Done.\n",
      "Done.\n",
      "Done.\n",
      "Done.\n",
      "Done.\n",
      "Done.\n",
      "Done.\n"
     ]
    },
    {
     "data": {
      "text/plain": [
       "[]"
      ]
     },
     "execution_count": 18,
     "metadata": {},
     "output_type": "execute_result"
    }
   ],
   "source": [
    "%%sql\n",
    "--# The %%sql magic tells Jupyter to interpret this cell as SQL\n",
    "--# In SQL comments begin with \"--\" (we add # to take advantage of Jupyter's syntax highlighting)\n",
    "\n",
    "--# Since we're starting a new example, let's delete any existing tables\n",
    "DROP TABLE IF EXISTS customers;\n",
    "DROP TABLE IF EXISTS products;\n",
    "DROP TABLE IF EXISTS orders;\n",
    "DROP TABLE IF EXISTS employees;\n",
    "\n",
    "--# Now let's make our tables\n",
    "CREATE TABLE customers (\n",
    "    id                 INTEGER PRIMARY KEY NOT NULL,\n",
    "    name               TEXT NOT NULL,\n",
    "    billing_address    TEXT NOT NULL\n",
    ");\n",
    "\n",
    "CREATE TABLE products (\n",
    "    id                 INTEGER PRIMARY KEY NOT NULL,\n",
    "    price              NUMBER NOT NULL\n",
    ");\n",
    "\n",
    "CREATE TABLE orders (\n",
    "    id                 INTEGER NOT NULL,\n",
    "    customer_id        NUMBER NOT NULL,\n",
    "    product_id         NUMBER NOT NULL,\n",
    "    delivery_address   TEXT NOT NULL,\n",
    "    FOREIGN KEY(customer_id) REFERENCES customers(id),\n",
    "    FOREIGN KEY(product_id) REFERENCES products(id)\n",
    ");"
   ]
  },
  {
   "cell_type": "markdown",
   "metadata": {},
   "source": [
    "```\n",
    "SELECT name, sql FROM sqlite_master\n",
    "WHERE type='table'\n",
    "ORDER BY name;\n",
    "```"
   ]
  },
  {
   "cell_type": "code",
   "execution_count": 5,
   "metadata": {},
   "outputs": [
    {
     "name": "stdout",
     "output_type": "stream",
     "text": [
      " * sqlite:///testdb.sqlite\n",
      "Done.\n"
     ]
    },
    {
     "data": {
      "text/html": [
       "<table>\n",
       "    <thead>\n",
       "        <tr>\n",
       "            <th>type</th>\n",
       "            <th>name</th>\n",
       "            <th>tbl_name</th>\n",
       "            <th>rootpage</th>\n",
       "            <th>sql</th>\n",
       "        </tr>\n",
       "    </thead>\n",
       "    <tbody>\n",
       "        <tr>\n",
       "            <td>table</td>\n",
       "            <td>customers</td>\n",
       "            <td>customers</td>\n",
       "            <td>3</td>\n",
       "            <td>CREATE TABLE customers (<br>    id                 INTEGER PRIMARY KEY NOT NULL,<br>    name               TEXT NOT NULL,<br>    billing_address    TEXT NOT NULL<br>)</td>\n",
       "        </tr>\n",
       "        <tr>\n",
       "            <td>table</td>\n",
       "            <td>products</td>\n",
       "            <td>products</td>\n",
       "            <td>4</td>\n",
       "            <td>CREATE TABLE products (<br>    id                 INTEGER PRIMARY KEY NOT NULL,<br>    price              NUMBER NOT NULL<br>)</td>\n",
       "        </tr>\n",
       "        <tr>\n",
       "            <td>table</td>\n",
       "            <td>orders</td>\n",
       "            <td>orders</td>\n",
       "            <td>2</td>\n",
       "            <td>CREATE TABLE orders (<br>    id                 INTEGER NOT NULL,<br>    customer_id        NUMBER NOT NULL,<br>    product_id         NUMBER NOT NULL,<br>    delivery_address   TEXT NOT NULL,<br>    FOREIGN KEY(customer_id) REFERENCES customers(id),<br>    FOREIGN KEY(product_id) REFERENCES products(id)<br>)</td>\n",
       "        </tr>\n",
       "    </tbody>\n",
       "</table>"
      ],
      "text/plain": [
       "[('table', 'customers', 'customers', 3, 'CREATE TABLE customers (\\n    id                 INTEGER PRIMARY KEY NOT NULL,\\n    name               TEXT NOT NULL,\\n    billing_address    TEXT NOT NULL\\n)'),\n",
       " ('table', 'products', 'products', 4, 'CREATE TABLE products (\\n    id                 INTEGER PRIMARY KEY NOT NULL,\\n    price              NUMBER NOT NULL\\n)'),\n",
       " ('table', 'orders', 'orders', 2, 'CREATE TABLE orders (\\n    id                 INTEGER NOT NULL,\\n    customer_id        NUMBER NOT NULL,\\n    product_id         NUMBER NOT NULL,\\n    delivery_address   TEXT NOT NULL,\\n    FOREIGN KEY(customer_id) REFERENCES customers(id),\\n    FOREIGN KEY(product_id) REFERENCES products(id)\\n)')]"
      ]
     },
     "execution_count": 5,
     "metadata": {},
     "output_type": "execute_result"
    }
   ],
   "source": [
    "%%sql\n",
    "SELECT * FROM sqlite_master;"
   ]
  },
  {
   "cell_type": "markdown",
   "metadata": {},
   "source": [
    "### Create Tables:\n",
    "* Employees Table"
   ]
  },
  {
   "cell_type": "code",
   "execution_count": 105,
   "metadata": {},
   "outputs": [
    {
     "name": "stdout",
     "output_type": "stream",
     "text": [
      " * sqlite:///testdb.sqlite\n",
      "Done.\n",
      "Done.\n"
     ]
    },
    {
     "data": {
      "text/plain": [
       "[]"
      ]
     },
     "execution_count": 105,
     "metadata": {},
     "output_type": "execute_result"
    }
   ],
   "source": [
    "%%sql\n",
    "\n",
    "--# Since we're starting a new employees table, let's delete any existing tables\n",
    "DROP TABLE IF EXISTS employees;\n",
    "\n",
    "\n",
    "CREATE TABLE employees(\n",
    "    ID                   INT NOT NULL ,\n",
    "    FirstName            TEXT NOT NULL,\n",
    "    LastName             VARCHAR(255) NOT NULL,\n",
    "    Salary               INTEGER NOT NULL ,\n",
    "    Departments           VARCHAR(255),\n",
    "    PRIMARY KEY (ID)\n",
    "    \n",
    ");\n",
    "\n"
   ]
  },
  {
   "cell_type": "code",
   "execution_count": 106,
   "metadata": {},
   "outputs": [
    {
     "name": "stdout",
     "output_type": "stream",
     "text": [
      " * sqlite:///testdb.sqlite\n",
      "9 rows affected.\n"
     ]
    },
    {
     "data": {
      "text/plain": [
       "[]"
      ]
     },
     "execution_count": 106,
     "metadata": {},
     "output_type": "execute_result"
    }
   ],
   "source": [
    "%%sql\n",
    "\n",
    "INSERT INTO employees (ID, FirstName, LastName, Salary, Departments)\n",
    "    VALUES (2351, 'Omar', 'Hossan', 65000, 'IT'), (2352, 'Stuart', 'Kenneth', 95000, 'Customer'), (6127, 'Vidhya', 'Samuel', 120000, 'Commercial'), (9532, 'Prab', 'Vidha', 90000, 'Engineering'), (8241, 'Bala', 'Yet', 80000, 'Digitaltwin'), (4328, 'Eva', 'Chandra', 11000, 'Data Engineering'), (5890, 'Hank', 'Frank', 75000, 'Data Science'), (8240, 'Grace', 'Charlie', 80000, 'Digitaltwin'), (3250, 'Kiran', 'David', 95000, 'Safety');"
   ]
  },
  {
   "cell_type": "code",
   "execution_count": 107,
   "metadata": {},
   "outputs": [
    {
     "name": "stdout",
     "output_type": "stream",
     "text": [
      " * sqlite:///testdb.sqlite\n",
      "Done.\n"
     ]
    },
    {
     "data": {
      "text/html": [
       "<table>\n",
       "    <thead>\n",
       "        <tr>\n",
       "            <th>ID</th>\n",
       "            <th>FirstName</th>\n",
       "            <th>LastName</th>\n",
       "            <th>Salary</th>\n",
       "            <th>Departments</th>\n",
       "        </tr>\n",
       "    </thead>\n",
       "    <tbody>\n",
       "        <tr>\n",
       "            <td>2351</td>\n",
       "            <td>Omar</td>\n",
       "            <td>Hossan</td>\n",
       "            <td>65000</td>\n",
       "            <td>IT</td>\n",
       "        </tr>\n",
       "        <tr>\n",
       "            <td>2352</td>\n",
       "            <td>Stuart</td>\n",
       "            <td>Kenneth</td>\n",
       "            <td>95000</td>\n",
       "            <td>Customer</td>\n",
       "        </tr>\n",
       "        <tr>\n",
       "            <td>6127</td>\n",
       "            <td>Vidhya</td>\n",
       "            <td>Samuel</td>\n",
       "            <td>120000</td>\n",
       "            <td>Commercial</td>\n",
       "        </tr>\n",
       "        <tr>\n",
       "            <td>9532</td>\n",
       "            <td>Prab</td>\n",
       "            <td>Vidha</td>\n",
       "            <td>90000</td>\n",
       "            <td>Engineering</td>\n",
       "        </tr>\n",
       "        <tr>\n",
       "            <td>8241</td>\n",
       "            <td>Bala</td>\n",
       "            <td>Yet</td>\n",
       "            <td>80000</td>\n",
       "            <td>Digitaltwin</td>\n",
       "        </tr>\n",
       "        <tr>\n",
       "            <td>4328</td>\n",
       "            <td>Eva</td>\n",
       "            <td>Chandra</td>\n",
       "            <td>11000</td>\n",
       "            <td>Data Engineering</td>\n",
       "        </tr>\n",
       "        <tr>\n",
       "            <td>5890</td>\n",
       "            <td>Hank</td>\n",
       "            <td>Frank</td>\n",
       "            <td>75000</td>\n",
       "            <td>Data Science</td>\n",
       "        </tr>\n",
       "        <tr>\n",
       "            <td>8240</td>\n",
       "            <td>Grace</td>\n",
       "            <td>Charlie</td>\n",
       "            <td>80000</td>\n",
       "            <td>Digitaltwin</td>\n",
       "        </tr>\n",
       "        <tr>\n",
       "            <td>3250</td>\n",
       "            <td>Kiran</td>\n",
       "            <td>David</td>\n",
       "            <td>95000</td>\n",
       "            <td>Safety</td>\n",
       "        </tr>\n",
       "    </tbody>\n",
       "</table>"
      ],
      "text/plain": [
       "[(2351, 'Omar', 'Hossan', 65000, 'IT'),\n",
       " (2352, 'Stuart', 'Kenneth', 95000, 'Customer'),\n",
       " (6127, 'Vidhya', 'Samuel', 120000, 'Commercial'),\n",
       " (9532, 'Prab', 'Vidha', 90000, 'Engineering'),\n",
       " (8241, 'Bala', 'Yet', 80000, 'Digitaltwin'),\n",
       " (4328, 'Eva', 'Chandra', 11000, 'Data Engineering'),\n",
       " (5890, 'Hank', 'Frank', 75000, 'Data Science'),\n",
       " (8240, 'Grace', 'Charlie', 80000, 'Digitaltwin'),\n",
       " (3250, 'Kiran', 'David', 95000, 'Safety')]"
      ]
     },
     "execution_count": 107,
     "metadata": {},
     "output_type": "execute_result"
    }
   ],
   "source": [
    "%%sql\n",
    "\n",
    "SELECT \n",
    "    * \n",
    "FROM \n",
    "    employees"
   ]
  },
  {
   "cell_type": "code",
   "execution_count": 108,
   "metadata": {},
   "outputs": [
    {
     "name": "stdout",
     "output_type": "stream",
     "text": [
      " * sqlite:///testdb.sqlite\n",
      "Done.\n"
     ]
    },
    {
     "data": {
      "text/html": [
       "<table>\n",
       "    <thead>\n",
       "        <tr>\n",
       "            <th>ID</th>\n",
       "            <th>FirstName</th>\n",
       "            <th>LastName</th>\n",
       "            <th>Salary</th>\n",
       "            <th>Departments</th>\n",
       "        </tr>\n",
       "    </thead>\n",
       "    <tbody>\n",
       "        <tr>\n",
       "            <td>6127</td>\n",
       "            <td>Vidhya</td>\n",
       "            <td>Samuel</td>\n",
       "            <td>120000</td>\n",
       "            <td>Commercial</td>\n",
       "        </tr>\n",
       "        <tr>\n",
       "            <td>2352</td>\n",
       "            <td>Stuart</td>\n",
       "            <td>Kenneth</td>\n",
       "            <td>95000</td>\n",
       "            <td>Customer</td>\n",
       "        </tr>\n",
       "        <tr>\n",
       "            <td>3250</td>\n",
       "            <td>Kiran</td>\n",
       "            <td>David</td>\n",
       "            <td>95000</td>\n",
       "            <td>Safety</td>\n",
       "        </tr>\n",
       "        <tr>\n",
       "            <td>9532</td>\n",
       "            <td>Prab</td>\n",
       "            <td>Vidha</td>\n",
       "            <td>90000</td>\n",
       "            <td>Engineering</td>\n",
       "        </tr>\n",
       "        <tr>\n",
       "            <td>8241</td>\n",
       "            <td>Bala</td>\n",
       "            <td>Yet</td>\n",
       "            <td>80000</td>\n",
       "            <td>Digitaltwin</td>\n",
       "        </tr>\n",
       "        <tr>\n",
       "            <td>8240</td>\n",
       "            <td>Grace</td>\n",
       "            <td>Charlie</td>\n",
       "            <td>80000</td>\n",
       "            <td>Digitaltwin</td>\n",
       "        </tr>\n",
       "        <tr>\n",
       "            <td>5890</td>\n",
       "            <td>Hank</td>\n",
       "            <td>Frank</td>\n",
       "            <td>75000</td>\n",
       "            <td>Data Science</td>\n",
       "        </tr>\n",
       "        <tr>\n",
       "            <td>2351</td>\n",
       "            <td>Omar</td>\n",
       "            <td>Hossan</td>\n",
       "            <td>65000</td>\n",
       "            <td>IT</td>\n",
       "        </tr>\n",
       "        <tr>\n",
       "            <td>4328</td>\n",
       "            <td>Eva</td>\n",
       "            <td>Chandra</td>\n",
       "            <td>11000</td>\n",
       "            <td>Data Engineering</td>\n",
       "        </tr>\n",
       "    </tbody>\n",
       "</table>"
      ],
      "text/plain": [
       "[(6127, 'Vidhya', 'Samuel', 120000, 'Commercial'),\n",
       " (2352, 'Stuart', 'Kenneth', 95000, 'Customer'),\n",
       " (3250, 'Kiran', 'David', 95000, 'Safety'),\n",
       " (9532, 'Prab', 'Vidha', 90000, 'Engineering'),\n",
       " (8241, 'Bala', 'Yet', 80000, 'Digitaltwin'),\n",
       " (8240, 'Grace', 'Charlie', 80000, 'Digitaltwin'),\n",
       " (5890, 'Hank', 'Frank', 75000, 'Data Science'),\n",
       " (2351, 'Omar', 'Hossan', 65000, 'IT'),\n",
       " (4328, 'Eva', 'Chandra', 11000, 'Data Engineering')]"
      ]
     },
     "execution_count": 108,
     "metadata": {},
     "output_type": "execute_result"
    }
   ],
   "source": [
    "%%sql\n",
    "\n",
    "SELECT \n",
    "    * \n",
    "FROM \n",
    "    employees \n",
    "ORDER BY \n",
    "    Salary DESC;"
   ]
  },
  {
   "cell_type": "code",
   "execution_count": 86,
   "metadata": {},
   "outputs": [
    {
     "name": "stdout",
     "output_type": "stream",
     "text": [
      " * sqlite:///testdb.sqlite\n",
      "Done.\n"
     ]
    },
    {
     "data": {
      "text/html": [
       "<table>\n",
       "    <thead>\n",
       "        <tr>\n",
       "            <th>FirstName</th>\n",
       "            <th>LastName</th>\n",
       "            <th>Departments</th>\n",
       "            <th>Salary</th>\n",
       "            <th>Ranks</th>\n",
       "        </tr>\n",
       "    </thead>\n",
       "    <tbody>\n",
       "        <tr>\n",
       "            <td>Vidhya</td>\n",
       "            <td>Samuel</td>\n",
       "            <td>Commercial</td>\n",
       "            <td>120000</td>\n",
       "            <td>1</td>\n",
       "        </tr>\n",
       "        <tr>\n",
       "            <td>Stuart</td>\n",
       "            <td>Kenneth</td>\n",
       "            <td>Customer</td>\n",
       "            <td>95000</td>\n",
       "            <td>2</td>\n",
       "        </tr>\n",
       "        <tr>\n",
       "            <td>Kiran</td>\n",
       "            <td>David</td>\n",
       "            <td>Safety</td>\n",
       "            <td>95000</td>\n",
       "            <td>2</td>\n",
       "        </tr>\n",
       "        <tr>\n",
       "            <td>Prab</td>\n",
       "            <td>Vidha</td>\n",
       "            <td>Engineering</td>\n",
       "            <td>90000</td>\n",
       "            <td>3</td>\n",
       "        </tr>\n",
       "        <tr>\n",
       "            <td>Bala</td>\n",
       "            <td>Yet</td>\n",
       "            <td>Digitaltwin</td>\n",
       "            <td>80000</td>\n",
       "            <td>4</td>\n",
       "        </tr>\n",
       "        <tr>\n",
       "            <td>Grace</td>\n",
       "            <td>Charlie</td>\n",
       "            <td>Digitaltwin</td>\n",
       "            <td>80000</td>\n",
       "            <td>4</td>\n",
       "        </tr>\n",
       "        <tr>\n",
       "            <td>Hank</td>\n",
       "            <td>Frank</td>\n",
       "            <td>Data Science</td>\n",
       "            <td>75000</td>\n",
       "            <td>5</td>\n",
       "        </tr>\n",
       "        <tr>\n",
       "            <td>Omar</td>\n",
       "            <td>Hossan</td>\n",
       "            <td>IT</td>\n",
       "            <td>65000</td>\n",
       "            <td>6</td>\n",
       "        </tr>\n",
       "        <tr>\n",
       "            <td>Eva</td>\n",
       "            <td>Chandra</td>\n",
       "            <td>Data Engineering</td>\n",
       "            <td>11000</td>\n",
       "            <td>7</td>\n",
       "        </tr>\n",
       "    </tbody>\n",
       "</table>"
      ],
      "text/plain": [
       "[('Vidhya', 'Samuel', 'Commercial', 120000, 1),\n",
       " ('Stuart', 'Kenneth', 'Customer', 95000, 2),\n",
       " ('Kiran', 'David', 'Safety', 95000, 2),\n",
       " ('Prab', 'Vidha', 'Engineering', 90000, 3),\n",
       " ('Bala', 'Yet', 'Digitaltwin', 80000, 4),\n",
       " ('Grace', 'Charlie', 'Digitaltwin', 80000, 4),\n",
       " ('Hank', 'Frank', 'Data Science', 75000, 5),\n",
       " ('Omar', 'Hossan', 'IT', 65000, 6),\n",
       " ('Eva', 'Chandra', 'Data Engineering', 11000, 7)]"
      ]
     },
     "execution_count": 86,
     "metadata": {},
     "output_type": "execute_result"
    }
   ],
   "source": [
    "%%sql\n",
    "\n",
    "SELECT \n",
    "    FirstName, \n",
    "    LastName, \n",
    "    Departments, \n",
    "    Salary,\n",
    "    DENSE_RANK() OVER(ORDER BY Salary DESC) AS Ranks\n",
    "FROM employees;"
   ]
  },
  {
   "cell_type": "code",
   "execution_count": 87,
   "metadata": {},
   "outputs": [
    {
     "name": "stdout",
     "output_type": "stream",
     "text": [
      " * sqlite:///testdb.sqlite\n",
      "Done.\n"
     ]
    },
    {
     "data": {
      "text/html": [
       "<table>\n",
       "    <thead>\n",
       "        <tr>\n",
       "            <th>FirstName</th>\n",
       "            <th>LastName</th>\n",
       "            <th>Departments</th>\n",
       "            <th>Salary</th>\n",
       "            <th>Ranks</th>\n",
       "        </tr>\n",
       "    </thead>\n",
       "    <tbody>\n",
       "        <tr>\n",
       "            <td>Vidhya</td>\n",
       "            <td>Samuel</td>\n",
       "            <td>Commercial</td>\n",
       "            <td>120000</td>\n",
       "            <td>1</td>\n",
       "        </tr>\n",
       "        <tr>\n",
       "            <td>Stuart</td>\n",
       "            <td>Kenneth</td>\n",
       "            <td>Customer</td>\n",
       "            <td>95000</td>\n",
       "            <td>1</td>\n",
       "        </tr>\n",
       "        <tr>\n",
       "            <td>Eva</td>\n",
       "            <td>Chandra</td>\n",
       "            <td>Data Engineering</td>\n",
       "            <td>11000</td>\n",
       "            <td>1</td>\n",
       "        </tr>\n",
       "        <tr>\n",
       "            <td>Hank</td>\n",
       "            <td>Frank</td>\n",
       "            <td>Data Science</td>\n",
       "            <td>75000</td>\n",
       "            <td>1</td>\n",
       "        </tr>\n",
       "        <tr>\n",
       "            <td>Bala</td>\n",
       "            <td>Yet</td>\n",
       "            <td>Digitaltwin</td>\n",
       "            <td>80000</td>\n",
       "            <td>1</td>\n",
       "        </tr>\n",
       "        <tr>\n",
       "            <td>Grace</td>\n",
       "            <td>Charlie</td>\n",
       "            <td>Digitaltwin</td>\n",
       "            <td>80000</td>\n",
       "            <td>1</td>\n",
       "        </tr>\n",
       "        <tr>\n",
       "            <td>Prab</td>\n",
       "            <td>Vidha</td>\n",
       "            <td>Engineering</td>\n",
       "            <td>90000</td>\n",
       "            <td>1</td>\n",
       "        </tr>\n",
       "        <tr>\n",
       "            <td>Omar</td>\n",
       "            <td>Hossan</td>\n",
       "            <td>IT</td>\n",
       "            <td>65000</td>\n",
       "            <td>1</td>\n",
       "        </tr>\n",
       "        <tr>\n",
       "            <td>Kiran</td>\n",
       "            <td>David</td>\n",
       "            <td>Safety</td>\n",
       "            <td>95000</td>\n",
       "            <td>1</td>\n",
       "        </tr>\n",
       "    </tbody>\n",
       "</table>"
      ],
      "text/plain": [
       "[('Vidhya', 'Samuel', 'Commercial', 120000, 1),\n",
       " ('Stuart', 'Kenneth', 'Customer', 95000, 1),\n",
       " ('Eva', 'Chandra', 'Data Engineering', 11000, 1),\n",
       " ('Hank', 'Frank', 'Data Science', 75000, 1),\n",
       " ('Bala', 'Yet', 'Digitaltwin', 80000, 1),\n",
       " ('Grace', 'Charlie', 'Digitaltwin', 80000, 1),\n",
       " ('Prab', 'Vidha', 'Engineering', 90000, 1),\n",
       " ('Omar', 'Hossan', 'IT', 65000, 1),\n",
       " ('Kiran', 'David', 'Safety', 95000, 1)]"
      ]
     },
     "execution_count": 87,
     "metadata": {},
     "output_type": "execute_result"
    }
   ],
   "source": [
    "%%sql\n",
    "\n",
    "SELECT \n",
    "    FirstName, \n",
    "    LastName, \n",
    "    Departments, \n",
    "    Salary,\n",
    "    DENSE_RANK() OVER(PARTITION BY Departments) AS Ranks\n",
    "FROM employees;"
   ]
  },
  {
   "cell_type": "markdown",
   "metadata": {},
   "source": [
    "**CTE**"
   ]
  },
  {
   "cell_type": "code",
   "execution_count": 99,
   "metadata": {},
   "outputs": [
    {
     "name": "stdout",
     "output_type": "stream",
     "text": [
      " * sqlite:///testdb.sqlite\n",
      "Done.\n"
     ]
    },
    {
     "data": {
      "text/html": [
       "<table>\n",
       "    <thead>\n",
       "        <tr>\n",
       "            <th>FirstName</th>\n",
       "            <th>LastName</th>\n",
       "            <th>Departments</th>\n",
       "            <th>Salary</th>\n",
       "            <th>Ranks</th>\n",
       "        </tr>\n",
       "    </thead>\n",
       "    <tbody>\n",
       "        <tr>\n",
       "            <td>Vidhya</td>\n",
       "            <td>Samuel</td>\n",
       "            <td>Commercial</td>\n",
       "            <td>120000</td>\n",
       "            <td>1</td>\n",
       "        </tr>\n",
       "        <tr>\n",
       "            <td>Stuart</td>\n",
       "            <td>Kenneth</td>\n",
       "            <td>Customer</td>\n",
       "            <td>95000</td>\n",
       "            <td>2</td>\n",
       "        </tr>\n",
       "        <tr>\n",
       "            <td>Kiran</td>\n",
       "            <td>David</td>\n",
       "            <td>Safety</td>\n",
       "            <td>95000</td>\n",
       "            <td>2</td>\n",
       "        </tr>\n",
       "        <tr>\n",
       "            <td>Prab</td>\n",
       "            <td>Vidha</td>\n",
       "            <td>Engineering</td>\n",
       "            <td>90000</td>\n",
       "            <td>3</td>\n",
       "        </tr>\n",
       "        <tr>\n",
       "            <td>Bala</td>\n",
       "            <td>Yet</td>\n",
       "            <td>Digitaltwin</td>\n",
       "            <td>80000</td>\n",
       "            <td>4</td>\n",
       "        </tr>\n",
       "        <tr>\n",
       "            <td>Grace</td>\n",
       "            <td>Charlie</td>\n",
       "            <td>Digitaltwin</td>\n",
       "            <td>80000</td>\n",
       "            <td>4</td>\n",
       "        </tr>\n",
       "        <tr>\n",
       "            <td>Hank</td>\n",
       "            <td>Frank</td>\n",
       "            <td>Data Science</td>\n",
       "            <td>75000</td>\n",
       "            <td>5</td>\n",
       "        </tr>\n",
       "        <tr>\n",
       "            <td>Omar</td>\n",
       "            <td>Hossan</td>\n",
       "            <td>IT</td>\n",
       "            <td>65000</td>\n",
       "            <td>6</td>\n",
       "        </tr>\n",
       "        <tr>\n",
       "            <td>Eva</td>\n",
       "            <td>Chandra</td>\n",
       "            <td>Data Engineering</td>\n",
       "            <td>11000</td>\n",
       "            <td>7</td>\n",
       "        </tr>\n",
       "    </tbody>\n",
       "</table>"
      ],
      "text/plain": [
       "[('Vidhya', 'Samuel', 'Commercial', 120000, 1),\n",
       " ('Stuart', 'Kenneth', 'Customer', 95000, 2),\n",
       " ('Kiran', 'David', 'Safety', 95000, 2),\n",
       " ('Prab', 'Vidha', 'Engineering', 90000, 3),\n",
       " ('Bala', 'Yet', 'Digitaltwin', 80000, 4),\n",
       " ('Grace', 'Charlie', 'Digitaltwin', 80000, 4),\n",
       " ('Hank', 'Frank', 'Data Science', 75000, 5),\n",
       " ('Omar', 'Hossan', 'IT', 65000, 6),\n",
       " ('Eva', 'Chandra', 'Data Engineering', 11000, 7)]"
      ]
     },
     "execution_count": 99,
     "metadata": {},
     "output_type": "execute_result"
    }
   ],
   "source": [
    "%%sql\n",
    "\n",
    "WITH Salary_Ranks \n",
    "AS (\n",
    "SELECT \n",
    "    FirstName, \n",
    "    LastName, \n",
    "    Departments, \n",
    "    Salary,\n",
    "    DENSE_RANK() OVER(ORDER BY Salary DESC) AS Ranks\n",
    "FROM employees\n",
    ")\n",
    "\n",
    "SELECT * FROM Salary_Ranks --WHERE Ranks=3"
   ]
  },
  {
   "cell_type": "code",
   "execution_count": 98,
   "metadata": {},
   "outputs": [
    {
     "name": "stdout",
     "output_type": "stream",
     "text": [
      " * sqlite:///testdb.sqlite\n",
      "Done.\n"
     ]
    },
    {
     "data": {
      "text/html": [
       "<table>\n",
       "    <thead>\n",
       "        <tr>\n",
       "            <th>Salary</th>\n",
       "            <th>Ranks</th>\n",
       "        </tr>\n",
       "    </thead>\n",
       "    <tbody>\n",
       "        <tr>\n",
       "            <td>90000</td>\n",
       "            <td>3</td>\n",
       "        </tr>\n",
       "    </tbody>\n",
       "</table>"
      ],
      "text/plain": [
       "[(90000, 3)]"
      ]
     },
     "execution_count": 98,
     "metadata": {},
     "output_type": "execute_result"
    }
   ],
   "source": [
    "%%sql\n",
    "\n",
    "WITH Salary_Ranks \n",
    "AS (\n",
    "SELECT \n",
    "    FirstName, \n",
    "    LastName, \n",
    "    Departments, \n",
    "    Salary,\n",
    "    DENSE_RANK() OVER(ORDER BY Salary DESC) AS Ranks\n",
    "FROM employees\n",
    ")\n",
    "\n",
    "SELECT Salary, Ranks FROM Salary_Ranks WHERE Ranks=3"
   ]
  },
  {
   "cell_type": "code",
   "execution_count": 111,
   "metadata": {},
   "outputs": [
    {
     "name": "stdout",
     "output_type": "stream",
     "text": [
      " * sqlite:///testdb.sqlite\n",
      "Done.\n"
     ]
    },
    {
     "data": {
      "text/html": [
       "<table>\n",
       "    <thead>\n",
       "        <tr>\n",
       "            <th>FirstName</th>\n",
       "            <th>LastName</th>\n",
       "            <th>Departments</th>\n",
       "            <th>Salary</th>\n",
       "            <th>RN</th>\n",
       "            <th>Ranks</th>\n",
       "            <th>DEN_Ranks</th>\n",
       "        </tr>\n",
       "    </thead>\n",
       "    <tbody>\n",
       "        <tr>\n",
       "            <td>Vidhya</td>\n",
       "            <td>Samuel</td>\n",
       "            <td>Commercial</td>\n",
       "            <td>120000</td>\n",
       "            <td>1</td>\n",
       "            <td>1</td>\n",
       "            <td>1</td>\n",
       "        </tr>\n",
       "        <tr>\n",
       "            <td>Stuart</td>\n",
       "            <td>Kenneth</td>\n",
       "            <td>Customer</td>\n",
       "            <td>95000</td>\n",
       "            <td>2</td>\n",
       "            <td>2</td>\n",
       "            <td>2</td>\n",
       "        </tr>\n",
       "        <tr>\n",
       "            <td>Kiran</td>\n",
       "            <td>David</td>\n",
       "            <td>Safety</td>\n",
       "            <td>95000</td>\n",
       "            <td>3</td>\n",
       "            <td>2</td>\n",
       "            <td>2</td>\n",
       "        </tr>\n",
       "        <tr>\n",
       "            <td>Prab</td>\n",
       "            <td>Vidha</td>\n",
       "            <td>Engineering</td>\n",
       "            <td>90000</td>\n",
       "            <td>4</td>\n",
       "            <td>4</td>\n",
       "            <td>3</td>\n",
       "        </tr>\n",
       "        <tr>\n",
       "            <td>Bala</td>\n",
       "            <td>Yet</td>\n",
       "            <td>Digitaltwin</td>\n",
       "            <td>80000</td>\n",
       "            <td>5</td>\n",
       "            <td>5</td>\n",
       "            <td>4</td>\n",
       "        </tr>\n",
       "        <tr>\n",
       "            <td>Grace</td>\n",
       "            <td>Charlie</td>\n",
       "            <td>Digitaltwin</td>\n",
       "            <td>80000</td>\n",
       "            <td>6</td>\n",
       "            <td>5</td>\n",
       "            <td>4</td>\n",
       "        </tr>\n",
       "        <tr>\n",
       "            <td>Hank</td>\n",
       "            <td>Frank</td>\n",
       "            <td>Data Science</td>\n",
       "            <td>75000</td>\n",
       "            <td>7</td>\n",
       "            <td>7</td>\n",
       "            <td>5</td>\n",
       "        </tr>\n",
       "        <tr>\n",
       "            <td>Omar</td>\n",
       "            <td>Hossan</td>\n",
       "            <td>IT</td>\n",
       "            <td>65000</td>\n",
       "            <td>8</td>\n",
       "            <td>8</td>\n",
       "            <td>6</td>\n",
       "        </tr>\n",
       "        <tr>\n",
       "            <td>Eva</td>\n",
       "            <td>Chandra</td>\n",
       "            <td>Data Engineering</td>\n",
       "            <td>11000</td>\n",
       "            <td>9</td>\n",
       "            <td>9</td>\n",
       "            <td>7</td>\n",
       "        </tr>\n",
       "    </tbody>\n",
       "</table>"
      ],
      "text/plain": [
       "[('Vidhya', 'Samuel', 'Commercial', 120000, 1, 1, 1),\n",
       " ('Stuart', 'Kenneth', 'Customer', 95000, 2, 2, 2),\n",
       " ('Kiran', 'David', 'Safety', 95000, 3, 2, 2),\n",
       " ('Prab', 'Vidha', 'Engineering', 90000, 4, 4, 3),\n",
       " ('Bala', 'Yet', 'Digitaltwin', 80000, 5, 5, 4),\n",
       " ('Grace', 'Charlie', 'Digitaltwin', 80000, 6, 5, 4),\n",
       " ('Hank', 'Frank', 'Data Science', 75000, 7, 7, 5),\n",
       " ('Omar', 'Hossan', 'IT', 65000, 8, 8, 6),\n",
       " ('Eva', 'Chandra', 'Data Engineering', 11000, 9, 9, 7)]"
      ]
     },
     "execution_count": 111,
     "metadata": {},
     "output_type": "execute_result"
    }
   ],
   "source": [
    "%%sql\n",
    "\n",
    "WITH Salary_Ranks \n",
    "AS (\n",
    "SELECT \n",
    "    FirstName, \n",
    "    LastName, \n",
    "    Departments, \n",
    "    Salary,\n",
    "    ROW_NUMBER() OVER(ORDER BY Salary DESC) AS RN,\n",
    "    RANK() OVER(ORDER BY Salary DESC) AS Ranks, \n",
    "    DENSE_RANK() OVER(ORDER BY Salary DESC) AS DEN_Ranks\n",
    "FROM employees\n",
    ")\n",
    "\n",
    "SELECT *  FROM Salary_Ranks "
   ]
  },
  {
   "cell_type": "markdown",
   "metadata": {},
   "source": [
    "##--------------------------------------------------------------------------------------------"
   ]
  },
  {
   "cell_type": "code",
   "execution_count": 62,
   "metadata": {},
   "outputs": [
    {
     "name": "stdout",
     "output_type": "stream",
     "text": [
      " * sqlite:///testdb.sqlite\n",
      "Done.\n",
      "Done.\n"
     ]
    },
    {
     "data": {
      "text/plain": [
       "[]"
      ]
     },
     "execution_count": 62,
     "metadata": {},
     "output_type": "execute_result"
    }
   ],
   "source": [
    "%%sql\n",
    "\n",
    "--#DROP world Table if EXISTS\n",
    "\n",
    "DROP TABLE IF EXISTS World;\n",
    "\n",
    "CREATE TABLE World (\n",
    "    name            INT NOT NULL,\n",
    "    continent      TEXT NOT NULL,\n",
    "    area            INT NOT NULL,\n",
    "    population      INT NOT NULL,\n",
    "    gdp             INT NOT NULL,\n",
    "    PRIMARY KEY (name)\n",
    ")"
   ]
  },
  {
   "cell_type": "code",
   "execution_count": 63,
   "metadata": {},
   "outputs": [
    {
     "name": "stdout",
     "output_type": "stream",
     "text": [
      " * sqlite:///testdb.sqlite\n",
      "5 rows affected.\n"
     ]
    },
    {
     "data": {
      "text/plain": [
       "[]"
      ]
     },
     "execution_count": 63,
     "metadata": {},
     "output_type": "execute_result"
    }
   ],
   "source": [
    "%%sql\n",
    "\n",
    "INSERT INTO World (name, continent, area, population, gdp) \n",
    "VALUES('Afghanistan', 'Asia', 652230, 25500100, 20343000000), ('Albania', 'Europe', 28748, 2831741, 12960000000), ('Algeria', 'Africa', 2381741, 37100000, 188681000000), ('Andorra', 'Europe', 468 , 78115, 3712000000 ), ('Angola', 'Africa', 1246700 , 20609294 , 100990000000 )"
   ]
  },
  {
   "cell_type": "markdown",
   "metadata": {},
   "source": [
    "* A country is **big** if:\n",
    "\n",
    "- it has an area of at least three million `(i.e., 3000000 km2)`, or\n",
    "- it has a population of at least twenty-five million `(i.e., 25000000)`.\n",
    "\n",
    "* Write a solution to find the name, population, and area of the big countries.\n",
    "\n",
    "* Return the result table in any order."
   ]
  },
  {
   "cell_type": "code",
   "execution_count": 64,
   "metadata": {},
   "outputs": [
    {
     "name": "stdout",
     "output_type": "stream",
     "text": [
      " * sqlite:///testdb.sqlite\n",
      "Done.\n"
     ]
    },
    {
     "data": {
      "text/html": [
       "<table>\n",
       "    <thead>\n",
       "        <tr>\n",
       "            <th>name</th>\n",
       "            <th>area</th>\n",
       "            <th>population</th>\n",
       "        </tr>\n",
       "    </thead>\n",
       "    <tbody>\n",
       "        <tr>\n",
       "            <td>Afghanistan</td>\n",
       "            <td>652230</td>\n",
       "            <td>25500100</td>\n",
       "        </tr>\n",
       "        <tr>\n",
       "            <td>Algeria</td>\n",
       "            <td>2381741</td>\n",
       "            <td>37100000</td>\n",
       "        </tr>\n",
       "    </tbody>\n",
       "</table>"
      ],
      "text/plain": [
       "[('Afghanistan', 652230, 25500100), ('Algeria', 2381741, 37100000)]"
      ]
     },
     "execution_count": 64,
     "metadata": {},
     "output_type": "execute_result"
    }
   ],
   "source": [
    "%%sql\n",
    "\n",
    "SELECT name, area, population \n",
    "FROM world \n",
    "WHERE area >= 3000000\n",
    "OR population >= 25000000;"
   ]
  },
  {
   "cell_type": "code",
   "execution_count": null,
   "metadata": {},
   "outputs": [],
   "source": [
    "%%sql\n",
    "\n",
    "SELECT \n",
    "    employee_id,\n",
    "    salary,\n",
    "    CASE \n",
    "        WHEN employee_id % 2 = 1 AND name NOT LIKE 'M%' THEN salary\n",
    "        ELSE 0\n",
    "    END AS bonus\n",
    "FROM \n",
    "    employees\n",
    "ORDER BY \n",
    "    employee_id;\n"
   ]
  },
  {
   "cell_type": "code",
   "execution_count": null,
   "metadata": {},
   "outputs": [],
   "source": [
    "%%sql\n",
    "\n",
    "WITH PrimeNumbers AS (\n",
    "    SELECT employee_id\n",
    "    FROM employees\n",
    "    WHERE employee_id > 1\n",
    "    AND NOT EXISTS (\n",
    "        SELECT 1 \n",
    "        FROM generate_series(2, floor(sqrt(employee_id))) AS series\n",
    "        WHERE employee_id % series = 0\n",
    "    )\n",
    ")\n",
    "SELECT \n",
    "    e.employee_id,\n",
    "    e.salary,\n",
    "    CASE \n",
    "        WHEN p.employee_id IS NOT NULL AND e.name NOT LIKE 'M%' THEN e.salary\n",
    "        ELSE 0\n",
    "    END AS bonus\n",
    "FROM \n",
    "    employees e\n",
    "LEFT JOIN \n",
    "    PrimeNumbers p ON e.employee_id = p.employee_id\n",
    "ORDER BY \n",
    "    e.employee_id;\n"
   ]
  },
  {
   "cell_type": "code",
   "execution_count": null,
   "metadata": {},
   "outputs": [],
   "source": [
    "%%sql\n",
    "\n",
    "SELECT \n",
    "    employee_id,\n",
    "    salary,\n",
    "    CASE \n",
    "        WHEN employee_id % 2 = 0 AND name NOT LIKE 'M%' THEN salary\n",
    "        ELSE 0\n",
    "    END AS bonus\n",
    "FROM \n",
    "    employees\n",
    "ORDER BY \n",
    "    employee_id;\n"
   ]
  }
 ],
 "metadata": {
  "kernelspec": {
   "display_name": "DevOpsManager",
   "language": "python",
   "name": "python3"
  },
  "language_info": {
   "codemirror_mode": {
    "name": "ipython",
    "version": 3
   },
   "file_extension": ".py",
   "mimetype": "text/x-python",
   "name": "python",
   "nbconvert_exporter": "python",
   "pygments_lexer": "ipython3",
   "version": "3.12.4"
  }
 },
 "nbformat": 4,
 "nbformat_minor": 2
}

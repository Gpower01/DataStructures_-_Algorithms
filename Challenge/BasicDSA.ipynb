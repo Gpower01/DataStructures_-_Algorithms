{
 "cells": [
  {
   "cell_type": "markdown",
   "metadata": {},
   "source": [
    "### Python Data Structure \n",
    "\n",
    "**Pangram**: \n",
    "- -Given a sentence array,  return true if the sentence is `Pangram` and false, if it is not. A pangram is when a sentence contains at least one letter of English "
   ]
  },
  {
   "cell_type": "code",
   "execution_count": null,
   "metadata": {},
   "outputs": [],
   "source": [
    "#Q:Check if sentence is pangram\n",
    "def is_pangram(sentence):\n",
    "    seen = set()\n",
    "\n",
    "    for i in sentence:\n",
    "        seen.add(i)\n",
    "        if len(seen) == 26:\n",
    "            return True \n",
    "        \n",
    "    return len(seen) == 26"
   ]
  }
 ],
 "metadata": {
  "language_info": {
   "name": "python"
  }
 },
 "nbformat": 4,
 "nbformat_minor": 2
}

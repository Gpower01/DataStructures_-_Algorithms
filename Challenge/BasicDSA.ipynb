{
 "cells": [
  {
   "cell_type": "markdown",
   "metadata": {},
   "source": [
    "### Python Data Structure \n",
    "\n",
    "**Pangram**: \n",
    "- -Given a sentence array,  return true if the sentence is `Pangram` and false, if it is not. A pangram is when a sentence contains at least one letter of English "
   ]
  },
  {
   "cell_type": "code",
   "execution_count": 1,
   "metadata": {},
   "outputs": [
    {
     "name": "stdout",
     "output_type": "stream",
     "text": [
      "True\n"
     ]
    }
   ],
   "source": [
    "#Q:Check if sentence is pangram\n",
    "def is_pangram(sentence):\n",
    "    seen = set()\n",
    "\n",
    "    for i in sentence:\n",
    "        seen.add(i)\n",
    "        if len(seen) == 26:\n",
    "            return True \n",
    "        \n",
    "    return len(seen) == 26\n",
    "\n",
    "if __name__ == '__main__':\n",
    "    sentence = \"thequickbrownfoxjumpsoverthelazydog\"\n",
    "    print(is_pangram(sentence))"
   ]
  },
  {
   "cell_type": "code",
   "execution_count": null,
   "metadata": {},
   "outputs": [],
   "source": []
  }
 ],
 "metadata": {
  "kernelspec": {
   "display_name": "DevOpsManager",
   "language": "python",
   "name": "python3"
  },
  "language_info": {
   "codemirror_mode": {
    "name": "ipython",
    "version": 3
   },
   "file_extension": ".py",
   "mimetype": "text/x-python",
   "name": "python",
   "nbconvert_exporter": "python",
   "pygments_lexer": "ipython3",
   "version": "3.12.4"
  }
 },
 "nbformat": 4,
 "nbformat_minor": 2
}

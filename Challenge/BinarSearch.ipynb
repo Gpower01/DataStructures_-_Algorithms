{
 "cells": [
  {
   "cell_type": "markdown",
   "metadata": {},
   "source": [
    "### Binary Search \n",
    "\n",
    "*8NOTE:** You should think about binary search anytime the problem provides anything sorted. $O(log  n)$ is extremely fast and binary search is usually a huge optimization. \n",
    "\n",
    "Binary serach is a search algorithm that runs in $O(logn)$ in the worst case, where $n$ is the size of the search space.\n",
    "\n",
    "For binary search to work, your search space $n$  usually needs to be sorted. Binarcy search trees and graphs are based on binary search. Normally, binary search is done on an array of sorted elements, but you can use binary search in a more creative ways as well.\n",
    "\n",
    "* If we have an array `arr` of sorted element `x`, then in $O(log n)$ time complexity and $O(1)$ space complexity, binary search can:\n",
    "\n",
    "1) find the index of `x` if it in `arr`\n",
    "2) find the first or the last index, in which `x` can be inserted to maintain being sorted otherwise.\n",
    "\n",
    "Because the search space is halved everytime, binary search's worse case time complexity is $O(log n)$. This makes it an extremely powerful algorithm as logarithmic time is **very** fast compared to linear time.\n"
   ]
  },
  {
   "cell_type": "code",
   "execution_count": null,
   "metadata": {},
   "outputs": [],
   "source": [
    "#Binary Search Example\n",
    "def binary_search(arr, target):\n",
    "    left = 0 \n",
    "    right = len(arr) - 1\n",
    "\n",
    "    while left <= right:\n",
    "        mid = (left + right) // 2  #floor division \n",
    "        if arr[mid] == target:\n",
    "            return mid[arr] \n",
    "        if arr[mid] > target:\n",
    "            right = mid - 1\n",
    "        else:\n",
    "            left =  mid + 1\n",
    "\n",
    "    #target not in arr, but left is at the insertion point \n",
    "    return left  "
   ]
  },
  {
   "cell_type": "markdown",
   "metadata": {},
   "source": [
    "**Duplicate Elements**\n",
    "\n",
    "If the input has duplicates, we can modify the binary search template to find either the first or the last position of a given element. \n",
    "\n",
    "* If the `target` appears multiple times, then the following template will find the `left-most` index."
   ]
  },
  {
   "cell_type": "code",
   "execution_count": null,
   "metadata": {},
   "outputs": [],
   "source": [
    "def binary_search(arr, target):\n",
    "    left =  0 \n",
    "    right = len(arr) - 1\n",
    "\n",
    "    while left < right:\n",
    "        mid = (left + right) // 2\n",
    "\n",
    "        if arr[mid] >= target:\n",
    "            right =  mid\n",
    "        else:\n",
    "            left = mid + 1\n",
    "\n",
    "    return left #target not found and the left is the insertion point "
   ]
  },
  {
   "cell_type": "markdown",
   "metadata": {},
   "source": [
    "* If the target appears multiple times, then the following template will find the `right-most` index"
   ]
  },
  {
   "cell_type": "code",
   "execution_count": null,
   "metadata": {},
   "outputs": [],
   "source": [
    "def binary_search(arr, target):\n",
    "    left =  0 \n",
    "    right = len(arr) - 1 \n",
    "\n",
    "    while left < right:\n",
    "        mid = (left + right) // 2\n",
    "        if arr[mid] > target:\n",
    "            right = mid \n",
    "        else:\n",
    "            left = mid + 1\n",
    "    \n",
    "    return left #target not found, left is the insertion point to maintain sorted order "
   ]
  },
  {
   "cell_type": "markdown",
   "metadata": {},
   "source": [
    "In some cases, binary search may be used to search for an element. In most cases, binary search may just be a tool that speeds up your algorithm."
   ]
  },
  {
   "cell_type": "markdown",
   "metadata": {},
   "source": [
    "### Question\n",
    "Given an array of integers `arr` which is sorted in ascending order, and integer `target`. If target exists in `arr`, return it's index. Otherwise return -1.\n",
    "\n",
    "We don't use extra space except for a few integer variable."
   ]
  },
  {
   "cell_type": "code",
   "execution_count": null,
   "metadata": {},
   "outputs": [],
   "source": [
    "def binary_search(arr, target):\n",
    "    left = 0 \n",
    "    right = len(arr) - 1\n",
    "\n",
    "    while left <= right:\n",
    "        mid = (left + right) // 2\n",
    "        num = arr[mid]\n",
    "\n",
    "        if num == target:\n",
    "            return num \n",
    "        \n",
    "        if num > target:\n",
    "            right = mid - 1\n",
    "        else:\n",
    "            left = mid + 1 \n",
    "\n",
    "    return - 1 "
   ]
  },
  {
   "cell_type": "markdown",
   "metadata": {},
   "source": [
    "### Binary Search on 2D Matrix \n",
    "\n",
    "- To approach this problem, since the row are sorted, we hypothetically flatten the 2D to 1D array "
   ]
  },
  {
   "cell_type": "code",
   "execution_count": null,
   "metadata": {},
   "outputs": [],
   "source": [
    "def binary_search_matrix(matrix, target):\n",
    "    \"\"\"\n",
    "    Time Complexity: O(log((m * n)) - Because there are O(m*n) elements in the search space  \n",
    "    Space Complexity: O(1) - There are no extra space used \n",
    "    \"\"\"\n",
    "    #let's store the size of the matrix \n",
    "    m = len(matrix)\n",
    "    n = len(matrix[0])\n",
    "\n",
    "    left = 0 \n",
    "    #right is the size of the matrix \n",
    "    right = m * n - 1\n",
    "\n",
    "    while left <= right:\n",
    "        mid = (left + right) // 2\n",
    "        row = mid // n \n",
    "        col = mid % n \n",
    "        num = matrix[row][col]\n",
    "\n",
    "        if num == target:\n",
    "            return True \n",
    "        \n",
    "        if num > target:\n",
    "            right = mid - 1\n",
    "        else:\n",
    "            left = mid + 1 \n",
    "\n",
    "    return False "
   ]
  },
  {
   "cell_type": "markdown",
   "metadata": {},
   "source": [
    "#### Successful Pairs of Spells and Poyions\n",
    "\n",
    "You are given two positive integer arrays spells and potions, where `spells[i]` represents the strength of the $i^{th}$ spell and `potions[j]` represents the strength of the $j^{th}$ potion. You are also given an integer `success`. **A spell and potion pair is considered successful if the product of their strengths is at least success**. For each spell, find how many potions it can pair with to be successful. Return an integer array where the $i^{th}$ element is the answer for the $i^{th}$ spell."
   ]
  },
  {
   "cell_type": "code",
   "execution_count": 1,
   "metadata": {},
   "outputs": [],
   "source": [
    "class Solution:\n",
    "    def successfulPairs(self, spells: list[int], potions: list[int], success: int) -> list[int]:\n",
    "        def binary_search(arr, target):\n",
    "            \"\"\"\n",
    "            Time Complexity: O((m + n)log m) - Sort cost O(m*logm), then we iterate n times performing a O(logm) binary search on each iteration, given a total of O((m*n)log m)\n",
    "            \"\"\"\n",
    "            left =  0 \n",
    "            right = len(arr) - 1\n",
    "            \n",
    "            while left <= right:\n",
    "                mid = (left + right) // 2\n",
    "                if arr[mid] < target:\n",
    "                    left = mid + 1\n",
    "                else:\n",
    "                    right = mid - 1\n",
    "\n",
    "            return left \n",
    "        \n",
    "        potions.sort()\n",
    "        ans = []\n",
    "        m = len(potions)\n",
    "\n",
    "        for spell in spells:\n",
    "            i = binary_search(potions, success / spell)\n",
    "            ans.append(m - 1)\n",
    "\n",
    "        return ans"
   ]
  },
  {
   "cell_type": "markdown",
   "metadata": {},
   "source": [
    "## Binary Trees | Nodes and Graphs \n",
    "\n",
    "* A graph is any collection of nodes and their pointers to other nodes. Infact, linked lists and trees are both types of graphs. **The start of a linked list is called head while the start of a tree is called root**.\n",
    "\n",
    "This entire section make heavy use of recursion. \n",
    "\n",
    "**Code Representation**\n",
    "\n",
    "- Just like with a linked list, binary trees are implemented using objects of a custom class. Below is a typical class that will be provided in algorithm problems:"
   ]
  },
  {
   "cell_type": "code",
   "execution_count": null,
   "metadata": {},
   "outputs": [],
   "source": [
    "class TreeNode:\n",
    "    def __init__(self, val, left, right):\n",
    "        self.val = val \n",
    "        self.left = left \n",
    "        self.right = right "
   ]
  },
  {
   "cell_type": "markdown",
   "metadata": {},
   "source": [
    "**Tree Traversal**\n",
    "\n",
    "Tree traversal is how we access elements of a tree and thus is mandatory for solving tree problems.\n",
    "\n",
    "In **LinkedList** we traverse linked list using the following code"
   ]
  },
  {
   "cell_type": "code",
   "execution_count": null,
   "metadata": {},
   "outputs": [],
   "source": [
    "def get_sum(head):\n",
    "    ans = 0 \n",
    "    while head:\n",
    "        ans += head.val\n",
    "        head = head.next\n",
    "        \n",
    "    return ans"
   ]
  },
  {
   "cell_type": "markdown",
   "metadata": {},
   "source": [
    "The above code snippet starts at the head and visits each node to find the sum of all values in the Linked list. We traverse by using the `.next` attribute."
   ]
  },
  {
   "cell_type": "markdown",
   "metadata": {},
   "source": [
    "### Tree Traversal: Depth-First-Search (DFS)\n",
    "\n",
    "* DFS example using recursion to visit every node\n",
    "\n",
    "There are 3 ways to perform DFS:\n",
    "\n",
    "* preorder \n",
    "* inorder \n",
    "* postorder\n",
    "\n",
    "\n",
    "```\n",
    "The name of each traversal is describing when the current node's logic is performed.\n",
    "\n",
    "Pre -> before children\n",
    "\n",
    "In -> in the middle of children\n",
    "\n",
    "Post -> after children\n",
    "```"
   ]
  },
  {
   "cell_type": "code",
   "execution_count": null,
   "metadata": {},
   "outputs": [],
   "source": [
    "def dfs(node):\n",
    "    if node == None:\n",
    "        return \n",
    "    \n",
    "    dfs(node.left)\n",
    "    dfs(node.right)\n",
    "    return "
   ]
  },
  {
   "cell_type": "markdown",
   "metadata": {},
   "source": [
    "**Preorder traversal**\n",
    "\n",
    "In preorder traversal, logic is done on th current node before moving to the children. Let's say that we wanted to just print the value of each node in the tree to the console. In that case, at any given node, we would print the current node's value, then recursively call the left child, then recursively call the right child.\n",
    "\n",
    "- Preorder function handles nodes in the same order that the function calls happen."
   ]
  },
  {
   "cell_type": "code",
   "execution_count": null,
   "metadata": {},
   "outputs": [],
   "source": [
    "def preorder_dfs(node):\n",
    "    if not node:\n",
    "        return \n",
    "    \n",
    "    print(node.val)\n",
    "    preorder_dfs(node.left)\n",
    "    preorder_dfs(node.right)\n",
    "    return "
   ]
  },
  {
   "cell_type": "markdown",
   "metadata": {},
   "source": [
    "**Inorder traversal**\n",
    "\n",
    "In inorder traversal, we first recursively call the left child, then perform logic (print in this case) on the current node, and then recursively call the right child. This means no logic will be done until we reach a node without a left child since calling on left child takes priority over performing logic."
   ]
  },
  {
   "cell_type": "code",
   "execution_count": null,
   "metadata": {},
   "outputs": [],
   "source": [
    "def inorder_dfs(node):\n",
    "    if not node:\n",
    "        return \n",
    "    \n",
    "    inorder_dfs(node.left)\n",
    "    print(node.val)\n",
    "    inorder_dfs(node.right)\n",
    "    return "
   ]
  },
  {
   "cell_type": "markdown",
   "metadata": {},
   "source": [
    "Before diving deep into Binary Trees problems, let's examine the binary tree class functions"
   ]
  },
  {
   "cell_type": "code",
   "execution_count": 1,
   "metadata": {},
   "outputs": [
    {
     "name": "stdout",
     "output_type": "stream",
     "text": [
      "1\n",
      "2\n"
     ]
    }
   ],
   "source": [
    "class TreeNode:\n",
    "    def __init__(self, val):\n",
    "        self.val = val \n",
    "        self.left = None \n",
    "        self.right = None \n",
    "\n",
    "\"\"\"\n",
    "The following code builds a tree that looks like:\n",
    "          0\n",
    "        /   \\\n",
    "       1     2\n",
    "\"\"\"\n",
    "root = TreeNode(0)\n",
    "one = TreeNode(1)\n",
    "two = TreeNode(2)\n",
    "\n",
    "root.left = one\n",
    "root.right = two\n",
    "\n",
    "print(root.left.val)\n",
    "print(root.right.val)"
   ]
  },
  {
   "cell_type": "markdown",
   "metadata": {},
   "source": [
    "**DFS Problem: Maximum Depth of Binary Tree**\n",
    "\n",
    "Given the root of a binary tree, find the length of the longest path from the root to the leaf.\n",
    "\n",
    "Let's start with a recursive approac. When thinking about designing recursive functions, a good starting point is always the base case. What is the depth of an empty tree (zero nodes, root is null)? The depth is `0`.\n",
    "\n",
    "**Note**: earlier, we said that the depth of the root is `0`. **This is the usual definition**, but in this specific problem, the `depth for the root is defined as 1` (it's asking for how many nodes are on the path from the root to a leaf), and `we need to include the root on this path`, hence why we start at `1`.\n",
    "\n",
    "- The problem states that we are looking for a path from the root to a leaf, which means that at the current node, we can only consider either the left or right subtree, not both. If `maxDepth(node.left)` represents the maximum depth of the left subtree and `maxDepth(node.right)` represents the maximum depth of the right subtree, then we should take the greater value and **add 1 to it** (because the current node contributes `1` to the depth).\n",
    "\n",
    "**To solve binary tree problems, you must think recursively**.\n",
    "\n",
    "- The root given to you is a binary tree, but the children of the root are also binary trees. The children of those children are also binary trees. Every node's subtree is a binary tree.\n",
    "\n",
    "- Because of how maxDepth is defined, if we call `maxDepth(root.left)`, it should give us the \"length of the longest path from the left child to a leaf\". That's perfect! Whatever that path is, we can just follow it to give us an answer of `1 + maxDepth(root.left)`. The same logic applies to `maxDepth(root.right)`. We should choose the maximum length between the two children.\n",
    "\n",
    "- So how does this actually work in the code? We initially call `maxDepth(root)`, where root is the actual root of the tree. DFS will move down the tree until it reaches a leaf. **A leaf has no children**, so both calls to the left and right will hit the base case and return `0`. **This makes the call to the leaf return** `1 + max(0, 0) = 1`.\n",
    "\n",
    "- This makes sense - if you take a leaf and treat it as a subtree, then the answer for this subtree would just be `1`.\n",
    "\n",
    "- After we return `1` from the leaf, we will be back at the parent of the leaf. If the leaf was the left child, we will have a value of `1` for the left subtree (which was only the leaf). Let's say that there is no right subtree, so that call returns `0`. Now, the answer for the parent is `1 + max(1, 0) = 2`.\n",
    "\n",
    "**The + 1 that we perform at each node propagates upwards from the leaves.**\n",
    "\n",
    "```\n",
    "```\n",
    "      10\n",
    "     /  \\\n",
    "    5    15\n",
    "   / \\     \\\n",
    "  2   6     20\n",
    " / \n",
    "1\n",
    "\n",
    "```\n",
    "```"
   ]
  },
  {
   "cell_type": "code",
   "execution_count": 11,
   "metadata": {},
   "outputs": [
    {
     "name": "stdout",
     "output_type": "stream",
     "text": [
      "4\n"
     ]
    }
   ],
   "source": [
    "class TreeNode:\n",
    "    def __init__(self, val=0, left=None, right=None):\n",
    "        self.val = val\n",
    "        self.left = left\n",
    "        self.right = right   \n",
    "\n",
    "class Solution:\n",
    "    def maxDepth(self, root: TreeNode) -> int:\n",
    "        if not root:\n",
    "            return 0 \n",
    "\n",
    "        left = self.maxDepth(root.left)\n",
    "        right = self.maxDepth(root.right)\n",
    "        return max(left, right) + 1\n",
    "\n",
    "if __name__ =='__main__':\n",
    "    root = TreeNode(10)\n",
    "    root.left = TreeNode(5)\n",
    "    root.right = TreeNode(15)\n",
    "    root.left.left = TreeNode(2)\n",
    "    root.left.right = TreeNode(6)\n",
    "    root.left.left.left = TreeNode(1)\n",
    "    root.right.right = TreeNode(20)\n",
    "\n",
    "    print(Solution().maxDepth(root))"
   ]
  },
  {
   "cell_type": "code",
   "execution_count": 14,
   "metadata": {},
   "outputs": [
    {
     "name": "stdout",
     "output_type": "stream",
     "text": [
      "4\n"
     ]
    }
   ],
   "source": [
    "from typing import Optional \n",
    "class Solution:\n",
    "    def maxDepth(self, root: Optional[TreeNode]) -> int:\n",
    "        if not root:\n",
    "            return 0\n",
    "        \n",
    "        left = self.maxDepth(root.left)\n",
    "        right = self.maxDepth(root.right)\n",
    "        return max(left, right) + 1\n",
    "\n",
    "if __name__ =='__main__':\n",
    "    root = TreeNode(10)\n",
    "    root.left = TreeNode(5)\n",
    "    root.right = TreeNode(15)\n",
    "    root.left.left = TreeNode(2)\n",
    "    root.left.right = TreeNode(6)\n",
    "    root.left.left.left = TreeNode(1)\n",
    "    root.right.right = TreeNode(20)\n",
    "\n",
    "    print(Solution().maxDepth(root))"
   ]
  },
  {
   "cell_type": "markdown",
   "metadata": {},
   "source": [
    "**Question**: Find the max value in only the left nodes of the tree \n",
    "- Do inorder traversal and just keep track of the values \n",
    "\n",
    "```\n",
    "      10\n",
    "     /  \\\n",
    "    5    15\n",
    "   / \\     \\\n",
    "  2   6     20\n",
    " / \n",
    "1\n",
    "\n",
    "```\n",
    "\n",
    "- The left nodes are 5, 2, 1\n",
    "\n",
    "- The maximum value among these left nodes is `5` "
   ]
  },
  {
   "cell_type": "code",
   "execution_count": 8,
   "metadata": {},
   "outputs": [
    {
     "name": "stdout",
     "output_type": "stream",
     "text": [
      "5\n"
     ]
    }
   ],
   "source": [
    "class TreeNode:\n",
    "    def __init__(self, val=0, left=None, right=None):\n",
    "        self.val = val \n",
    "        self.left = left \n",
    "        self.right = right \n",
    "\n",
    "def find_max_in_left_nodes(root):\n",
    "    def inorder(node, is_left):\n",
    "        if not node: \n",
    "            return float('-inf')\n",
    "        \n",
    "        left_max = inorder(node.left, True)\n",
    "\n",
    "        #check if this node is a left node and update max if needed \n",
    "        current_val = node.val if is_left else float('-inf')\n",
    "\n",
    "        right_max = inorder(node.right, False)\n",
    "    \n",
    "        #return the maximum value among left children encountered so far \n",
    "        return max(left_max, current_val, right_max)\n",
    "    \n",
    "    #Start traversing with the root, considering it as not a left node\n",
    "    return inorder(root, False)\n",
    "\n",
    "if __name__ =='__main__':\n",
    "    root = TreeNode(10)\n",
    "    root.left = TreeNode(5)\n",
    "    root.right = TreeNode(15)\n",
    "    root.left.left = TreeNode(2)\n",
    "    root.left.right = TreeNode(6)\n",
    "    root.left.left.left = TreeNode(1)\n",
    "    root.right.right = TreeNode(20)\n",
    "\n",
    "    print(find_max_in_left_nodes(root))"
   ]
  },
  {
   "cell_type": "markdown",
   "metadata": {},
   "source": [
    "**Optimized: Find maximum value in left nodes**"
   ]
  },
  {
   "cell_type": "code",
   "execution_count": 9,
   "metadata": {},
   "outputs": [
    {
     "name": "stdout",
     "output_type": "stream",
     "text": [
      "5\n"
     ]
    }
   ],
   "source": [
    "class Node:\n",
    "    def __init__(self, val):\n",
    "        self.val = val \n",
    "        self.left = None\n",
    "        self.right = None \n",
    "\n",
    "def find_max_in_left_nodes(root, is_left=False):\n",
    "    if not root:\n",
    "        return float('-inf')\n",
    "    \n",
    "    #if this is left child, consider it's value \n",
    "    max_left_val = root.val if is_left else float('-inf')\n",
    "\n",
    "    #Recurse for left and right children \n",
    "    left_max = find_max_in_left_nodes(root.left, is_left=True)\n",
    "    right_max = find_max_in_left_nodes(root.right, is_left=False)\n",
    "\n",
    "    #return the maximum value among the current left nodes\n",
    "    return max(max_left_val, left_max, right_max) \n",
    "\n",
    "if __name__ =='__main__':\n",
    "    root = Node(10)\n",
    "    root.left = Node(5)\n",
    "    root.right = Node(15)\n",
    "    root.left.left = Node(2)\n",
    "    root.left.right = Node(6)\n",
    "    root.left.left.left = Node(1)\n",
    "    root.right.right = Node(20)\n",
    "\n",
    "    print(find_max_in_left_nodes(root))"
   ]
  }
 ],
 "metadata": {
  "kernelspec": {
   "display_name": "DevOpsManager",
   "language": "python",
   "name": "python3"
  },
  "language_info": {
   "codemirror_mode": {
    "name": "ipython",
    "version": 3
   },
   "file_extension": ".py",
   "mimetype": "text/x-python",
   "name": "python",
   "nbconvert_exporter": "python",
   "pygments_lexer": "ipython3",
   "version": "3.12.4"
  }
 },
 "nbformat": 4,
 "nbformat_minor": 2
}

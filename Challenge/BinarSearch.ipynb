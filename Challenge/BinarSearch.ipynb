{
 "cells": [
  {
   "cell_type": "markdown",
   "metadata": {},
   "source": [
    "### Binary Search \n",
    "\n",
    "*8NOTE:** You should think about binary search anytime the problem provides anything sorted. $O(log  n)$ is extremely fast and binary search is usually a huge optimization. \n",
    "\n",
    "Binary serach is a search algorithm that runs in $O(logn)$ in the worst case, where $n$ is the size of the search space.\n",
    "\n",
    "For binary search to work, your search space $n$  usually needs to be sorted. Binarcy search trees and graphs are based on binary search. Normally, binary search is done on an array of sorted elements, but you can use binary search in a more creative ways as well.\n",
    "\n",
    "* If we have an array `arr` of sorted element `x`, then in $O(log n)$ time complexity and $O(1)$ space complexity, binary search can:\n",
    "\n",
    "1) find the index of `x` if it in `arr`\n",
    "2) find the first or the last index, in which `x` can be inserted to maintain being sorted otherwise.\n",
    "\n",
    "Because the search space is halved everytime, binary search's worse case time complexity is $O(log n)$. This makes it an extremely powerful algorithm as logarithmic time is **very** fast compared to linear time.\n"
   ]
  },
  {
   "cell_type": "code",
   "execution_count": null,
   "metadata": {},
   "outputs": [],
   "source": [
    "#Binary Search Example\n",
    "def binary_search(arr, target):\n",
    "    left = 0 \n",
    "    right = len(arr) - 1\n",
    "\n",
    "    while left <= right:\n",
    "        mid = (left + right) // 2  #floor division \n",
    "        if arr[mid] == target:\n",
    "            return mid[arr] \n",
    "        if arr[mid] > target:\n",
    "            right = mid - 1\n",
    "        else:\n",
    "            left =  mid + 1\n",
    "\n",
    "    #target not in arr, but left is at the insertion point \n",
    "    return left  "
   ]
  },
  {
   "cell_type": "markdown",
   "metadata": {},
   "source": [
    "**Duplicate Elements**\n",
    "\n",
    "If the input has duplicates, we can modify the binary search template to find either the first or the last position of a given element. \n",
    "\n",
    "* If the `target` appears multiple times, then the following template will find the `left-most` index."
   ]
  },
  {
   "cell_type": "code",
   "execution_count": null,
   "metadata": {},
   "outputs": [],
   "source": [
    "def binary_search(arr, target):\n",
    "    left =  0 \n",
    "    right = len(arr) - 1\n",
    "\n",
    "    while left < right:\n",
    "        mid = (left + right) // 2\n",
    "\n",
    "        if arr[mid] >= target:\n",
    "            right =  mid\n",
    "        else:\n",
    "            left = mid + 1\n",
    "\n",
    "    return left #target not found and the left is the insertion point "
   ]
  },
  {
   "cell_type": "markdown",
   "metadata": {},
   "source": [
    "* If the target appears multiple times, then the following template will find the `right-most` index"
   ]
  },
  {
   "cell_type": "code",
   "execution_count": null,
   "metadata": {},
   "outputs": [],
   "source": [
    "def binary_search(arr, target):\n",
    "    left =  0 \n",
    "    right = len(arr) - 1 \n",
    "\n",
    "    while left < right:\n",
    "        mid = (left + right) // 2\n",
    "        if arr[mid] > target:\n",
    "            right = mid \n",
    "        else:\n",
    "            left = mid + 1\n",
    "    \n",
    "    return left #target not found, left is the insertion point to maintain sorted order "
   ]
  },
  {
   "cell_type": "markdown",
   "metadata": {},
   "source": [
    "In some cases, binary search may be used to search for an element. In most cases, binary search may just be a tool that speeds up your algorithm."
   ]
  },
  {
   "cell_type": "markdown",
   "metadata": {},
   "source": [
    "### Question\n",
    "Given an array of integers `arr` which is sorted in ascending order, and integer `target`. If target exists in `arr`, return it's index. Otherwise return -1.\n",
    "\n",
    "We don't use extra space except for a few integer variable."
   ]
  },
  {
   "cell_type": "code",
   "execution_count": null,
   "metadata": {},
   "outputs": [],
   "source": [
    "def binary_search(arr, target):\n",
    "    left = 0 \n",
    "    right = len(arr) - 1\n",
    "\n",
    "    while left <= right:\n",
    "        mid = (left + right) // 2\n",
    "        num = arr[mid]\n",
    "\n",
    "        if num == target:\n",
    "            return num \n",
    "        \n",
    "        if num > target:\n",
    "            right = mid - 1\n",
    "        else:\n",
    "            left = mid + 1 \n",
    "\n",
    "    return - 1 "
   ]
  },
  {
   "cell_type": "markdown",
   "metadata": {},
   "source": [
    "### Binary Search on 2D Matrix \n",
    "\n",
    "- To approach this problem, since the row are sorted, we hypothetically flatten the 2D to 1D array "
   ]
  },
  {
   "cell_type": "code",
   "execution_count": null,
   "metadata": {},
   "outputs": [],
   "source": [
    "def binary_search_matrix(matrix, target):\n",
    "    \"\"\"\n",
    "    Time Complexity: O(log((m * n)) - Because there are O(m*n) elements in the search space  \n",
    "    Space Complexity: O(1) - There are no extra space used \n",
    "    \"\"\"\n",
    "    #let's store the size of the matrix \n",
    "    m = len(matrix)\n",
    "    n = len(matrix[0])\n",
    "\n",
    "    left = 0 \n",
    "    #right is the size of the matrix \n",
    "    right = m * n - 1\n",
    "\n",
    "    while left <= right:\n",
    "        mid = (left + right) // 2\n",
    "        row = mid // n \n",
    "        col = mid % n \n",
    "        num = matrix[row][col]\n",
    "\n",
    "        if num == target:\n",
    "            return True \n",
    "        \n",
    "        if num > target:\n",
    "            right = mid - 1\n",
    "        else:\n",
    "            left = mid + 1 \n",
    "\n",
    "    return False "
   ]
  },
  {
   "cell_type": "markdown",
   "metadata": {},
   "source": [
    "#### Successful Pairs of Spells and Poyions\n",
    "\n",
    "You are given two positive integer arrays spells and potions, where `spells[i]` represents the strength of the $i^{th}$ spell and `potions[j]` represents the strength of the $j^{th}$ potion. You are also given an integer `success`. **A spell and potion pair is considered successful if the product of their strengths is at least success**. For each spell, find how many potions it can pair with to be successful. Return an integer array where the $i^{th}$ element is the answer for the $i^{th}$ spell."
   ]
  },
  {
   "cell_type": "code",
   "execution_count": 1,
   "metadata": {},
   "outputs": [],
   "source": [
    "class Solution:\n",
    "    def successfulPairs(self, spells: list[int], potions: list[int], success: int) -> list[int]:\n",
    "        def binary_search(arr, target):\n",
    "            \"\"\"\n",
    "            Time Complexity: O((m + n)log m) - Sort cost O(m*logm), then we iterate n times performing a O(logm) binary search on each iteration, given a total of O((m*n)log m)\n",
    "            \"\"\"\n",
    "            left =  0 \n",
    "            right = len(arr) - 1\n",
    "            \n",
    "            while left <= right:\n",
    "                mid = (left + right) // 2\n",
    "                if arr[mid] < target:\n",
    "                    left = mid + 1\n",
    "                else:\n",
    "                    right = mid - 1\n",
    "\n",
    "            return left \n",
    "        \n",
    "        potions.sort()\n",
    "        ans = []\n",
    "        m = len(potions)\n",
    "\n",
    "        for spell in spells:\n",
    "            i = binary_search(potions, success / spell)\n",
    "            ans.append(m - 1)\n",
    "\n",
    "        return ans"
   ]
  },
  {
   "cell_type": "code",
   "execution_count": null,
   "metadata": {},
   "outputs": [],
   "source": []
  }
 ],
 "metadata": {
  "kernelspec": {
   "display_name": "DevOpsManager",
   "language": "python",
   "name": "python3"
  },
  "language_info": {
   "codemirror_mode": {
    "name": "ipython",
    "version": 3
   },
   "file_extension": ".py",
   "mimetype": "text/x-python",
   "name": "python",
   "nbconvert_exporter": "python",
   "pygments_lexer": "ipython3",
   "version": "3.12.4"
  }
 },
 "nbformat": 4,
 "nbformat_minor": 2
}

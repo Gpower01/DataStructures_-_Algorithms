{
 "cells": [
  {
   "cell_type": "markdown",
   "metadata": {},
   "source": [
    "### Binary Search \n",
    "\n",
    "*8NOTE:** You should think about binary search anytime the problem provides anything sorted. $O(log  n)$ is extremely fast and binary search is usually a huge optimization. \n",
    "\n",
    "Binary serach is a search algorithm that runs in $O(logn)$ in the worst case, where $n$ is the size of the search space.\n",
    "\n",
    "For binary search to work, your search space $n$  usually needs to be sorted. Binarcy search trees and graphs are based on binary search. Normally, binary search is done on an array of sorted elements, but you can use binary search in a more creative ways as well.\n",
    "\n",
    "* If we have an array `arr` of sorted element `x`, then in $O(log n)$ time complexity and $O(1)$ space complexity, binary search can:\n",
    "\n",
    "1) find the index of `x` if it in `arr`\n",
    "2) find the first or the last index, in which `x` can be inserted to maintain being sorted otherwise.\n",
    "\n",
    "Because the search space is halved everytime, binary search's worse case time complexity is $O(log n)$. This makes it an extremely powerful algorithm as logarithmic time is **very** fast compared to linear time.\n"
   ]
  },
  {
   "cell_type": "code",
   "execution_count": null,
   "metadata": {},
   "outputs": [],
   "source": [
    "#Binary Search Example\n",
    "def binary_search(arr, target):\n",
    "    left = 0 \n",
    "    right = len(arr) - 1\n",
    "\n",
    "    while left <= right:\n",
    "        mid = (left + right) // 2  #floor division \n",
    "        if arr[mid] == target:\n",
    "            return mid[arr] \n",
    "        if arr[mid] > target:\n",
    "            right = mid - 1\n",
    "        else:\n",
    "            left =  mid + 1\n",
    "\n",
    "    #target not in arr, but left is at the insertion point \n",
    "    return left  "
   ]
  },
  {
   "cell_type": "markdown",
   "metadata": {},
   "source": [
    "**Duplicate Elements**\n",
    "\n",
    "If the input has duplicates, we can modify the binary search template to find either the first or the last position of a given element. \n",
    "\n",
    "* If the `target` appears multiple times, then the following template will find the `left-most` index."
   ]
  },
  {
   "cell_type": "code",
   "execution_count": null,
   "metadata": {},
   "outputs": [],
   "source": [
    "def binary_search(arr, target):\n",
    "    left =  0 \n",
    "    right = len(arr) - 1\n",
    "\n",
    "    while left < right:\n",
    "        mid = (left + right) // 2\n",
    "\n",
    "        if arr[mid] >= target:\n",
    "            right =  mid\n",
    "        else:\n",
    "            left = mid + 1\n",
    "\n",
    "    return left #target not found and the left is the insertion point "
   ]
  },
  {
   "cell_type": "markdown",
   "metadata": {},
   "source": [
    "* If the target appears multiple times, then the following template will find the `right-most` index"
   ]
  },
  {
   "cell_type": "code",
   "execution_count": null,
   "metadata": {},
   "outputs": [],
   "source": [
    "def binary_search(arr, target):\n",
    "    left =  0 \n",
    "    right = len(arr) - 1 \n",
    "\n",
    "    while left < right:\n",
    "        mid = (left + right) // 2\n",
    "        if arr[mid] > target:\n",
    "            right = mid \n",
    "        else:\n",
    "            left = mid + 1\n",
    "    \n",
    "    return left #target not found, left is the insertion point to maintain sorted order "
   ]
  },
  {
   "cell_type": "code",
   "execution_count": null,
   "metadata": {},
   "outputs": [],
   "source": []
  }
 ],
 "metadata": {
  "language_info": {
   "name": "python"
  }
 },
 "nbformat": 4,
 "nbformat_minor": 2
}

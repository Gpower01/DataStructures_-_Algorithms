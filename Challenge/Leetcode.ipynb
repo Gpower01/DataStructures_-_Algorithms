{
 "cells": [
  {
   "cell_type": "markdown",
   "metadata": {},
   "source": [
    "### Leetcode DSA Challenge \n",
    "\n",
    "### Challenge 1:\n",
    "* Remove duplicate elements from Array"
   ]
  },
  {
   "cell_type": "code",
   "execution_count": 1,
   "metadata": {},
   "outputs": [
    {
     "name": "stdout",
     "output_type": "stream",
     "text": [
      "6 is a duplicate!\n",
      "2 is a duplicate!\n",
      "5 is a duplicate!\n"
     ]
    }
   ],
   "source": [
    "numbers = [2, 3, 5, 6, 9, 6, 10, 11, 2, 5]\n",
    "\n",
    "seen = set()\n",
    "\n",
    "for number in numbers:\n",
    "    if number in seen:\n",
    "        print(f\"{number} is a duplicate!\")\n",
    "    else:\n",
    "        seen.add(number)\n"
   ]
  },
  {
   "cell_type": "code",
   "execution_count": 2,
   "metadata": {},
   "outputs": [
    {
     "name": "stdout",
     "output_type": "stream",
     "text": [
      "2 is a duplicate!\n",
      "5 is a duplicate!\n",
      "6 is a duplicate!\n"
     ]
    }
   ],
   "source": [
    "for i in range(len(numbers)):\n",
    "    for j in range(i + 1, len(numbers)):\n",
    "        if numbers[i] == numbers[j]:\n",
    "            print(f'{numbers[i]} is a duplicate!')\n",
    "            break"
   ]
  },
  {
   "cell_type": "markdown",
   "metadata": {},
   "source": [
    "### Set Method\n",
    "* We can use `set` to remove duplicate numbers as set does not allow duplicate numbers."
   ]
  },
  {
   "cell_type": "code",
   "execution_count": 19,
   "metadata": {},
   "outputs": [
    {
     "name": "stdout",
     "output_type": "stream",
     "text": [
      "[2, 3, 5, 6, 9, 10, 11]\n"
     ]
    }
   ],
   "source": [
    "distinct_nums = set(numbers) \n",
    "print(list(distinct_nums))"
   ]
  },
  {
   "cell_type": "markdown",
   "metadata": {},
   "source": [
    "### Loop Method\n",
    "* However `set` does not maintain order. So if we want to maintain order we can use a loop function "
   ]
  },
  {
   "cell_type": "code",
   "execution_count": 4,
   "metadata": {},
   "outputs": [
    {
     "name": "stdout",
     "output_type": "stream",
     "text": [
      "[2, 3, 5, 6, 9, 10, 11]\n"
     ]
    }
   ],
   "source": [
    "numbers = [2, 3, 5, 6, 9, 6, 10, 11, 2, 5]\n",
    "unique_numbers = []\n",
    "seen = set()\n",
    "\n",
    "for number in numbers:\n",
    "    if number not in seen:\n",
    "        unique_numbers.append(number)\n",
    "        seen.add(number)\n",
    "\n",
    "print(unique_numbers)"
   ]
  },
  {
   "cell_type": "markdown",
   "metadata": {},
   "source": [
    "## LeetCode\n",
    "* Remove Duplicates from sorted Array. Given an array `nums` sorted in non-decreasing order, remove the duplicates in-place such that each unique element appears only once. The relative order of the elements should be kept the same, then return the numbers of unique elements in `nums`. To attempt the question, first consider the following:\n",
    "\n",
    "- **Intuition**\n",
    "- **Approach**\n",
    "- **Complexity**\n",
    "  - Time complexity\n",
    "  - Space complexity \n",
    "\n",
    "- **Code**\n",
    "\n"
   ]
  },
  {
   "cell_type": "code",
   "execution_count": 28,
   "metadata": {},
   "outputs": [],
   "source": [
    "class Solution:\n",
    "    def __init__(self, nums=None):\n",
    "        self.nums = nums\n",
    "    \n",
    "    def removeDuplicates(self):\n",
    "        \"\"\"\n",
    "        :type nums: List[int]\n",
    "        :rtype: int\n",
    "\n",
    "        :Time complexity: O(n)\n",
    "        :Space complexity: O(1)\n",
    "        \"\"\"\n",
    "\n",
    "        if self.nums is None:\n",
    "            return 0 \n",
    "        \n",
    "        #Initialize the index for the next unique element \n",
    "        write_index = 1\n",
    "\n",
    "        for i in range(1, len(self.nums)):\n",
    "            if self.nums[i] != self.nums[i - 1]:\n",
    "                self.nums[write_index] = self.nums[i]\n",
    "                write_index += 1\n",
    "\n",
    "        return write_index\n",
    "\n"
   ]
  },
  {
   "cell_type": "code",
   "execution_count": 31,
   "metadata": {},
   "outputs": [
    {
     "name": "stdout",
     "output_type": "stream",
     "text": [
      "2\n",
      "[1, 2]\n"
     ]
    }
   ],
   "source": [
    "nums = [1, 1, 2]\n",
    "Dup = Solution(nums)\n",
    "sol = Dup.removeDuplicates()\n",
    "print(sol)\n",
    "print(nums[:sol])\n"
   ]
  },
  {
   "cell_type": "code",
   "execution_count": 32,
   "metadata": {},
   "outputs": [],
   "source": [
    "class DuplicateSolution:\n",
    "    def removeDuplicates(self, nums):\n",
    "        \"\"\"\n",
    "        :type: List[int]\n",
    "        :rtype: [int]\n",
    "\n",
    "        :Time complexity: O(n)\n",
    "        :Space complexity: O(1)\n",
    "        \"\"\"\n",
    "        if not nums:\n",
    "            return 0\n",
    "        \n",
    "        #Initialize index for the next unique element in the list \n",
    "        write_index = 1\n",
    "\n",
    "        for i in range(1, len(nums)):\n",
    "            if nums[i] != nums[i - 1]:\n",
    "                nums[write_index] = nums[i]\n",
    "                write_index += 1\n",
    "                \n",
    "        return write_index\n"
   ]
  },
  {
   "cell_type": "code",
   "execution_count": 34,
   "metadata": {},
   "outputs": [
    {
     "name": "stdout",
     "output_type": "stream",
     "text": [
      "2\n",
      "[1, 2]\n"
     ]
    }
   ],
   "source": [
    "nums = [1,1,2]\n",
    "Dup = DuplicateSolution()\n",
    "sol = Dup.removeDuplicates(nums)\n",
    "print(sol)\n",
    "print(nums[:sol])"
   ]
  },
  {
   "cell_type": "markdown",
   "metadata": {},
   "source": [
    "## LeetCode: Remove Duplicates from Sorted Array II\n",
    "* Given an integer array `nums` sorted in **non decreasing** order, remove some duplicates in-place such that each unique element appears at most twice. The relative order of the elements should be kept the same. \n",
    "\n",
    "- Do not allocate extra space for the array. You must do this by modifying the input array in-place with O(1) extra memory. \n",
    "\n",
    "- **Intuition**\n",
    "- **Approach**\n",
    "- **Complexity**\n",
    "  - Time complexity\n",
    "  - Space complexity \n",
    "\n",
    "- **Code**\n"
   ]
  },
  {
   "cell_type": "code",
   "execution_count": 3,
   "metadata": {},
   "outputs": [
    {
     "name": "stdout",
     "output_type": "stream",
     "text": [
      "5\n",
      "[1, 1, 2, 2, 3]\n"
     ]
    }
   ],
   "source": [
    "class DuplicateElements:\n",
    "    def removeDuplicates(self, nums):\n",
    "        if len(nums) <= 2:\n",
    "            return len(nums)\n",
    "\n",
    "        insert_pos = 2  # start from the third position\n",
    "        for i in range(2, len(nums)):\n",
    "            if nums[i] != nums[insert_pos - 2]:\n",
    "                nums[insert_pos] = nums[i]\n",
    "                insert_pos += 1\n",
    "\n",
    "        return insert_pos\n",
    "\n",
    "#Test\n",
    "nums = [1, 1, 1, 2, 2, 3]\n",
    "new_length = DuplicateElements().removeDuplicates(nums)\n",
    "print(new_length)  # Output: 5\n",
    "print(nums[:new_length])  # Output: [1, 1, 2, 2, 3]"
   ]
  },
  {
   "cell_type": "markdown",
   "metadata": {},
   "source": [
    "### Two Sum\n",
    "* Given an array of integers `nums` and an integer `target`, return indices of the two numbers such that they add up to `target`. You may assume that each input would have **exactly one solution**, and you may not use the same element twice.\n",
    "\n",
    "- You can return the answer in any order."
   ]
  },
  {
   "cell_type": "code",
   "execution_count": 5,
   "metadata": {},
   "outputs": [
    {
     "name": "stdout",
     "output_type": "stream",
     "text": [
      "The summ of 7 and 2 is: 9\n"
     ]
    },
    {
     "data": {
      "text/plain": [
       "[[0, 1]]"
      ]
     },
     "execution_count": 5,
     "metadata": {},
     "output_type": "execute_result"
    }
   ],
   "source": [
    "class Solutions:\n",
    "    def twosum(self, nums: list[int], target: int) -> int:\n",
    "        num_to_index = {}\n",
    "\n",
    "        for index, num in enumerate(nums):\n",
    "            complement = target - num\n",
    "\n",
    "            if complement in num_to_index:\n",
    "                print(f'The summ of {num} and {complement} is: {num + complement}')\n",
    "                return [[num_to_index[complement], index]]\n",
    "            \n",
    "            num_to_index[num] = index\n",
    "        \n",
    "        return None \n",
    "    \n",
    "#Test \n",
    "nums = [2,7,11,15]\n",
    "target = 9\n",
    "test1 = Solutions().twosum(nums,target )\n",
    "test1"
   ]
  },
  {
   "cell_type": "markdown",
   "metadata": {},
   "source": [
    "### Group Anagrams\n",
    "- Given an array of strings `str`, group **the anagrams** together. You can return the answer in **any order**.\n",
    "\n",
    "An **Anagram** is a word or phrase formed by re-arranging the letters of a different word or phrase, typically using all the original letters exactly once. "
   ]
  },
  {
   "cell_type": "code",
   "execution_count": 6,
   "metadata": {},
   "outputs": [],
   "source": [
    "class Solution:\n",
    "    def groupedAnagram(self, strs: list[str]) -> list[list[str]]:\n",
    "        #create a dictionary to store each word seen \n",
    "        grouped_anagram = {}\n",
    "\n",
    "        #sort the characters in the word to create a signature \n",
    "        for word in strs:\n",
    "            signature = ''.join(sorted(word))\n",
    "\n",
    "            # check if signature in grouped_anagram\n",
    "            if signature in grouped_anagram:\n",
    "                grouped_anagram[signature].append(word)\n",
    "            else:\n",
    "                grouped_anagram[signature] = [word]\n",
    "        \n",
    "        #convert grouped anagram to list \n",
    "        grouped_anagram = list(grouped_anagram.values())\n",
    "\n",
    "        return grouped_anagram"
   ]
  },
  {
   "cell_type": "code",
   "execution_count": 5,
   "metadata": {},
   "outputs": [],
   "source": [
    "import time \n",
    "import heapq"
   ]
  },
  {
   "cell_type": "code",
   "execution_count": null,
   "metadata": {},
   "outputs": [],
   "source": [
    "#---------------------------------------------------Data Engineering Interview Practice Questions ---------------------------------------------------------------------"
   ]
  },
  {
   "cell_type": "markdown",
   "metadata": {},
   "source": [
    "**Bit Manipulations**: is a fundamental technique in computer science and programming that involves performing operations directly on the binary representations of integers. By manipulating individual bits (0s and 1s), you can perform efficient computations, optimize memory usage, and solve complex problems that are otherwise challenging with standard arithmetic operations.\n",
    "\n",
    "- **Bit**: The smallest unit of data in computing, representing a binary value of 0 or 1.\n",
    "\n",
    "**Common Bit Manipulation Operation**\n",
    "\n",
    "- **AND (&)**: The result bit is `1` only if both corresponding bits are `1`"
   ]
  },
  {
   "cell_type": "code",
   "execution_count": 6,
   "metadata": {},
   "outputs": [
    {
     "name": "stdout",
     "output_type": "stream",
     "text": [
      "1\n"
     ]
    }
   ],
   "source": [
    "a = 5  # 0101\n",
    "b = 3  # 0011\n",
    "result = a & b  # 0001 (1)\n",
    "print(result)  # Output: 1\n"
   ]
  },
  {
   "cell_type": "markdown",
   "metadata": {},
   "source": [
    "**OR (|):** The result bits is `1` if at least one corresponding bit is `1`"
   ]
  },
  {
   "cell_type": "code",
   "execution_count": 15,
   "metadata": {},
   "outputs": [
    {
     "name": "stdout",
     "output_type": "stream",
     "text": [
      "7\n"
     ]
    }
   ],
   "source": [
    "a = 5  # 0101\n",
    "b = 3  # 0011\n",
    "result = a | b  # 0111 (7)\n",
    "print(result)  # Output: 7"
   ]
  },
  {
   "cell_type": "markdown",
   "metadata": {},
   "source": [
    "**XOR (^):** The result bit is `1` if the corresponding bits are different"
   ]
  },
  {
   "cell_type": "code",
   "execution_count": 16,
   "metadata": {},
   "outputs": [
    {
     "name": "stdout",
     "output_type": "stream",
     "text": [
      "6\n"
     ]
    }
   ],
   "source": [
    "a = 5  # 0101\n",
    "b = 3  # 0011\n",
    "result = a ^ b  # 0110 (6)\n",
    "print(result)  # Output: 1"
   ]
  },
  {
   "cell_type": "markdown",
   "metadata": {},
   "source": [
    "**NOT (~):** It converts each bit, turning `0s` to `1s` and vice versa. In Python also affects the sign of the number due to complement representation"
   ]
  },
  {
   "cell_type": "code",
   "execution_count": 17,
   "metadata": {},
   "outputs": [
    {
     "name": "stdout",
     "output_type": "stream",
     "text": [
      "-6\n"
     ]
    }
   ],
   "source": [
    "a = 5  # 0101\n",
    "\n",
    "result = ~a   # ...1010 (-6 in two's complement)\n",
    "print(result)  # Output: -6"
   ]
  },
  {
   "cell_type": "markdown",
   "metadata": {},
   "source": [
    "**Left Shift (<<):** Shifts bits to the left by a specified number of positions. Each left shift multiplies the number by 2"
   ]
  },
  {
   "cell_type": "code",
   "execution_count": 18,
   "metadata": {},
   "outputs": [
    {
     "name": "stdout",
     "output_type": "stream",
     "text": [
      "10\n"
     ]
    }
   ],
   "source": [
    "a = 5  # 0101\n",
    "result = a << 1  # 1010 (10)\n",
    "print(result)  # Output: 10"
   ]
  },
  {
   "cell_type": "markdown",
   "metadata": {},
   "source": [
    "**Right Shift (>>):** Shifts bits to the right by a specificied number of positions. Each right shift divides the number by 2"
   ]
  },
  {
   "cell_type": "code",
   "execution_count": 19,
   "metadata": {},
   "outputs": [
    {
     "name": "stdout",
     "output_type": "stream",
     "text": [
      "2\n"
     ]
    }
   ],
   "source": [
    "a = 5  # 0101\n",
    "result = a >> 1  # 0010 (2)\n",
    "print(result)  # Output: 2\n"
   ]
  },
  {
   "cell_type": "markdown",
   "metadata": {},
   "source": [
    "### Bit Manipulation"
   ]
  },
  {
   "cell_type": "code",
   "execution_count": 21,
   "metadata": {},
   "outputs": [
    {
     "name": "stdout",
     "output_type": "stream",
     "text": [
      "True\n",
      "False\n"
     ]
    }
   ],
   "source": [
    "#1: check if a number is even or Odd\n",
    "\n",
    "def is_even(n):\n",
    "    return (n & 1) == 0 \n",
    "\n",
    "n = 4\n",
    "print(is_even(n)) # True \n",
    "print(is_even(n=7)) # False "
   ]
  },
  {
   "cell_type": "code",
   "execution_count": 22,
   "metadata": {},
   "outputs": [
    {
     "name": "stdout",
     "output_type": "stream",
     "text": [
      "(3, 4)\n"
     ]
    }
   ],
   "source": [
    "#2: Swaping Two Numbers without a Temporary variable\n",
    "def swap(a, b):\n",
    "    a = a ^ b\n",
    "    b = a ^ b \n",
    "    a = a ^ b \n",
    "    return a, b\n",
    "\n",
    "a = 4\n",
    "b =  3\n",
    "result = swap(a, b)\n",
    "print(result)"
   ]
  },
  {
   "cell_type": "code",
   "execution_count": 24,
   "metadata": {},
   "outputs": [
    {
     "name": "stdout",
     "output_type": "stream",
     "text": [
      "3\n"
     ]
    }
   ],
   "source": [
    "#3: Counting Set Bits: Counting the number of `1s` in the binary representation of a number\n",
    "def count_set_bits(n):\n",
    "    count =  0\n",
    "    while n:\n",
    "        n &= (n - 1)\n",
    "        count += 1\n",
    "    return count\n",
    "    \n",
    "print(count_set_bits(7))"
   ]
  },
  {
   "cell_type": "code",
   "execution_count": 27,
   "metadata": {},
   "outputs": [
    {
     "name": "stdout",
     "output_type": "stream",
     "text": [
      "4\n"
     ]
    }
   ],
   "source": [
    "#Q4: Lookup Table: \n",
    "def count_set_bits_lookup(n):\n",
    "    lookup = [0, 1, 1, 2, 1, 2, 2, 3, 1, 2, 2, 3, 2, 3, 3, 4]\n",
    "\n",
    "    count = 0\n",
    "    while n:\n",
    "        count += lookup[n & 0b1111]\n",
    "        n >>= 4\n",
    "    return count \n",
    "\n",
    "print(count_set_bits_lookup(15))  # Output: 4"
   ]
  },
  {
   "cell_type": "code",
   "execution_count": 28,
   "metadata": {},
   "outputs": [
    {
     "name": "stdout",
     "output_type": "stream",
     "text": [
      "True\n",
      "False\n"
     ]
    }
   ],
   "source": [
    "#5: Checking if a Number is a Power Two: A number is a power of two if it has exactly one set bit\n",
    "def is_power_of_two(n):\n",
    "    return n > 0 and (n & (n - 1)) == 0\n",
    "\n",
    "print(is_power_of_two(16))  # Output: True\n",
    "print(is_power_of_two(18))  # Output: False\n"
   ]
  },
  {
   "cell_type": "code",
   "execution_count": 30,
   "metadata": {},
   "outputs": [
    {
     "name": "stdout",
     "output_type": "stream",
     "text": [
      "3\n"
     ]
    }
   ],
   "source": [
    "#6: Finding the Only Non-Repeating Element: In an  array where every element appears twice except one, find the unique element using XOR\n",
    "def find_unique(arr):\n",
    "    unique = 0 \n",
    "    for num in arr:\n",
    "        unique ^= num\n",
    "    return unique\n",
    "\n",
    "print(find_unique([2, 3, 2, 4, 4]))"
   ]
  },
  {
   "cell_type": "code",
   "execution_count": 31,
   "metadata": {},
   "outputs": [
    {
     "name": "stdout",
     "output_type": "stream",
     "text": [
      "0\n",
      "14\n",
      "14\n",
      "-11\n",
      "20\n",
      "5\n"
     ]
    }
   ],
   "source": [
    "#Q7: Complete Bit Manipulation in Python \n",
    "a = 10        # 1010\n",
    "b = 4         # 0100\n",
    "\n",
    "print(a & b)  # Output: 0 (0000)\n",
    "print(a | b)  # Output: 14 (1110)\n",
    "print(a ^ b)  # Output: 14 (1110)\n",
    "print(~a)     # Output: -11 (two's complement)\n",
    "print(a << 1) # Output: 20 (10100)\n",
    "print(a >> 1) # Output: 5  (0101)\n"
   ]
  },
  {
   "cell_type": "code",
   "execution_count": 32,
   "metadata": {},
   "outputs": [
    {
     "name": "stdout",
     "output_type": "stream",
     "text": [
      "7\n"
     ]
    }
   ],
   "source": [
    "#Q8: Toggle the K-th Bit of a Number \n",
    "def toggle_bit(n, k):\n",
    "    return n ^ (1 << k)\n",
    "\n",
    "# Toggle the 1st bit of 5 (0101 -> 0101 ^ 0010 = 0111)\n",
    "print(toggle_bit(5, 1))  # Output: 7\n"
   ]
  },
  {
   "cell_type": "code",
   "execution_count": 33,
   "metadata": {},
   "outputs": [
    {
     "name": "stdout",
     "output_type": "stream",
     "text": [
      "5\n"
     ]
    }
   ],
   "source": [
    "#Q9: Set the k-th Bit of a Number \n",
    "def set_bit(n, k):\n",
    "    return n | (1 << k)\n",
    "\n",
    "# Set the 2nd bit of 5 (0101 | 0100 = 0101)\n",
    "print(set_bit(5, 2))  # Output: 5\n"
   ]
  },
  {
   "cell_type": "code",
   "execution_count": 34,
   "metadata": {},
   "outputs": [
    {
     "name": "stdout",
     "output_type": "stream",
     "text": [
      "4\n"
     ]
    }
   ],
   "source": [
    "#Q10: Clear the k-th Bit of a Number \n",
    "def clear_bit(n, k):\n",
    "    return n & ~(1 << k)\n",
    "\n",
    "# Clear the 0th bit of 5 (0101 & 1110 = 0100)\n",
    "print(clear_bit(5, 0))  # Output: 4\n"
   ]
  },
  {
   "cell_type": "code",
   "execution_count": 35,
   "metadata": {},
   "outputs": [
    {
     "name": "stdout",
     "output_type": "stream",
     "text": [
      "True\n"
     ]
    }
   ],
   "source": [
    "#Q11: Check if the k-th Bit is Set \n",
    "def is_bit_set(n, k):\n",
    "    return (n & (1 << k)) != 0\n",
    "\n",
    "# Check if the 2nd bit of 5 is set (0101 & 0100 = 0100 != 0)\n",
    "print(is_bit_set(5, 2))  # Output: True\n"
   ]
  },
  {
   "cell_type": "markdown",
   "metadata": {},
   "source": [
    "### Count Total Set Bits from 1 to n\n",
    "- Using efficient method discussed earlier  "
   ]
  },
  {
   "cell_type": "code",
   "execution_count": null,
   "metadata": {},
   "outputs": [],
   "source": [
    "def countSetBits(n):\n",
    "    count = 0\n",
    "    i = 0\n",
    "\n",
    "    while (1 << i) <= n:\n",
    "        pass"
   ]
  },
  {
   "cell_type": "markdown",
   "metadata": {},
   "source": [
    "## Bit Manipulations Problems\n",
    "\n",
    "**Question 1:** Find the sum of number of set bits in all the number in the range [1, n]"
   ]
  },
  {
   "cell_type": "code",
   "execution_count": 8,
   "metadata": {},
   "outputs": [],
   "source": [
    "# Method 1:\n",
    "class Solution(object):\n",
    "    \"\"\"\n",
    "    Time complexity: O(n)\n",
    "    Space complexity: O(n)\n",
    "    \"\"\"\n",
    "    def bit_manipulations(self, n):\n",
    "        res = [0] * (n+1)\n",
    "        for i in range(1, n+1):\n",
    "            res[i] = res[i//2] + (i & 1)\n",
    "\n",
    "        return sum(res)\n"
   ]
  },
  {
   "cell_type": "code",
   "execution_count": 9,
   "metadata": {},
   "outputs": [],
   "source": [
    "# Method 2 \n",
    "class Solutions(object):\n",
    "    def BitsetCounts(self, n):\n",
    "        \"\"\" \n",
    "        Time Complexity: O(nlogn)\n",
    "        Space Complexity: O(1)\n",
    "        \"\"\"\n",
    "        #Initial variable to store results \n",
    "        count = 0 \n",
    "\n",
    "        #iterate all through the set bit poistions\n",
    "        i = 0 \n",
    "\n",
    "        while (1 << i) <= n:\n",
    "            #create pairs of os and 1s for the bit positions \n",
    "            total_pairs = (n + 1) // (1 << (i + 1))\n",
    "\n",
    "            #Each pair contribute (1 << i) set bit\n",
    "            count += total_pairs * (1 << i)\n",
    "\n",
    "            # Remainder bits after the last complete pair \n",
    "            remainder = (n + 1) % (1 << (i + 1))\n",
    "\n",
    "            #add the set bits from the remainder \n",
    "            count += max(0, remainder - (1 << i))\n",
    "\n",
    "            i += 1\n",
    "\n",
    "        return count "
   ]
  },
  {
   "cell_type": "code",
   "execution_count": null,
   "metadata": {},
   "outputs": [],
   "source": [
    "#Method 3: Optimizaing Space Complexity to O(1) while maintaining Time complexity to O(n)\n",
    "def countBitsOptimizedSpace(n):\n",
    "    pass\n"
   ]
  },
  {
   "cell_type": "markdown",
   "metadata": {},
   "source": [
    "**Question 2:** Find the sum of number of set bits in all the numbers in the range [m, n]. \n",
    "\n",
    "- To calculate the **sum of the number of set bits (1s in the binary representation) for all numbers in a given range [m, n], you can leverage algorithms that minimize both time and space complexity.  This problem extends question 1 - above  "
   ]
  },
  {
   "cell_type": "code",
   "execution_count": 14,
   "metadata": {},
   "outputs": [
    {
     "name": "stdout",
     "output_type": "stream",
     "text": [
      "Total number of set bits from 4 to 7: 11\n",
      "Total number of set bits from 10 to 15: 28\n",
      "Total number of set bits from 1 to 10: 34\n"
     ]
    }
   ],
   "source": [
    "def countSetBits(n):\n",
    "    \"\"\"\n",
    "    Counts the total number of set bits (1s) in all number from 1 to n.\n",
    "\n",
    "    Args:\n",
    "    - n(int): The upper bound of the range (inclusive) \n",
    "\n",
    "    Returns:\n",
    "    - int: Total number of set bits from 1 to n.\n",
    "    \"\"\"\n",
    "    count = 0\n",
    "\n",
    "    i = 0\n",
    "\n",
    "    while (1 << i) <= n:\n",
    "        #Total pairs of 0s and 1s for the current bit position \n",
    "        total_pairs = (n + 1) // (1 << (1 + 1))\n",
    "\n",
    "        # Each pair contributes (1 << i) set bits\n",
    "        count += total_pairs * (1 << i) \n",
    "\n",
    "        #Remainder bits after the last complete pair \n",
    "        remainder = (n + 1) % (1 << (i + 1))\n",
    "\n",
    "        # Add the set bits from the remainder \n",
    "        count += max(0, remainder - (1 << i))\n",
    "\n",
    "        i += 1\n",
    "\n",
    "    return count \n",
    "\n",
    "def sumSetBitsInRange(m, n):\n",
    "    \"\"\" \n",
    "    Calculates the sum of set bits in all numbers within the range [m, n]\n",
    "\n",
    "    Args:\n",
    "    - m (int): The lower bound of the range (inclusive)\n",
    "    - n (int): The upper bound of the range (inclusive) \n",
    "\n",
    "    Returns:\n",
    "    - int: Total number of set bits in the range [m, n]\n",
    "    \"\"\"\n",
    "    if m > n:\n",
    "        raise ValueError(\"Lower bound m must be less than or equal to upper bound n.\")\n",
    "    \n",
    "    if m == 0:\n",
    "        #if m is 0 , count set bits from 0 to n\n",
    "        #Assuming 0 has 0 set bits\n",
    "        return countSetBits(n)\n",
    "    else:\n",
    "        #Sum of set bits from m to n = countSetBits(n) - countSetBits(m - 1)\n",
    "        return countSetBits(n) - countSetBits(m - 1)\n",
    "    \n",
    "#Test function example\n",
    "if __name__ == \"__main__\":\n",
    "    #Example 1\n",
    "    m1, n1 = 4, 7\n",
    "    result1 = sumSetBitsInRange(m1, n1)\n",
    "    print(f\"Total number of set bits from {m1} to {n1}: {result1}\") # 8\n",
    "\n",
    "    #Example 2\n",
    "    m2, n2 = 10, 15\n",
    "    result2 = sumSetBitsInRange(m2, n2)\n",
    "    print(f\"Total number of set bits from {m2} to {n2}: {result2}\")\n",
    "\n",
    "    #Example 3\n",
    "    m3, n3 = 1, 10\n",
    "    result3 = sumSetBitsInRange(m3, n3)\n",
    "    print(f\"Total number of set bits from {m3} to {n3}: {result3}\")"
   ]
  },
  {
   "cell_type": "code",
   "execution_count": 13,
   "metadata": {},
   "outputs": [
    {
     "name": "stdout",
     "output_type": "stream",
     "text": [
      "Total number of set bits from 4 to 7: 8\n",
      "Total number of set bits from 10 to 15: 17\n",
      "Total number of set bits from 1 to 10: 17\n"
     ]
    }
   ],
   "source": [
    "def countSetBits(n):\n",
    "    \"\"\"\n",
    "    Counts the total number of set bits (1s) in all numbers from 1 to n.\n",
    "    \n",
    "    Args:\n",
    "    - n (int): The upper bound of the range (inclusive).\n",
    "    \n",
    "    Returns:\n",
    "    - int: Total number of set bits from 1 to n.\n",
    "    \"\"\"\n",
    "    count = 0\n",
    "    i = 0  # Bit position\n",
    "    \n",
    "    while (1 << i) <= n:\n",
    "        # Total pairs of 0s and 1s for the current bit position\n",
    "        total_pairs = (n + 1) // (1 << (i + 1))\n",
    "        \n",
    "        # Each pair contributes (1 << i) set bits\n",
    "        count += total_pairs * (1 << i)\n",
    "        \n",
    "        # Remainder bits after the last complete pair\n",
    "        remainder = (n + 1) % (1 << (i + 1))\n",
    "        \n",
    "        # Add the set bits from the remainder\n",
    "        count += max(0, remainder - (1 << i))\n",
    "        \n",
    "        i += 1\n",
    "    \n",
    "    return count\n",
    "\n",
    "def sumSetBitsInRange(m, n):\n",
    "    \"\"\"\n",
    "    Calculates the sum of set bits in all numbers within the range [m, n].\n",
    "    \n",
    "    Args:\n",
    "    - m (int): The lower bound of the range (inclusive).\n",
    "    - n (int): The upper bound of the range (inclusive).\n",
    "    \n",
    "    Returns:\n",
    "    - int: Total number of set bits in the range [m, n].\n",
    "    \"\"\"\n",
    "    if m > n:\n",
    "        raise ValueError(\"Lower bound m must be less than or equal to upper bound n.\")\n",
    "    \n",
    "    if m == 0:\n",
    "        # If m is 0, count set bits from 0 to n\n",
    "        # Assuming 0 has 0 set bits\n",
    "        return countSetBits(n)\n",
    "    else:\n",
    "        # Sum of set bits from m to n = countSetBits(n) - countSetBits(m - 1)\n",
    "        return countSetBits(n) - countSetBits(m - 1)\n",
    "\n",
    "# Example Usage\n",
    "if __name__ == \"__main__\":\n",
    "    # Example 1\n",
    "    m1, n1 = 4, 7\n",
    "    result1 = sumSetBitsInRange(m1, n1)\n",
    "    print(f\"Total number of set bits from {m1} to {n1}: {result1}\")  # Output: 8\n",
    "\n",
    "    # Example 2\n",
    "    m2, n2 = 10, 15\n",
    "    result2 = sumSetBitsInRange(m2, n2)\n",
    "    print(f\"Total number of set bits from {m2} to {n2}: {result2}\")  # Output: 17\n",
    "\n",
    "    # Additional Example\n",
    "    m3, n3 = 1, 10\n",
    "    result3 = sumSetBitsInRange(m3, n3)\n",
    "    print(f\"Total number of set bits from {m3} to {n3}: {result3}\")  # Output: 17\n"
   ]
  },
  {
   "cell_type": "markdown",
   "metadata": {},
   "source": [
    "**Question 3:** Calculate the sum of two integers `a` & `b` but without the use of the operators + and - \n"
   ]
  },
  {
   "cell_type": "code",
   "execution_count": null,
   "metadata": {},
   "outputs": [],
   "source": []
  }
 ],
 "metadata": {
  "kernelspec": {
   "display_name": "DevOpsManager",
   "language": "python",
   "name": "python3"
  },
  "language_info": {
   "codemirror_mode": {
    "name": "ipython",
    "version": 3
   },
   "file_extension": ".py",
   "mimetype": "text/x-python",
   "name": "python",
   "nbconvert_exporter": "python",
   "pygments_lexer": "ipython3",
   "version": "3.12.4"
  }
 },
 "nbformat": 4,
 "nbformat_minor": 2
}

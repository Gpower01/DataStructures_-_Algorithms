{
 "cells": [
  {
   "cell_type": "markdown",
   "metadata": {},
   "source": [
    "### Leetcode DSA Challenge \n",
    "\n",
    "### Challenge 1:\n",
    "* Remove duplicate elements from Array"
   ]
  },
  {
   "cell_type": "code",
   "execution_count": 9,
   "metadata": {},
   "outputs": [
    {
     "name": "stdout",
     "output_type": "stream",
     "text": [
      "6 is a duplicate!\n",
      "2 is a duplicate!\n",
      "5 is a duplicate!\n"
     ]
    }
   ],
   "source": [
    "numbers = [2, 3, 5, 6, 9, 6, 10, 11, 2, 5]\n",
    "\n",
    "seen = set()\n",
    "\n",
    "for number in numbers:\n",
    "    if number in seen:\n",
    "        print(f\"{number} is a duplicate!\")\n",
    "    else:\n",
    "        seen.add(number)\n"
   ]
  },
  {
   "cell_type": "code",
   "execution_count": 18,
   "metadata": {},
   "outputs": [
    {
     "name": "stdout",
     "output_type": "stream",
     "text": [
      "2 is a duplicate!\n",
      "5 is a duplicate!\n",
      "6 is a duplicate!\n"
     ]
    }
   ],
   "source": [
    "for i in range(len(numbers)):\n",
    "    for j in range(i + 1, len(numbers)):\n",
    "        if numbers[i] == numbers[j]:\n",
    "            print(f'{numbers[i]} is a duplicate!')\n",
    "            break"
   ]
  },
  {
   "cell_type": "markdown",
   "metadata": {},
   "source": [
    "### Set Method\n",
    "* We can use `set` to remove duplicate numbers as set does not allow duplicate numbers."
   ]
  },
  {
   "cell_type": "code",
   "execution_count": 19,
   "metadata": {},
   "outputs": [
    {
     "name": "stdout",
     "output_type": "stream",
     "text": [
      "[2, 3, 5, 6, 9, 10, 11]\n"
     ]
    }
   ],
   "source": [
    "distinct_nums = set(numbers) \n",
    "print(list(distinct_nums))"
   ]
  },
  {
   "cell_type": "markdown",
   "metadata": {},
   "source": [
    "### Loop Method\n",
    "* However `set` does not maintain order. So if we want to maintain order we can use a loop function "
   ]
  },
  {
   "cell_type": "code",
   "execution_count": 25,
   "metadata": {},
   "outputs": [
    {
     "name": "stdout",
     "output_type": "stream",
     "text": [
      "[2, 3, 5, 6, 9, 10, 11]\n"
     ]
    }
   ],
   "source": [
    "numbers = [2, 3, 5, 6, 9, 6, 10, 11, 2, 5]\n",
    "unique_numbers = []\n",
    "seen = set()\n",
    "\n",
    "for number in numbers:\n",
    "    if number not in seen:\n",
    "        unique_numbers.append(number)\n",
    "        seen.add(number)\n",
    "\n",
    "print(unique_numbers)"
   ]
  },
  {
   "cell_type": "markdown",
   "metadata": {},
   "source": [
    "## LeetCode\n",
    "* Remove Duplicates from sorted Array. Given an array `nums` sorted in non-decreasing order, remove the duplicates in-place such that each unique element appears only once. The relative order of the elements should be kept the same, then return the numbers of unique elements in `nums`. To attempt the question, first consider the following:\n",
    "\n",
    "- **Intuition**\n",
    "- **Approach**\n",
    "- **Complexity**\n",
    "  - Time complexity\n",
    "  - Space complexity \n",
    "\n",
    "- **Code**\n",
    "\n"
   ]
  },
  {
   "cell_type": "code",
   "execution_count": 28,
   "metadata": {},
   "outputs": [],
   "source": [
    "class Solution:\n",
    "    def __init__(self, nums=None):\n",
    "        self.nums = nums\n",
    "    \n",
    "    def removeDuplicates(self):\n",
    "        \"\"\"\n",
    "        :type nums: List[int]\n",
    "        :rtype: int\n",
    "\n",
    "        :Time complexity: O(n)\n",
    "        :Space complexity: O(1)\n",
    "        \"\"\"\n",
    "\n",
    "        if self.nums is None:\n",
    "            return 0 \n",
    "        \n",
    "        #Initialize the index for the next unique element \n",
    "        write_index = 1\n",
    "\n",
    "        for i in range(1, len(self.nums)):\n",
    "            if self.nums[i] != self.nums[i - 1]:\n",
    "                self.nums[write_index] = self.nums[i]\n",
    "                write_index += 1\n",
    "\n",
    "        return write_index\n",
    "\n"
   ]
  },
  {
   "cell_type": "code",
   "execution_count": 31,
   "metadata": {},
   "outputs": [
    {
     "name": "stdout",
     "output_type": "stream",
     "text": [
      "2\n",
      "[1, 2]\n"
     ]
    }
   ],
   "source": [
    "nums = [1, 1, 2]\n",
    "Dup = Solution(nums)\n",
    "sol = Dup.removeDuplicates()\n",
    "print(sol)\n",
    "print(nums[:sol])\n"
   ]
  },
  {
   "cell_type": "code",
   "execution_count": 32,
   "metadata": {},
   "outputs": [],
   "source": [
    "class DuplicateSolution:\n",
    "    def removeDuplicates(self, nums):\n",
    "        \"\"\"\n",
    "        :type: List[int]\n",
    "        :rtype: [int]\n",
    "\n",
    "        :Time complexity: O(n)\n",
    "        :Space complexity: O(1)\n",
    "        \"\"\"\n",
    "        if not nums:\n",
    "            return 0\n",
    "        \n",
    "        #Initialize index for the next unique element in the list \n",
    "        write_index = 1\n",
    "\n",
    "        for i in range(1, len(nums)):\n",
    "            if nums[i] != nums[i - 1]:\n",
    "                nums[write_index] = nums[i]\n",
    "                write_index += 1\n",
    "                \n",
    "        return write_index\n"
   ]
  },
  {
   "cell_type": "code",
   "execution_count": 34,
   "metadata": {},
   "outputs": [
    {
     "name": "stdout",
     "output_type": "stream",
     "text": [
      "2\n",
      "[1, 2]\n"
     ]
    }
   ],
   "source": [
    "nums = [1,1,2]\n",
    "Dup = DuplicateSolution()\n",
    "sol = Dup.removeDuplicates(nums)\n",
    "print(sol)\n",
    "print(nums[:sol])"
   ]
  },
  {
   "cell_type": "markdown",
   "metadata": {},
   "source": [
    "## LeetCode: Remove Duplicates from Sorted Array II\n",
    "* Given an integer array `nums` sorted in **non decreasing** order, remove some duplicates in-place such that each unique element appears at most twice. The relative order of the elements should be kept the same. \n",
    "\n",
    "- Do not allocate extra space for the array. You must do this by modifying the input array in-place with O(1) extra memory. \n",
    "\n",
    "- **Intuition**\n",
    "- **Approach**\n",
    "- **Complexity**\n",
    "  - Time complexity\n",
    "  - Space complexity \n",
    "\n",
    "- **Code**\n"
   ]
  },
  {
   "cell_type": "code",
   "execution_count": null,
   "metadata": {},
   "outputs": [],
   "source": [
    "class DuplicateElements:\n",
    "    def removeDuplicates(self, nums):\n",
    "        pass"
   ]
  }
 ],
 "metadata": {
  "kernelspec": {
   "display_name": "test",
   "language": "python",
   "name": "test"
  },
  "language_info": {
   "codemirror_mode": {
    "name": "ipython",
    "version": 3
   },
   "file_extension": ".py",
   "mimetype": "text/x-python",
   "name": "python",
   "nbconvert_exporter": "python",
   "pygments_lexer": "ipython3",
   "version": "3.11.5"
  }
 },
 "nbformat": 4,
 "nbformat_minor": 2
}

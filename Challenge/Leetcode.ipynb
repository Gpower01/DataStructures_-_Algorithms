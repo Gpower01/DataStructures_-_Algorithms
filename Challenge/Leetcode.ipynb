{
 "cells": [
  {
   "cell_type": "markdown",
   "metadata": {},
   "source": [
    "### Leetcode DSA Challenge \n",
    "\n",
    "### Challenge 1:\n",
    "* Remove duplicate elements from Array"
   ]
  },
  {
   "cell_type": "code",
   "execution_count": 1,
   "metadata": {},
   "outputs": [
    {
     "name": "stdout",
     "output_type": "stream",
     "text": [
      "6 is a duplicate!\n",
      "2 is a duplicate!\n",
      "5 is a duplicate!\n"
     ]
    }
   ],
   "source": [
    "numbers = [2, 3, 5, 6, 9, 6, 10, 11, 2, 5]\n",
    "\n",
    "seen = set()\n",
    "\n",
    "for number in numbers:\n",
    "    if number in seen:\n",
    "        print(f\"{number} is a duplicate!\")\n",
    "    else:\n",
    "        seen.add(number)\n"
   ]
  },
  {
   "cell_type": "code",
   "execution_count": 2,
   "metadata": {},
   "outputs": [
    {
     "name": "stdout",
     "output_type": "stream",
     "text": [
      "2 is a duplicate!\n",
      "5 is a duplicate!\n",
      "6 is a duplicate!\n"
     ]
    }
   ],
   "source": [
    "for i in range(len(numbers)):\n",
    "    for j in range(i + 1, len(numbers)):\n",
    "        if numbers[i] == numbers[j]:\n",
    "            print(f'{numbers[i]} is a duplicate!')\n",
    "            break"
   ]
  },
  {
   "cell_type": "markdown",
   "metadata": {},
   "source": [
    "### Set Method\n",
    "* We can use `set` to remove duplicate numbers as set does not allow duplicate numbers."
   ]
  },
  {
   "cell_type": "code",
   "execution_count": 19,
   "metadata": {},
   "outputs": [
    {
     "name": "stdout",
     "output_type": "stream",
     "text": [
      "[2, 3, 5, 6, 9, 10, 11]\n"
     ]
    }
   ],
   "source": [
    "distinct_nums = set(numbers) \n",
    "print(list(distinct_nums))"
   ]
  },
  {
   "cell_type": "markdown",
   "metadata": {},
   "source": [
    "### Loop Method\n",
    "* However `set` does not maintain order. So if we want to maintain order we can use a loop function "
   ]
  },
  {
   "cell_type": "code",
   "execution_count": 4,
   "metadata": {},
   "outputs": [
    {
     "name": "stdout",
     "output_type": "stream",
     "text": [
      "[2, 3, 5, 6, 9, 10, 11]\n"
     ]
    }
   ],
   "source": [
    "numbers = [2, 3, 5, 6, 9, 6, 10, 11, 2, 5]\n",
    "unique_numbers = []\n",
    "seen = set()\n",
    "\n",
    "for number in numbers:\n",
    "    if number not in seen:\n",
    "        unique_numbers.append(number)\n",
    "        seen.add(number)\n",
    "\n",
    "print(unique_numbers)"
   ]
  },
  {
   "cell_type": "markdown",
   "metadata": {},
   "source": [
    "## LeetCode\n",
    "* Remove Duplicates from sorted Array. Given an array `nums` sorted in non-decreasing order, remove the duplicates in-place such that each unique element appears only once. The relative order of the elements should be kept the same, then return the numbers of unique elements in `nums`. To attempt the question, first consider the following:\n",
    "\n",
    "- **Intuition**\n",
    "- **Approach**\n",
    "- **Complexity**\n",
    "  - Time complexity\n",
    "  - Space complexity \n",
    "\n",
    "- **Code**\n",
    "\n"
   ]
  },
  {
   "cell_type": "code",
   "execution_count": 28,
   "metadata": {},
   "outputs": [],
   "source": [
    "class Solution:\n",
    "    def __init__(self, nums=None):\n",
    "        self.nums = nums\n",
    "    \n",
    "    def removeDuplicates(self):\n",
    "        \"\"\"\n",
    "        :type nums: List[int]\n",
    "        :rtype: int\n",
    "\n",
    "        :Time complexity: O(n)\n",
    "        :Space complexity: O(1)\n",
    "        \"\"\"\n",
    "\n",
    "        if self.nums is None:\n",
    "            return 0 \n",
    "        \n",
    "        #Initialize the index for the next unique element \n",
    "        write_index = 1\n",
    "\n",
    "        for i in range(1, len(self.nums)):\n",
    "            if self.nums[i] != self.nums[i - 1]:\n",
    "                self.nums[write_index] = self.nums[i]\n",
    "                write_index += 1\n",
    "\n",
    "        return write_index\n",
    "\n"
   ]
  },
  {
   "cell_type": "code",
   "execution_count": 31,
   "metadata": {},
   "outputs": [
    {
     "name": "stdout",
     "output_type": "stream",
     "text": [
      "2\n",
      "[1, 2]\n"
     ]
    }
   ],
   "source": [
    "nums = [1, 1, 2]\n",
    "Dup = Solution(nums)\n",
    "sol = Dup.removeDuplicates()\n",
    "print(sol)\n",
    "print(nums[:sol])\n"
   ]
  },
  {
   "cell_type": "code",
   "execution_count": 32,
   "metadata": {},
   "outputs": [],
   "source": [
    "class DuplicateSolution:\n",
    "    def removeDuplicates(self, nums):\n",
    "        \"\"\"\n",
    "        :type: List[int]\n",
    "        :rtype: [int]\n",
    "\n",
    "        :Time complexity: O(n)\n",
    "        :Space complexity: O(1)\n",
    "        \"\"\"\n",
    "        if not nums:\n",
    "            return 0\n",
    "        \n",
    "        #Initialize index for the next unique element in the list \n",
    "        write_index = 1\n",
    "\n",
    "        for i in range(1, len(nums)):\n",
    "            if nums[i] != nums[i - 1]:\n",
    "                nums[write_index] = nums[i]\n",
    "                write_index += 1\n",
    "                \n",
    "        return write_index\n"
   ]
  },
  {
   "cell_type": "code",
   "execution_count": 34,
   "metadata": {},
   "outputs": [
    {
     "name": "stdout",
     "output_type": "stream",
     "text": [
      "2\n",
      "[1, 2]\n"
     ]
    }
   ],
   "source": [
    "nums = [1,1,2]\n",
    "Dup = DuplicateSolution()\n",
    "sol = Dup.removeDuplicates(nums)\n",
    "print(sol)\n",
    "print(nums[:sol])"
   ]
  },
  {
   "cell_type": "markdown",
   "metadata": {},
   "source": [
    "## LeetCode: Remove Duplicates from Sorted Array II\n",
    "* Given an integer array `nums` sorted in **non decreasing** order, remove some duplicates in-place such that each unique element appears at most twice. The relative order of the elements should be kept the same. \n",
    "\n",
    "- Do not allocate extra space for the array. You must do this by modifying the input array in-place with O(1) extra memory. \n",
    "\n",
    "- **Intuition**\n",
    "- **Approach**\n",
    "- **Complexity**\n",
    "  - Time complexity\n",
    "  - Space complexity \n",
    "\n",
    "- **Code**\n"
   ]
  },
  {
   "cell_type": "code",
   "execution_count": 3,
   "metadata": {},
   "outputs": [
    {
     "name": "stdout",
     "output_type": "stream",
     "text": [
      "5\n",
      "[1, 1, 2, 2, 3]\n"
     ]
    }
   ],
   "source": [
    "class DuplicateElements:\n",
    "    def removeDuplicates(self, nums):\n",
    "        if len(nums) <= 2:\n",
    "            return len(nums)\n",
    "\n",
    "        insert_pos = 2  # start from the third position\n",
    "        for i in range(2, len(nums)):\n",
    "            if nums[i] != nums[insert_pos - 2]:\n",
    "                nums[insert_pos] = nums[i]\n",
    "                insert_pos += 1\n",
    "\n",
    "        return insert_pos\n",
    "\n",
    "#Test\n",
    "nums = [1, 1, 1, 2, 2, 3]\n",
    "new_length = DuplicateElements().removeDuplicates(nums)\n",
    "print(new_length)  # Output: 5\n",
    "print(nums[:new_length])  # Output: [1, 1, 2, 2, 3]"
   ]
  },
  {
   "cell_type": "markdown",
   "metadata": {},
   "source": [
    "### Two Sum\n",
    "* Given an array of integers `nums` and an integer `target`, return indices of the two numbers such that they add up to `target`. You may assume that each input would have **exactly one solution**, and you may not use the same element twice.\n",
    "\n",
    "- You can return the answer in any order."
   ]
  },
  {
   "cell_type": "code",
   "execution_count": 5,
   "metadata": {},
   "outputs": [
    {
     "name": "stdout",
     "output_type": "stream",
     "text": [
      "The summ of 7 and 2 is: 9\n"
     ]
    },
    {
     "data": {
      "text/plain": [
       "[[0, 1]]"
      ]
     },
     "execution_count": 5,
     "metadata": {},
     "output_type": "execute_result"
    }
   ],
   "source": [
    "class Solutions:\n",
    "    def twosum(self, nums: list[int], target: int) -> int:\n",
    "        num_to_index = {}\n",
    "\n",
    "        for index, num in enumerate(nums):\n",
    "            complement = target - num\n",
    "\n",
    "            if complement in num_to_index:\n",
    "                print(f'The summ of {num} and {complement} is: {num + complement}')\n",
    "                return [[num_to_index[complement], index]]\n",
    "            \n",
    "            num_to_index[num] = index\n",
    "        \n",
    "        return None \n",
    "    \n",
    "#Test \n",
    "nums = [2,7,11,15]\n",
    "target = 9\n",
    "test1 = Solutions().twosum(nums,target )\n",
    "test1"
   ]
  },
  {
   "cell_type": "markdown",
   "metadata": {},
   "source": [
    "### Group Anagrams\n",
    "- Given an array of strings `str`, group **the anagrams** together. You can return the answer in **any order**.\n",
    "\n",
    "An **Anagram** is a word or phrase formed by re-arranging the letters of a different word or phrase, typically using all the original letters exactly once. "
   ]
  },
  {
   "cell_type": "code",
   "execution_count": 6,
   "metadata": {},
   "outputs": [],
   "source": [
    "class Solution:\n",
    "    def groupedAnagram(self, strs: list[str]) -> list[list[str]]:\n",
    "        #create a dictionary to store each word seen \n",
    "        grouped_anagram = {}\n",
    "\n",
    "        #sort the characters in the word to create a signature \n",
    "        for word in strs:\n",
    "            signature = ''.join(sorted(word))\n",
    "\n",
    "            # check if signature in grouped_anagram\n",
    "            if signature in grouped_anagram:\n",
    "                grouped_anagram[signature].append(word)\n",
    "            else:\n",
    "                grouped_anagram[signature] = [word]\n",
    "        \n",
    "        #convert grouped anagram to list \n",
    "        grouped_anagram = list(grouped_anagram.values())\n",
    "\n",
    "        return grouped_anagram"
   ]
  },
  {
   "cell_type": "code",
   "execution_count": 5,
   "metadata": {},
   "outputs": [],
   "source": [
    "import time \n",
    "import heapq"
   ]
  },
  {
   "cell_type": "code",
   "execution_count": null,
   "metadata": {},
   "outputs": [],
   "source": [
    "#---------------------------------------------------Data Engineering Interview Practice Questions ---------------------------------------------------------------------"
   ]
  },
  {
   "cell_type": "markdown",
   "metadata": {},
   "source": [
    "## Bit Manipulations: Is a "
   ]
  },
  {
   "cell_type": "code",
   "execution_count": 6,
   "metadata": {},
   "outputs": [
    {
     "name": "stdout",
     "output_type": "stream",
     "text": [
      "1\n"
     ]
    }
   ],
   "source": [
    "a = 5  # 0101\n",
    "b = 3  # 0011\n",
    "result = a & b  # 0001 (1)\n",
    "print(result)  # Output: 1\n"
   ]
  },
  {
   "cell_type": "code",
   "execution_count": null,
   "metadata": {},
   "outputs": [],
   "source": []
  }
 ],
 "metadata": {
  "kernelspec": {
   "display_name": "DevOpsManager",
   "language": "python",
   "name": "python3"
  },
  "language_info": {
   "codemirror_mode": {
    "name": "ipython",
    "version": 3
   },
   "file_extension": ".py",
   "mimetype": "text/x-python",
   "name": "python",
   "nbconvert_exporter": "python",
   "pygments_lexer": "ipython3",
   "version": "3.12.4"
  }
 },
 "nbformat": 4,
 "nbformat_minor": 2
}

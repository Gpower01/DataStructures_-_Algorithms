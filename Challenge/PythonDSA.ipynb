{
 "cells": [
  {
   "cell_type": "markdown",
   "metadata": {},
   "source": [
    "### Python Data Structure (DSA) \n",
    "\n",
    "### Array:\n",
    "* Remove duplicate elements from Array"
   ]
  },
  {
   "cell_type": "code",
   "execution_count": 1,
   "metadata": {},
   "outputs": [
    {
     "name": "stdout",
     "output_type": "stream",
     "text": [
      "6 is a duplicate!\n",
      "2 is a duplicate!\n",
      "5 is a duplicate!\n"
     ]
    }
   ],
   "source": [
    "numbers = [2, 3, 5, 6, 9, 6, 10, 11, 2, 5]\n",
    "\n",
    "seen = set()\n",
    "\n",
    "for number in numbers:\n",
    "    if number in seen:\n",
    "        print(f\"{number} is a duplicate!\")\n",
    "    else:\n",
    "        seen.add(number)\n"
   ]
  },
  {
   "cell_type": "code",
   "execution_count": 2,
   "metadata": {},
   "outputs": [
    {
     "name": "stdout",
     "output_type": "stream",
     "text": [
      "2 is a duplicate!\n",
      "5 is a duplicate!\n",
      "6 is a duplicate!\n"
     ]
    }
   ],
   "source": [
    "for i in range(len(numbers)):\n",
    "    for j in range(i + 1, len(numbers)):\n",
    "        if numbers[i] == numbers[j]:\n",
    "            print(f'{numbers[i]} is a duplicate!')\n",
    "            break"
   ]
  },
  {
   "cell_type": "markdown",
   "metadata": {},
   "source": [
    "### Set Method\n",
    "* We can use `set` to remove duplicate numbers as set does not allow duplicate numbers."
   ]
  },
  {
   "cell_type": "code",
   "execution_count": 19,
   "metadata": {},
   "outputs": [
    {
     "name": "stdout",
     "output_type": "stream",
     "text": [
      "[2, 3, 5, 6, 9, 10, 11]\n"
     ]
    }
   ],
   "source": [
    "distinct_nums = set(numbers) \n",
    "print(list(distinct_nums))"
   ]
  },
  {
   "cell_type": "markdown",
   "metadata": {},
   "source": [
    "### Loop Method\n",
    "* However `set` does not maintain order. So if we want to maintain order we can use a loop function "
   ]
  },
  {
   "cell_type": "code",
   "execution_count": 4,
   "metadata": {},
   "outputs": [
    {
     "name": "stdout",
     "output_type": "stream",
     "text": [
      "[2, 3, 5, 6, 9, 10, 11]\n"
     ]
    }
   ],
   "source": [
    "numbers = [2, 3, 5, 6, 9, 6, 10, 11, 2, 5]\n",
    "unique_numbers = []\n",
    "seen = set()\n",
    "\n",
    "for number in numbers:\n",
    "    if number not in seen:\n",
    "        unique_numbers.append(number)\n",
    "        seen.add(number)\n",
    "\n",
    "print(unique_numbers)"
   ]
  },
  {
   "cell_type": "markdown",
   "metadata": {},
   "source": [
    "## Remove Duplicates Sorted Array \n",
    "* Remove Duplicates from sorted Array. Given an array `nums` sorted in non-decreasing order, remove the duplicates in-place such that each unique element appears only once. The relative order of the elements should be kept the same, then return the numbers of unique elements in `nums`. To attempt the question, first consider the following:\n",
    "\n",
    "- **Intuition**\n",
    "- **Approach**\n",
    "- **Complexity**\n",
    "  - Time complexity\n",
    "  - Space complexity \n",
    "\n",
    "- **Code**\n",
    "\n"
   ]
  },
  {
   "cell_type": "code",
   "execution_count": 28,
   "metadata": {},
   "outputs": [],
   "source": [
    "class Solution:\n",
    "    def __init__(self, nums=None):\n",
    "        self.nums = nums\n",
    "    \n",
    "    def removeDuplicates(self):\n",
    "        \"\"\"\n",
    "        :type nums: List[int]\n",
    "        :rtype: int\n",
    "\n",
    "        :Time complexity: O(n)\n",
    "        :Space complexity: O(1)\n",
    "        \"\"\"\n",
    "\n",
    "        if self.nums is None:\n",
    "            return 0 \n",
    "        \n",
    "        #Initialize the index for the next unique element \n",
    "        write_index = 1\n",
    "\n",
    "        for i in range(1, len(self.nums)):\n",
    "            if self.nums[i] != self.nums[i - 1]:\n",
    "                self.nums[write_index] = self.nums[i]\n",
    "                write_index += 1\n",
    "\n",
    "        return write_index\n",
    "\n"
   ]
  },
  {
   "cell_type": "code",
   "execution_count": 31,
   "metadata": {},
   "outputs": [
    {
     "name": "stdout",
     "output_type": "stream",
     "text": [
      "2\n",
      "[1, 2]\n"
     ]
    }
   ],
   "source": [
    "nums = [1, 1, 2]\n",
    "Dup = Solution(nums)\n",
    "sol = Dup.removeDuplicates()\n",
    "print(sol)\n",
    "print(nums[:sol])\n"
   ]
  },
  {
   "cell_type": "code",
   "execution_count": 32,
   "metadata": {},
   "outputs": [],
   "source": [
    "class DuplicateSolution:\n",
    "    def removeDuplicates(self, nums):\n",
    "        \"\"\"\n",
    "        :type: List[int]\n",
    "        :rtype: [int]\n",
    "\n",
    "        :Time complexity: O(n)\n",
    "        :Space complexity: O(1)\n",
    "        \"\"\"\n",
    "        if not nums:\n",
    "            return 0\n",
    "        \n",
    "        #Initialize index for the next unique element in the list \n",
    "        write_index = 1\n",
    "\n",
    "        for i in range(1, len(nums)):\n",
    "            if nums[i] != nums[i - 1]:\n",
    "                nums[write_index] = nums[i]\n",
    "                write_index += 1\n",
    "                \n",
    "        return write_index\n"
   ]
  },
  {
   "cell_type": "code",
   "execution_count": 34,
   "metadata": {},
   "outputs": [
    {
     "name": "stdout",
     "output_type": "stream",
     "text": [
      "2\n",
      "[1, 2]\n"
     ]
    }
   ],
   "source": [
    "nums = [1,1,2]\n",
    "Dup = DuplicateSolution()\n",
    "sol = Dup.removeDuplicates(nums)\n",
    "print(sol)\n",
    "print(nums[:sol])"
   ]
  },
  {
   "cell_type": "markdown",
   "metadata": {},
   "source": [
    "## Remove Duplicates from Sorted Array II - Mrthod 2\n",
    "* Given an integer array `nums` sorted in **non decreasing** order, remove some duplicates in-place such that each unique element appears at most twice. The relative order of the elements should be kept the same. \n",
    "\n",
    "- Do not allocate extra space for the array. You must do this by modifying the input array in-place with O(1) extra memory. \n",
    "\n",
    "- **Intuition**\n",
    "- **Approach**\n",
    "- **Complexity**\n",
    "  - Time complexity\n",
    "  - Space complexity \n",
    "\n",
    "- **Code**\n"
   ]
  },
  {
   "cell_type": "code",
   "execution_count": 3,
   "metadata": {},
   "outputs": [
    {
     "name": "stdout",
     "output_type": "stream",
     "text": [
      "5\n",
      "[1, 1, 2, 2, 3]\n"
     ]
    }
   ],
   "source": [
    "class DuplicateElements:\n",
    "    def removeDuplicates(self, nums):\n",
    "        if len(nums) <= 2:\n",
    "            return len(nums)\n",
    "\n",
    "        insert_pos = 2  # start from the third position\n",
    "        for i in range(2, len(nums)):\n",
    "            if nums[i] != nums[insert_pos - 2]:\n",
    "                nums[insert_pos] = nums[i]\n",
    "                insert_pos += 1\n",
    "\n",
    "        return insert_pos\n",
    "\n",
    "#Test\n",
    "nums = [1, 1, 1, 2, 2, 3]\n",
    "new_length = DuplicateElements().removeDuplicates(nums)\n",
    "print(new_length)  # Output: 5\n",
    "print(nums[:new_length])  # Output: [1, 1, 2, 2, 3]"
   ]
  },
  {
   "cell_type": "markdown",
   "metadata": {},
   "source": [
    "### Two Sum\n",
    "* Given an array of integers `nums` and an integer `target`, return indices of the two numbers such that they add up to `target`. You may assume that each input would have **exactly one solution**, and you may not use the same element twice.\n",
    "\n",
    "- You can return the answer in any order."
   ]
  },
  {
   "cell_type": "code",
   "execution_count": 5,
   "metadata": {},
   "outputs": [
    {
     "name": "stdout",
     "output_type": "stream",
     "text": [
      "The summ of 7 and 2 is: 9\n"
     ]
    },
    {
     "data": {
      "text/plain": [
       "[[0, 1]]"
      ]
     },
     "execution_count": 5,
     "metadata": {},
     "output_type": "execute_result"
    }
   ],
   "source": [
    "class Solutions:\n",
    "    def twosum(self, nums: list[int], target: int) -> int:\n",
    "        num_to_index = {}\n",
    "\n",
    "        for index, num in enumerate(nums):\n",
    "            complement = target - num\n",
    "\n",
    "            if complement in num_to_index:\n",
    "                print(f'The summ of {num} and {complement} is: {num + complement}')\n",
    "                return [[num_to_index[complement], index]]\n",
    "            \n",
    "            num_to_index[num] = index\n",
    "        \n",
    "        return None \n",
    "    \n",
    "#Test \n",
    "nums = [2,7,11,15]\n",
    "target = 9\n",
    "test1 = Solutions().twosum(nums,target )\n",
    "test1"
   ]
  },
  {
   "cell_type": "markdown",
   "metadata": {},
   "source": [
    "### Group Anagrams\n",
    "- Given an array of strings `str`, group **the anagrams** together. You can return the answer in **any order**.\n",
    "\n",
    "An **Anagram** is a word or phrase formed by re-arranging the letters of a different word or phrase, typically using all the original letters exactly once. "
   ]
  },
  {
   "cell_type": "code",
   "execution_count": 6,
   "metadata": {},
   "outputs": [],
   "source": [
    "class Solution:\n",
    "    def groupedAnagram(self, strs: list[str]) -> list[list[str]]:\n",
    "        #create a dictionary to store each word seen \n",
    "        grouped_anagram = {}\n",
    "\n",
    "        #sort the characters in the word to create a signature \n",
    "        for word in strs:\n",
    "            signature = ''.join(sorted(word))\n",
    "\n",
    "            # check if signature in grouped_anagram\n",
    "            if signature in grouped_anagram:\n",
    "                grouped_anagram[signature].append(word)\n",
    "            else:\n",
    "                grouped_anagram[signature] = [word]\n",
    "        \n",
    "        #convert grouped anagram to list \n",
    "        grouped_anagram = list(grouped_anagram.values())\n",
    "\n",
    "        return grouped_anagram"
   ]
  },
  {
   "cell_type": "code",
   "execution_count": 67,
   "metadata": {},
   "outputs": [
    {
     "name": "stdout",
     "output_type": "stream",
     "text": [
      "[['row', 'wor'], ['a'], ['test', 'ttes', 'tset']]\n"
     ]
    }
   ],
   "source": [
    "#Q: Method 2\n",
    "def group_anagram(word_list):\n",
    "    from collections import defaultdict\n",
    "\n",
    "    anagram = defaultdict(list)\n",
    "\n",
    "    for word in word_list:\n",
    "        anagram_group = ''.join(sorted(word))\n",
    "\n",
    "        anagram[anagram_group].append(word)\n",
    "\n",
    "    anagram = list(anagram.values())\n",
    "\n",
    "    return anagram\n",
    "\n",
    "if __name__ == '__main__':\n",
    "    word_list = [\"row\", \"a\", \"wor\", \"test\", \"ttes\", \"tset\"]\n",
    "    groupAnag = group_anagram(word_list)\n",
    "    print(groupAnag)"
   ]
  },
  {
   "cell_type": "code",
   "execution_count": 5,
   "metadata": {},
   "outputs": [],
   "source": [
    "import time \n",
    "import heapq"
   ]
  },
  {
   "cell_type": "code",
   "execution_count": null,
   "metadata": {},
   "outputs": [],
   "source": [
    "#---------------------------------------------------Data Engineering Interview Practice Questions ---------------------------------------------------------------------"
   ]
  },
  {
   "cell_type": "markdown",
   "metadata": {},
   "source": [
    "**Bit Manipulations**: is a fundamental technique in computer science and programming that involves performing operations directly on the binary representations of integers. By manipulating individual bits (0s and 1s), you can perform efficient computations, optimize memory usage, and solve complex problems that are otherwise challenging with standard arithmetic operations.\n",
    "\n",
    "- **Bit**: The smallest unit of data in computing, representing a binary value of 0 or 1.\n",
    "\n",
    "**Common Bit Manipulation Operation**\n",
    "\n",
    "- **AND (&)**: The result bit is `1` only if both corresponding bits are `1`"
   ]
  },
  {
   "cell_type": "code",
   "execution_count": 6,
   "metadata": {},
   "outputs": [
    {
     "name": "stdout",
     "output_type": "stream",
     "text": [
      "1\n"
     ]
    }
   ],
   "source": [
    "a = 5  # 0101\n",
    "b = 3  # 0011\n",
    "result = a & b  # 0001 (1)\n",
    "print(result)  # Output: 1\n"
   ]
  },
  {
   "cell_type": "markdown",
   "metadata": {},
   "source": [
    "**OR (|):** The result bits is `1` if at least one corresponding bit is `1`"
   ]
  },
  {
   "cell_type": "code",
   "execution_count": 15,
   "metadata": {},
   "outputs": [
    {
     "name": "stdout",
     "output_type": "stream",
     "text": [
      "7\n"
     ]
    }
   ],
   "source": [
    "a = 5  # 0101\n",
    "b = 3  # 0011\n",
    "result = a | b  # 0111 (7)\n",
    "print(result)  # Output: 7"
   ]
  },
  {
   "cell_type": "markdown",
   "metadata": {},
   "source": [
    "**XOR (^):** The result bit is `1` if the corresponding bits are different"
   ]
  },
  {
   "cell_type": "code",
   "execution_count": 16,
   "metadata": {},
   "outputs": [
    {
     "name": "stdout",
     "output_type": "stream",
     "text": [
      "6\n"
     ]
    }
   ],
   "source": [
    "a = 5  # 0101\n",
    "b = 3  # 0011\n",
    "result = a ^ b  # 0110 (6)\n",
    "print(result)  # Output: 1"
   ]
  },
  {
   "cell_type": "markdown",
   "metadata": {},
   "source": [
    "**NOT (~):** It converts each bit, turning `0s` to `1s` and vice versa. In Python also affects the sign of the number due to complement representation"
   ]
  },
  {
   "cell_type": "code",
   "execution_count": 17,
   "metadata": {},
   "outputs": [
    {
     "name": "stdout",
     "output_type": "stream",
     "text": [
      "-6\n"
     ]
    }
   ],
   "source": [
    "a = 5  # 0101\n",
    "\n",
    "result = ~a   # ...1010 (-6 in two's complement)\n",
    "print(result)  # Output: -6"
   ]
  },
  {
   "cell_type": "markdown",
   "metadata": {},
   "source": [
    "**Left Shift (<<):** Shifts bits to the left by a specified number of positions. Each left shift multiplies the number by 2"
   ]
  },
  {
   "cell_type": "code",
   "execution_count": 18,
   "metadata": {},
   "outputs": [
    {
     "name": "stdout",
     "output_type": "stream",
     "text": [
      "10\n"
     ]
    }
   ],
   "source": [
    "a = 5  # 0101\n",
    "result = a << 1  # 1010 (10)\n",
    "print(result)  # Output: 10"
   ]
  },
  {
   "cell_type": "markdown",
   "metadata": {},
   "source": [
    "**Right Shift (>>):** Shifts bits to the right by a specificied number of positions. Each right shift divides the number by 2"
   ]
  },
  {
   "cell_type": "code",
   "execution_count": 19,
   "metadata": {},
   "outputs": [
    {
     "name": "stdout",
     "output_type": "stream",
     "text": [
      "2\n"
     ]
    }
   ],
   "source": [
    "a = 5  # 0101\n",
    "result = a >> 1  # 0010 (2)\n",
    "print(result)  # Output: 2\n"
   ]
  },
  {
   "cell_type": "markdown",
   "metadata": {},
   "source": [
    "### Bit Manipulation"
   ]
  },
  {
   "cell_type": "code",
   "execution_count": 21,
   "metadata": {},
   "outputs": [
    {
     "name": "stdout",
     "output_type": "stream",
     "text": [
      "True\n",
      "False\n"
     ]
    }
   ],
   "source": [
    "#1: check if a number is even or Odd\n",
    "\n",
    "def is_even(n):\n",
    "    return (n & 1) == 0 \n",
    "\n",
    "n = 4\n",
    "print(is_even(n)) # True \n",
    "print(is_even(n=7)) # False "
   ]
  },
  {
   "cell_type": "code",
   "execution_count": 22,
   "metadata": {},
   "outputs": [
    {
     "name": "stdout",
     "output_type": "stream",
     "text": [
      "(3, 4)\n"
     ]
    }
   ],
   "source": [
    "#2: Swaping Two Numbers without a Temporary variable\n",
    "def swap(a, b):\n",
    "    a = a ^ b\n",
    "    b = a ^ b \n",
    "    a = a ^ b \n",
    "    return a, b\n",
    "\n",
    "a = 4\n",
    "b =  3\n",
    "result = swap(a, b)\n",
    "print(result)"
   ]
  },
  {
   "cell_type": "markdown",
   "metadata": {},
   "source": [
    "**Brian Kernighan's Algorithm**"
   ]
  },
  {
   "cell_type": "code",
   "execution_count": 24,
   "metadata": {},
   "outputs": [
    {
     "name": "stdout",
     "output_type": "stream",
     "text": [
      "3\n"
     ]
    }
   ],
   "source": [
    "#3: Counting Set Bits: Counting the number of `1s` in the binary representation of a number\n",
    "def count_set_bits(n):\n",
    "    count =  0\n",
    "    while n:\n",
    "        n &= (n - 1)\n",
    "        count += 1\n",
    "    return count\n",
    "    \n",
    "print(count_set_bits(7))"
   ]
  },
  {
   "cell_type": "code",
   "execution_count": 27,
   "metadata": {},
   "outputs": [
    {
     "name": "stdout",
     "output_type": "stream",
     "text": [
      "4\n"
     ]
    }
   ],
   "source": [
    "#Q4: Lookup Table: \n",
    "def count_set_bits_lookup(n):\n",
    "    lookup = [0, 1, 1, 2, 1, 2, 2, 3, 1, 2, 2, 3, 2, 3, 3, 4]\n",
    "\n",
    "    count = 0\n",
    "    while n:\n",
    "        count += lookup[n & 0b1111]\n",
    "        n >>= 4\n",
    "    return count \n",
    "\n",
    "print(count_set_bits_lookup(15))  # Output: 4"
   ]
  },
  {
   "cell_type": "code",
   "execution_count": 28,
   "metadata": {},
   "outputs": [
    {
     "name": "stdout",
     "output_type": "stream",
     "text": [
      "True\n",
      "False\n"
     ]
    }
   ],
   "source": [
    "#5: Checking if a Number is a Power Two: A number is a power of two if it has exactly one set bit\n",
    "def is_power_of_two(n):\n",
    "    return n > 0 and (n & (n - 1)) == 0\n",
    "\n",
    "print(is_power_of_two(16))  # Output: True\n",
    "print(is_power_of_two(18))  # Output: False\n"
   ]
  },
  {
   "cell_type": "code",
   "execution_count": 30,
   "metadata": {},
   "outputs": [
    {
     "name": "stdout",
     "output_type": "stream",
     "text": [
      "3\n"
     ]
    }
   ],
   "source": [
    "#6: Finding the Only Non-Repeating Element: In an  array where every element appears twice except one, find the unique element using XOR\n",
    "def find_unique(arr):\n",
    "    unique = 0 \n",
    "    for num in arr:\n",
    "        unique ^= num\n",
    "    return unique\n",
    "\n",
    "print(find_unique([2, 3, 2, 4, 4]))"
   ]
  },
  {
   "cell_type": "code",
   "execution_count": 31,
   "metadata": {},
   "outputs": [
    {
     "name": "stdout",
     "output_type": "stream",
     "text": [
      "0\n",
      "14\n",
      "14\n",
      "-11\n",
      "20\n",
      "5\n"
     ]
    }
   ],
   "source": [
    "#Q7: Complete Bit Manipulation in Python \n",
    "a = 10        # 1010\n",
    "b = 4         # 0100\n",
    "\n",
    "print(a & b)  # Output: 0 (0000)\n",
    "print(a | b)  # Output: 14 (1110)\n",
    "print(a ^ b)  # Output: 14 (1110)\n",
    "print(~a)     # Output: -11 (two's complement)\n",
    "print(a << 1) # Output: 20 (10100)\n",
    "print(a >> 1) # Output: 5  (0101)\n"
   ]
  },
  {
   "cell_type": "code",
   "execution_count": 32,
   "metadata": {},
   "outputs": [
    {
     "name": "stdout",
     "output_type": "stream",
     "text": [
      "7\n"
     ]
    }
   ],
   "source": [
    "#Q8: Toggle the K-th Bit of a Number \n",
    "def toggle_bit(n, k):\n",
    "    return n ^ (1 << k)\n",
    "\n",
    "# Toggle the 1st bit of 5 (0101 -> 0101 ^ 0010 = 0111)\n",
    "print(toggle_bit(5, 1))  # Output: 7\n"
   ]
  },
  {
   "cell_type": "code",
   "execution_count": 33,
   "metadata": {},
   "outputs": [
    {
     "name": "stdout",
     "output_type": "stream",
     "text": [
      "5\n"
     ]
    }
   ],
   "source": [
    "#Q9: Set the k-th Bit of a Number \n",
    "def set_bit(n, k):\n",
    "    return n | (1 << k)\n",
    "\n",
    "# Set the 2nd bit of 5 (0101 | 0100 = 0101)\n",
    "print(set_bit(5, 2))  # Output: 5\n"
   ]
  },
  {
   "cell_type": "code",
   "execution_count": 34,
   "metadata": {},
   "outputs": [
    {
     "name": "stdout",
     "output_type": "stream",
     "text": [
      "4\n"
     ]
    }
   ],
   "source": [
    "#Q10: Clear the k-th Bit of a Number \n",
    "def clear_bit(n, k):\n",
    "    return n & ~(1 << k)\n",
    "\n",
    "# Clear the 0th bit of 5 (0101 & 1110 = 0100)\n",
    "print(clear_bit(5, 0))  # Output: 4\n"
   ]
  },
  {
   "cell_type": "code",
   "execution_count": 35,
   "metadata": {},
   "outputs": [
    {
     "name": "stdout",
     "output_type": "stream",
     "text": [
      "True\n"
     ]
    }
   ],
   "source": [
    "#Q11: Check if the k-th Bit is Set \n",
    "def is_bit_set(n, k):\n",
    "    return (n & (1 << k)) != 0\n",
    "\n",
    "# Check if the 2nd bit of 5 is set (0101 & 0100 = 0100 != 0)\n",
    "print(is_bit_set(5, 2))  # Output: True\n"
   ]
  },
  {
   "cell_type": "markdown",
   "metadata": {},
   "source": [
    "### Count Total Set Bits from 1 to n\n",
    "- Using efficient method discussed earlier  "
   ]
  },
  {
   "cell_type": "code",
   "execution_count": 37,
   "metadata": {},
   "outputs": [
    {
     "name": "stdout",
     "output_type": "stream",
     "text": [
      "12\n"
     ]
    }
   ],
   "source": [
    "def countSetBits(n):\n",
    "    count = 0\n",
    "    i = 0\n",
    "\n",
    "    while (1 << i) <= n:\n",
    "        total_pairs = (n + 1) // (1 << (i + 1))\n",
    "        count += total_pairs * (1 << i)\n",
    "        remainder = (n + 1) % (1 << (i + 1))\n",
    "        count += max(0, remainder - (1 << i))\n",
    "        i += 1\n",
    "    return count \n",
    "\n",
    "print(countSetBits(7)) #output 12"
   ]
  },
  {
   "cell_type": "markdown",
   "metadata": {},
   "source": [
    "#### Convert Decimal to Binary "
   ]
  },
  {
   "cell_type": "code",
   "execution_count": 38,
   "metadata": {},
   "outputs": [
    {
     "name": "stdout",
     "output_type": "stream",
     "text": [
      "45 in binary is 101101\n"
     ]
    }
   ],
   "source": [
    "#Method: Using built-in function \n",
    "def decimal_to_binary_builtin(n):\n",
    "    return bin(n)[2:] #[2:] to remove th'0b' prefix \n",
    "\n",
    "#Example \n",
    "number = 45 \n",
    "binary_representation = decimal_to_binary_builtin(45)\n",
    "print(f\"{number} in binary is {binary_representation}\")"
   ]
  },
  {
   "cell_type": "code",
   "execution_count": 43,
   "metadata": {},
   "outputs": [
    {
     "name": "stdout",
     "output_type": "stream",
     "text": [
      "45 in binary is 101101\n"
     ]
    }
   ],
   "source": [
    "#Method 2: Manual Conversion\n",
    "def decimal_to_binary_manual(n):\n",
    "    if n == 0:\n",
    "        return \"0\"\n",
    "    \n",
    "    binary_digit = []\n",
    "    while n > 0:\n",
    "        remainder = n % 2\n",
    "        binary_digit.append(str(remainder))\n",
    "        n= n // 2\n",
    "    \n",
    "    # Collect the binary digits in reverse order \n",
    "    binary_digit.reverse()\n",
    "    return ''.join(binary_digit)\n",
    "\n",
    "\n",
    "#Example \n",
    "number = 45 \n",
    "binary_representation = decimal_to_binary_manual(number)\n",
    "print(f\"{number} in binary is {binary_representation}\")"
   ]
  },
  {
   "cell_type": "code",
   "execution_count": 44,
   "metadata": {},
   "outputs": [
    {
     "name": "stdout",
     "output_type": "stream",
     "text": [
      "45 in binary (8 bits) is 00101101\n"
     ]
    }
   ],
   "source": [
    "#Format binary number \n",
    "def decimal_to_binary_formatted(n, bits=8):\n",
    "    binary_str = decimal_to_binary_manual(n)\n",
    "    return binary_str.zfill(bits) # Pads with zero to the left to make the string 'bits' long \n",
    "\n",
    "#Example \n",
    "number = 45 \n",
    "formatted_binary = decimal_to_binary_formatted(number, bits=8)\n",
    "print(f\"{number} in binary (8 bits) is {formatted_binary}\")\n"
   ]
  },
  {
   "cell_type": "markdown",
   "metadata": {},
   "source": [
    "## Bit Manipulations Problems\n",
    "\n",
    "**Question 1:** Find the sum of number of set bits in all the number in the range [1, n]"
   ]
  },
  {
   "cell_type": "code",
   "execution_count": 8,
   "metadata": {},
   "outputs": [],
   "source": [
    "# Method 1: countBits\n",
    "class Solution(object):\n",
    "    \"\"\"\n",
    "    Time complexity: O(n)\n",
    "    Space complexity: O(n)\n",
    "    \"\"\"\n",
    "    def bit_manipulations(self, n):\n",
    "        res = [0] * (n + 1)\n",
    "        for i in range(1, n + 1):\n",
    "            res[i] = res[i // 2] + (i & 1)\n",
    "\n",
    "        return sum(res)\n"
   ]
  },
  {
   "cell_type": "code",
   "execution_count": null,
   "metadata": {},
   "outputs": [],
   "source": [
    "#Method 2: Optimzed to eliminate the needs for the array and computes the sum directly \n",
    "def countBits(n):\n",
    "    total = 0\n",
    "    for i in range(1, n + 1):\n",
    "        # Count bits using the same logic without storing results\n",
    "        total += (i & 1) + (i >> 1 & 1) + (i >> 2 & 1) + (i >> 3 & 1) + (i >> 3)+_sumvaluejsonflexSteps"
   ]
  },
  {
   "cell_type": "code",
   "execution_count": null,
   "metadata": {},
   "outputs": [],
   "source": [
    "#Method 3: Optimizaing Space Complexity to O(1) while maintaining Time complexity to O(n)\n",
    "#Instead of storing the number of set bits for each number in a list, we can compute the count on the fly and maintain a running total\n",
    "def countBitsOptimizedSpace(n):\n",
    "    total = 0\n",
    "    for i  in range(1, n + 1):\n",
    "        num = i \n",
    "        while num:\n",
    "            total += num & 1\n",
    "            num >> 1\n",
    "            \n",
    "    return total "
   ]
  },
  {
   "cell_type": "code",
   "execution_count": null,
   "metadata": {},
   "outputs": [],
   "source": [
    "#Method 4: Optimized both Time and Space \n",
    "class Solutions(object):\n",
    "    def BitsetCounts(self, n):\n",
    "        \"\"\" \n",
    "        Time Complexity: O(nlogn)\n",
    "        Space Complexity: O(1)\n",
    "        \"\"\"\n",
    "        #Initial variable to count results\n",
    "        count = 0 \n",
    "\n",
    "        #Set bit poistion\n",
    "        i = 0 \n",
    "\n",
    "        while (1 << i) <= n:\n",
    "            #create pairs of 0s and 1s for the bit positions \n",
    "            total_pairs = (n + 1) // (1 << (i + 1))\n",
    "\n",
    "            #Each pair contribute (1 << i) set bit\n",
    "            count += total_pairs * (1 << i)\n",
    "\n",
    "            # Remainder bits after the last complete pair \n",
    "            remainder = (n + 1) % (1 << (i + 1))\n",
    "\n",
    "            #add the set bits from the remainder \n",
    "            count += max(0, remainder - (1 << i))\n",
    "\n",
    "            i += 1\n",
    "\n",
    "        return count "
   ]
  },
  {
   "cell_type": "markdown",
   "metadata": {},
   "source": [
    "**Question 2:** Find the sum of number of set bits in all the numbers in the range [m, n]. \n",
    "\n",
    "- To calculate the **sum of the number of set bits (1s in the binary representation) for all numbers in a given range [m, n], you can leverage algorithms that minimize both time and space complexity.  This problem extends question 1 - above  "
   ]
  },
  {
   "cell_type": "code",
   "execution_count": 46,
   "metadata": {},
   "outputs": [
    {
     "name": "stdout",
     "output_type": "stream",
     "text": [
      "Total number of set bits from 4 to 7: 8\n",
      "Total number of set bits from 10 to 15: 17\n",
      "Total number of set bits from 1 to 10: 17\n"
     ]
    }
   ],
   "source": [
    "def countSetBits(n):\n",
    "    \"\"\"\n",
    "    Counts the total number of set bits (1s) in all number from 1 to n.\n",
    "\n",
    "    Args:\n",
    "    - n(int): The upper bound of the range (inclusive) \n",
    "\n",
    "    Returns:\n",
    "    - int: Total number of set bits from 1 to n.\n",
    "    \"\"\"\n",
    "    count = 0\n",
    "\n",
    "    i = 0\n",
    "\n",
    "    while (1 << i) <= n:\n",
    "        #Total pairs of 0s and 1s for the current bit position \n",
    "        total_pairs = (n + 1) // (1 << (i + 1))\n",
    "\n",
    "        # Each pair contributes (1 << i) set bits\n",
    "        count += total_pairs * (1 << i) \n",
    "\n",
    "        #Remainder bits after the last complete pair \n",
    "        remainder = (n + 1) % (1 << (i + 1))\n",
    "\n",
    "        # Add the set bits from the remainder \n",
    "        count += max(0, remainder - (1 << i))\n",
    "\n",
    "        i += 1\n",
    "\n",
    "    return count \n",
    "\n",
    "def sumSetBitsInRange(m, n):\n",
    "    \"\"\" \n",
    "    Calculates the sum of set bits in all numbers within the range [m, n]\n",
    "\n",
    "    Args:\n",
    "    - m (int): The lower bound of the range (inclusive)\n",
    "    - n (int): The upper bound of the range (inclusive) \n",
    "\n",
    "    Returns:\n",
    "    - int: Total number of set bits in the range [m, n]\n",
    "    \"\"\"\n",
    "    if m > n:\n",
    "        raise ValueError(\"Lower bound m must be less than or equal to upper bound n.\")\n",
    "    \n",
    "    if m == 0:\n",
    "        #if m is 0 , count set bits from 0 to n\n",
    "        #Assuming 0 has 0 set bits\n",
    "        return countSetBits(n)\n",
    "    else:\n",
    "        #Sum of set bits from m to n = countSetBits(n) - countSetBits(m - 1)\n",
    "        return countSetBits(n) - countSetBits(m - 1)\n",
    "    \n",
    "#Test function example\n",
    "if __name__ == \"__main__\":\n",
    "    #Example 1\n",
    "    m1, n1 = 4, 7\n",
    "    result1 = sumSetBitsInRange(m1, n1)\n",
    "    print(f\"Total number of set bits from {m1} to {n1}: {result1}\") # 8\n",
    "\n",
    "    #Example 2\n",
    "    m2, n2 = 10, 15\n",
    "    result2 = sumSetBitsInRange(m2, n2)\n",
    "    print(f\"Total number of set bits from {m2} to {n2}: {result2}\")\n",
    "\n",
    "    #Example 3\n",
    "    m3, n3 = 1, 10\n",
    "    result3 = sumSetBitsInRange(m3, n3)\n",
    "    print(f\"Total number of set bits from {m3} to {n3}: {result3}\")"
   ]
  },
  {
   "cell_type": "markdown",
   "metadata": {},
   "source": [
    "**Question 3:** Calculate the sum of two integers `a` & `b` but without the use of the operators + and - \n"
   ]
  },
  {
   "cell_type": "code",
   "execution_count": 50,
   "metadata": {},
   "outputs": [
    {
     "name": "stdout",
     "output_type": "stream",
     "text": [
      "8\n"
     ]
    }
   ],
   "source": [
    "#Method 1: We can use the bitwise operations. The idea is to use XOR (^) for addition without carying and AND (&) followed by a left shift (<<) to handle the carry\n",
    "#Below cannot handle negative and simulate fixed-width integer\n",
    "def add_without_plus_minus(a, b):\n",
    "    \"\"\" \n",
    "    In the worst case:\n",
    "    Time Complexity: The number of bits in an integer is O(log (max(ab, b)))\n",
    "    Space Complexity: The algorithm used constant amount of space regardless of input size, so the space complexity is: O(1)\n",
    "    \"\"\"\n",
    "    while b != 0:\n",
    "        # calculate the carry\n",
    "        carry = a & b\n",
    "\n",
    "        #Sum without carry \n",
    "        a = a ^ b\n",
    "\n",
    "        #Shift carry by one to add it to the correct position \n",
    "        b = carry << 1\n",
    "    \n",
    "    return a\n",
    "\n",
    "# Example \n",
    "a = 3\n",
    "b = 5 \n",
    "bitwise_add = add_without_plus_minus(a, b)\n",
    "print(bitwise_add)"
   ]
  },
  {
   "cell_type": "code",
   "execution_count": 53,
   "metadata": {},
   "outputs": [
    {
     "name": "stdout",
     "output_type": "stream",
     "text": [
      "4\n"
     ]
    }
   ],
   "source": [
    "#Method 2: Optimzed to handle negative numbers and simulate fixed-wideth integers - ensures that all operations are confined to 32 bits\n",
    "# After the loop, checks if the results exceeds the positive range of 32-bit integers and converts it to a negative number using two's complement \n",
    "def add_without_plus_minus_optimized(a, b):\n",
    "    \"\"\" \n",
    "    In the worst case:\n",
    "    Time Complexity: The number of bits in an integer is O(log (max(ab, b)))\n",
    "    Space Complexity: The algorithm used constant amount of space regardless of input size, so the space complexity is: O(1)\n",
    "    \"\"\"\n",
    "    mask = 0xffffffff\n",
    "    while b != 0:\n",
    "        #calculate the carry\n",
    "        carry = (a & b) & mask \n",
    "\n",
    "        #Sum without cary \n",
    "        a = (a ^ b) & mask \n",
    "\n",
    "        #Shift carry by one to add it to the correct position \n",
    "        b = (carry << 1) & mask \n",
    "    \n",
    "    #If a is negative in 32-bit, convert to Python's negative integer \n",
    "    return a if a <= 0x7fffffff else ~(a ^ mask) \n",
    "\n",
    "# Example \n",
    "a = -1\n",
    "b =  5\n",
    "bitwise_add = add_without_plus_minus_optimized(a, b)\n",
    "print(bitwise_add)\n"
   ]
  },
  {
   "cell_type": "markdown",
   "metadata": {},
   "source": [
    "### More Bit Manipulation Problems\n",
    "\n",
    "**Important Notes on Bit Manipulations** \n",
    "\n",
    "- **XOR-Based**: Is designed to isolate a single unique element when every other elements has exactly two duplicates. Cannot detect multiple duplicates\n",
    "\n",
    "- **Bitmask-Based**: A general purpose duplicate detection for any number of duplicates, provided they fit within the bitmask constraint. Can detect if **any** duplicte exits regardless of how many times an element is duplicated."
   ]
  },
  {
   "cell_type": "code",
   "execution_count": 64,
   "metadata": {},
   "outputs": [
    {
     "name": "stdout",
     "output_type": "stream",
     "text": [
      "3\n"
     ]
    }
   ],
   "source": [
    "#Q1: Given an array, check if a number is duplicate or not - With XOR approach \n",
    "def find_unique_xor(arr):\n",
    "    \"\"\" \n",
    "    Finds the unique element in an array where every other element appears exactly twice \n",
    "\n",
    "    Args:\n",
    "    - arr (List[int]): The input array \n",
    "\n",
    "    Returns:\n",
    "    - int: The unique element\n",
    "\n",
    "    Time Complexity: O(n)\n",
    "    Space Complexity: O(1)\n",
    "    \"\"\"\n",
    "    unique = 0\n",
    "    for num in arr:\n",
    "        unique ^= num \n",
    "    return unique\n",
    "\n",
    "#Test Example\n",
    "list_of_number = [6, 2, 3, 7, 8, 2, 8, 6, 7]\n",
    "unique_element = find_unique_xor(list_of_number)\n",
    "print(unique_element) \n"
   ]
  },
  {
   "cell_type": "markdown",
   "metadata": {},
   "source": [
    "**Find Unique Number HashMap Equivalent**"
   ]
  },
  {
   "cell_type": "code",
   "execution_count": 22,
   "metadata": {},
   "outputs": [
    {
     "name": "stdout",
     "output_type": "stream",
     "text": [
      "3\n"
     ]
    }
   ],
   "source": [
    "#Q:Find unique number with hashmap\n",
    "def find_unique_number_hash_map(arr):\n",
    "    from collections import defaultdict\n",
    "    counts = defaultdict(int)\n",
    "\n",
    "    for num in arr:\n",
    "        counts[num] += 1\n",
    "\n",
    "    for num, count in counts.items():\n",
    "        if count == 1:\n",
    "            return num\n",
    "    \n",
    "    return None # If no unique number is found \n",
    "\n",
    "if __name__ == '__main__':\n",
    "    list_of_number = [6, 2, 3, 7, 8, 2, 8, 6, 7]\n",
    "    unique_element = find_unique_number_hash_map(list_of_number)\n",
    "    print(unique_element) "
   ]
  },
  {
   "cell_type": "code",
   "execution_count": 85,
   "metadata": {},
   "outputs": [
    {
     "name": "stdout",
     "output_type": "stream",
     "text": [
      "3\n"
     ]
    }
   ],
   "source": [
    "#Q2: Given an array, check if a number is duplicate or not - With Bitmask approach \n",
    "def has_duplicates_bitmask(arr):\n",
    "    \"\"\" \n",
    "    Checks if the array contains any duplicates using the bit manipulation\n",
    "\n",
    "    Args:\n",
    "    - arr (List[int]): The input array of non-negative integers\n",
    "\n",
    "    Returns:\n",
    "    - bool: True if duplicates are found, False otherwise\n",
    "\n",
    "    Raises:\n",
    "    - ValueError: If any number in the array is negative or exceeds the bitmask limit.\n",
    "\n",
    "    Time Complexity: O(n)\n",
    "    Space Complexity: O(1)\n",
    "    \"\"\"\n",
    "    bitmask = 0 \n",
    "    for num in arr:\n",
    "        if num < 0 and num >= 64:\n",
    "            raise ValueError(\"Number out of supported range. Negative numbers are not suported in this bitmask approach and number exceeds bitmask limit of up to 63\")\n",
    "        if bitmask & (1 << num):\n",
    "            #return True # returns true if unique number is found\n",
    "            return arr[num] # Returns the unique number \n",
    "        \n",
    "        bitmask |= (1 << num)\n",
    "\n",
    "    #return False # returns false if no unique number is found \n",
    "    return [] # Empty list if no unique number is found \n",
    "\n",
    "#Test Example\n",
    "list_of_number = [6, 2, 3, 7, 8, 2, 8, 6, 7]\n",
    "duplicate_element = has_duplicates_bitmask(list_of_number)\n",
    "print(duplicate_element) "
   ]
  },
  {
   "cell_type": "code",
   "execution_count": null,
   "metadata": {},
   "outputs": [],
   "source": [
    "#Q3: Given an array, check if a number is duplicate or not - With Bitmask approach to handle negative numbers and limit above 64\n",
    "def has_duplicates_bitmask_extended(arr):\n",
    "    \"\"\" \n",
    "    Time Complexity: O(n) - spearation of numbers O(n) and Duplicate checks O(n) for positive and negative lists \n",
    "\n",
    "    Space Complexity: Positive numbers O(m), where m is the maximum positive number. Negative number O(k) - where k is the maximum absolute negative numbers\n",
    "        : Total Space Complexity: O(m + k), which is generally considered O(1) - for practical purposes, but can grow with the input range\n",
    "    \"\"\"\n",
    "    \n",
    "    if not arr:\n",
    "        raise ValueError(\"Array is empty\") \n",
    "    \n",
    "    #Separate positive and negative numbers \n",
    "    pos_numbers = []\n",
    "    neg_numbers = []\n",
    "\n",
    "    for num in arr:\n",
    "        if num >= 0:\n",
    "            pos_numbers.append(num)\n",
    "        else:\n",
    "            neg_numbers.append(-num) # convert to positive for indexing \n",
    "\n",
    "    #Function to handle bitmask using a list of integers (64 bits each)\n",
    "    def check_duplicates(numbers):\n",
    "        bitmask_segments = [] \n",
    "        for num in numbers:\n",
    "            segment_index = num // 64\n",
    "            bit_index = num % 64 \n",
    "\n",
    "            #Expand the bitmask segment list \n",
    "            while segment_index >= len(bitmask_segments):\n",
    "                bitmask_segments.append(0)\n",
    "\n",
    "            #Check if bitmask is already set\n",
    "            if (bitmask_segments[segment_index] & (1 << bit_index)):\n",
    "                return True #Duplicate found \n",
    "            \n",
    "            #Set the bit \n",
    "            bitmask_segments[segment_index] |= (1 << bit_index)\n",
    "\n",
    "        return False # No duplicates found \n",
    "    \n",
    "    #Check duplicates in positive numbers\n",
    "    if check_duplicates(pos_numbers):\n",
    "        return True\n",
    "    \n",
    "    #Check duplicates in negative numbers\n",
    "    if check_duplicates(neg_numbers):\n",
    "        return True\n",
    "    \n",
    "    return False # No duplicates found in both positive and negative numbers \n"
   ]
  },
  {
   "cell_type": "markdown",
   "metadata": {},
   "source": [
    "#### Checking if a number is Set or Not"
   ]
  },
  {
   "cell_type": "code",
   "execution_count": 96,
   "metadata": {},
   "outputs": [
    {
     "name": "stdout",
     "output_type": "stream",
     "text": [
      "True\n"
     ]
    }
   ],
   "source": [
    "#Q1:Given a number check if ith bit is set or not, following code converts number to binary and then works on it\n",
    "def is_ith_bit_set(num, i):\n",
    "    #create a mask by shifting 1 i position to the left  \n",
    "    mask = 1 << i \n",
    "\n",
    "    #Perform bitwise AND between num and the mask\n",
    "    if num & mask:\n",
    "        return True # The i-th bit is set \n",
    "    else:\n",
    "        return False # The i-th bit is not set \n",
    "    \n",
    "#Example \n",
    "num = 27 \n",
    "i = 1\n",
    "print(is_ith_bit_set(num, i))"
   ]
  },
  {
   "cell_type": "code",
   "execution_count": 98,
   "metadata": {},
   "outputs": [
    {
     "name": "stdout",
     "output_type": "stream",
     "text": [
      "2\n"
     ]
    }
   ],
   "source": [
    "def is_ith_bit_set(num, i):\n",
    "    # create a mask by shifting 1 i position to the left \n",
    "    mask =  1 << i \n",
    "\n",
    "    #Perform bitwise AND between num and mask \n",
    "    return num & mask \n",
    "\n",
    "if __name__ == '__main__':\n",
    "    num = 27 \n",
    "    i = 1\n",
    "    print(is_ith_bit_set(num, i)) "
   ]
  },
  {
   "cell_type": "markdown",
   "metadata": {},
   "source": [
    "**Clear i-th bit**"
   ]
  },
  {
   "cell_type": "code",
   "execution_count": 93,
   "metadata": {},
   "outputs": [
    {
     "name": "stdout",
     "output_type": "stream",
     "text": [
      "25\n"
     ]
    }
   ],
   "source": [
    "#Q:Given a decimal number clear the ith bit\n",
    "def clear_ith_bit(num, i):\n",
    "    #Create a mask by shifting 1 i position \n",
    "    mask = 1 << i \n",
    "\n",
    "    #Perform bitwise NOT between num and mask \n",
    "    if num & ~ mask:\n",
    "        return True \n",
    "    else:\n",
    "        return False \n",
    "    \n",
    "if __name__ == '__main__':\n",
    "    num = 27\n",
    "    i = 1\n",
    "    print(clear_bit(num, i))"
   ]
  },
  {
   "cell_type": "code",
   "execution_count": 95,
   "metadata": {},
   "outputs": [
    {
     "name": "stdout",
     "output_type": "stream",
     "text": [
      "25\n"
     ]
    }
   ],
   "source": [
    "def clear_ith_bit(num, i):\n",
    "    #Create mask by shifting 1 i position \n",
    "    mask = 1 << i \n",
    "\n",
    "    #Perform bitwise NOT between num and mask \n",
    "    return num & ~ mask \n",
    "\n",
    "if __name__ == '__main__':\n",
    "    num = 27\n",
    "    i = 1\n",
    "    print(clear_ith_bit(num, i))"
   ]
  },
  {
   "cell_type": "markdown",
   "metadata": {},
   "source": [
    "**Toggle the i-th bit**\n"
   ]
  },
  {
   "cell_type": "code",
   "execution_count": 94,
   "metadata": {},
   "outputs": [
    {
     "name": "stdout",
     "output_type": "stream",
     "text": [
      "25\n"
     ]
    }
   ],
   "source": [
    "#Q:Give a number toggle the ith bit\n",
    "def toggle_ith_bit(num, i):\n",
    "    #Create a mask by shifting 1 i position\n",
    "    mask = 1 << i \n",
    "\n",
    "    #Perform bitwise XOR between num and mask \n",
    "    return num ^ mask \n",
    "    \n",
    "if __name__ == '__main__':\n",
    "    num =  27\n",
    "    i = 1\n",
    "    print(toggle_ith_bit(num, i))\n"
   ]
  },
  {
   "cell_type": "code",
   "execution_count": 9,
   "metadata": {},
   "outputs": [
    {
     "name": "stdout",
     "output_type": "stream",
     "text": [
      "31\n"
     ]
    }
   ],
   "source": [
    "#Q:Set the ith Bit for a number \n",
    "def set_ith_bit(num, i):\n",
    "    mask = 1 << i \n",
    "\n",
    "    return num | mask \n",
    " \n",
    "if __name__ == '__main__':\n",
    "    num = 27\n",
    "    i = 2\n",
    "    print(set_ith_bit(num, i))"
   ]
  },
  {
   "cell_type": "markdown",
   "metadata": {},
   "source": [
    "### Find the Two unique Numbers Where all other numbers appears exactly twice "
   ]
  },
  {
   "cell_type": "code",
   "execution_count": 17,
   "metadata": {},
   "outputs": [
    {
     "name": "stdout",
     "output_type": "stream",
     "text": [
      "The two unique numbers are: 1729 and 880\n",
      "The maximum num[i] & num[j] is: 576\n"
     ]
    }
   ],
   "source": [
    "#Q: Given a number array, find the two unique values in the number array \n",
    "def find_two_unique_numbers(arr):\n",
    "    \"\"\" \n",
    "    Time Complexity Analysis: XOR of All Elements O(n), Identifying the rightmoset Set bit O(1) and Grouping into two groups - O(n)\n",
    "        : Total Time complexity: O(n)\n",
    "    \n",
    "    Space Complexity: O(1) - used fixed number of variables (xor_result, rightmost_set_bit, group1 & group2)\n",
    "    \"\"\"\n",
    "    xor_result = 0 \n",
    "\n",
    "    #Step 1: Find the XOR of all elements. The result will be XOR of teh two unique numbers\n",
    "    for num in arr:\n",
    "        xor_result ^= num \n",
    "\n",
    "    #Step 2: Find the rightmost set bit in xor_result \n",
    "    rightmost_set_bit = xor_result & -xor_result \n",
    "\n",
    "    #Step 3: Initialize two variables to hold the two unique numbers \n",
    "    group1 = 0 \n",
    "    group2 = 0 \n",
    "\n",
    "    #Step 4: Divide the numbers into two groups based on the rightmost set bit\n",
    "    for num in arr:\n",
    "        if num & rightmost_set_bit:\n",
    "            group1 ^= num\n",
    "        else:\n",
    "            group2 ^= num\n",
    "    \n",
    "    return (group1, group2)\n",
    "\n",
    "\n",
    "if __name__ == '__main__':\n",
    "    num = [2308, 1447, 1918, 1391, 2308, 216, 1391, 410, \n",
    "          1021, 537, 1825, 1021, 1729, 669, 216, 1825, \n",
    "          537, 1995, 805, 410, 805, 602, 1918, 1447, \n",
    "          90, 1995, 90, 1540, 1161, 1540, 2160, 1235, \n",
    "          1161, 602, 880, 2160, 1235, 669]\n",
    "\n",
    "    unique1, unique2 = find_two_unique_numbers(num)\n",
    "    print(f\"The two unique numbers are: {unique1} and {unique2}\")    \n",
    "\n",
    "    #Calculate the maximum num[i] & num[j]\n",
    "    max_and = unique1 & unique2\n",
    "    print(f\"The maximum num[i] & num[j] is: {max_and}\")  "
   ]
  },
  {
   "cell_type": "markdown",
   "metadata": {},
   "source": [
    "**Given an Array of an integers where exactly two numbers appears only once, and all other numbers can appear any number of times (including two, three or more)**\n",
    "\n",
    "- Identify and return these two unique numbers \n",
    "\n",
    "**Hash Map (Dictionary) Approac**\n",
    "- Time Complexity: $O(n)$\n",
    "- Space Complexity: $O(n)$\n",
    "\n",
    "Use hash map to count the occurrences of each numbe. After counting, extract the two numbers with a count of 1"
   ]
  },
  {
   "cell_type": "code",
   "execution_count": 23,
   "metadata": {},
   "outputs": [
    {
     "name": "stdout",
     "output_type": "stream",
     "text": [
      "The two unique numbers are: 1729 and 880\n"
     ]
    }
   ],
   "source": [
    "#Q: Hashmap is the straightForwrd approad \n",
    "def find_two_unique_numbers(arr):\n",
    "    from collections import defaultdict\n",
    "\n",
    "    #Step1: count the frequency of each number in the array using the hash map\n",
    "    frequency = defaultdict(int)\n",
    "\n",
    "    for num in arr:\n",
    "        frequency[num] += 1\n",
    "\n",
    "    #Step2: Identify the two unique numbers in the array \n",
    "    unique_numbers = []\n",
    "    for num, count in frequency.items():\n",
    "        if count == 1:\n",
    "            unique_numbers.append(num)\n",
    "            if len(unique_numbers) ==2:\n",
    "                break # Early exit if both unique numbers are found \n",
    "\n",
    "    if len(unique_numbers) != 2:\n",
    "        raise ValueError(\"The input array does not contain exactly two unique numbers.\")\n",
    "    \n",
    "    return tuple(unique_numbers)\n",
    "\n",
    "if __name__ =='__main__':\n",
    "    arr = [2308, 1447, 1918, 1391, 2308, 216, 1391, 410, \n",
    "          1021, 537, 1825, 1021, 1729, 669, 216, 1825, \n",
    "          537, 1995, 805, 410, 805, 602, 1918, 1447, \n",
    "          90, 1995, 90, 1540, 1161, 1540, 2160, 1235, \n",
    "          1161, 602, 880, 2160, 1235, 669]\n",
    "    \n",
    "    unique1, unique2 = find_two_unique_numbers(num)\n",
    "    print(f\"The two unique numbers are: {unique1} and {unique2}\")  "
   ]
  },
  {
   "cell_type": "markdown",
   "metadata": {},
   "source": [
    "**Bit Manipulations Approach**\n",
    "\n",
    "- Note for Bit Manipulation approad we use **XOR** - which works effectively when elements appear exactly only twice. If duplicates appear more than twice, this approach fails because XOR-ing multiple duplicates doesn't cancel them out as expected.\n",
    "\n",
    "**Limitation**: Cannot handle cases where duplicates appear an arbitrary number of times unless they appear exactly twice."
   ]
  },
  {
   "cell_type": "code",
   "execution_count": 31,
   "metadata": {},
   "outputs": [
    {
     "name": "stdout",
     "output_type": "stream",
     "text": [
      "The two unique numbers are: 1729 and 880\n"
     ]
    }
   ],
   "source": [
    "#Q: Bit Manipulation Approach is more complex \n",
    "def find_two_unique_numbers(arr):\n",
    "    xor_result = 0 \n",
    "\n",
    "    #Step 1: find the XOR of all elements \n",
    "    for num in arr:\n",
    "        xor_result ^= num \n",
    "\n",
    "    #Step2: Find the rightmost set bits\n",
    "    rightmost_set_bit = xor_result & -xor_result\n",
    "\n",
    "    #Setp 3: Initialize the two variable for the unique number \n",
    "    group1 = 0 \n",
    "    group2 = 0 \n",
    "\n",
    "    #Step 4: Divide the numbers into two group based on the rightmost set bit \n",
    "    for num in arr:\n",
    "        if num & rightmost_set_bit:\n",
    "            group1 ^= num \n",
    "        else:\n",
    "            group2 ^= num \n",
    "\n",
    "    return (group1, group2)\n",
    "\n",
    "if __name__ == '__main__':\n",
    "    arr = [2308, 1447, 1918, 1391, 2308, 216, 1391, 410, \n",
    "          1021, 537, 1825, 1021, 1729, 669, 216, 1825, \n",
    "          537, 1995, 805, 410, 805, 602, 1918, 1447, \n",
    "          90, 1995, 90, 1540, 1161, 1540, 2160, 1235, \n",
    "          1161, 602, 880, 2160, 1235, 669]\n",
    "    \n",
    "    unique1, unique2 = find_two_unique_numbers(num)\n",
    "    print(f\"The two unique numbers are: {unique1} and {unique2}\")  "
   ]
  },
  {
   "cell_type": "markdown",
   "metadata": {},
   "source": [
    "**Each Number Repeated Thrice Except One**"
   ]
  },
  {
   "cell_type": "code",
   "execution_count": 108,
   "metadata": {},
   "outputs": [
    {
     "name": "stdout",
     "output_type": "stream",
     "text": [
      "9\n"
     ]
    }
   ],
   "source": [
    "#Q: Given a number each number is repeated thrics except one\n",
    "def is_ith_bit_set(num, i):\n",
    "    #create a mask by shifting left 1 i position \n",
    "    mask = 1 << i \n",
    "\n",
    "    #Perform bitwise operation AND betwen num and mask \n",
    "    return num & mask != 0 \n",
    "\n",
    "def repeated_numbers_except_one(nums):\n",
    "    \"\"\" \n",
    "    Time complexity: O(n * log(max(nums))) - where n is the number of elements in the array and log(max(nums)), bit lenght of the largest number \n",
    "    Space complexity: O(1) - As we are only using few additional variables \n",
    "    \"\"\"\n",
    "    #find the max bit length across all numbers \n",
    "    max_bit = max(nums).bit_length()\n",
    "    ans = 0 \n",
    "\n",
    "    #iterate through each bit position \n",
    "    for i in range(max_bit):\n",
    "        count = 0 \n",
    "\n",
    "        for num in nums:\n",
    "            if is_ith_bit_set(num, i):\n",
    "                count += 1\n",
    "\n",
    "        #check if the set bit is divisible by 3 or not and set the bit in the result \n",
    "        if count % 3 == 1:\n",
    "            ans |= 1 << i \n",
    "        \n",
    "    return ans \n",
    "\n",
    "if __name__ == '__main__':\n",
    "    nums = [5, 7, 5, 4, 7, 11, 11, 9, 11, 7, 5, 4, 4]\n",
    "    print(repeated_numbers_except_one(nums))\n"
   ]
  },
  {
   "cell_type": "markdown",
   "metadata": {},
   "source": [
    "#### Find the Maximum Bitwise Pair\n",
    "\n",
    "**Find Maximum From Two Numbers- Brute Force Approach**: $O(n^2)$ \n",
    "- For the most straightforward approach is to use two nested loops to iterate through every possible pair of numbers in the array, and compute their bitwise AND (&). Then return the maxumum result  "
   ]
  },
  {
   "cell_type": "code",
   "execution_count": null,
   "metadata": {},
   "outputs": [],
   "source": [
    "#Q: Given an array A. For every pair of indices i and j (i != j), find the maximum A[i] & A[j].\n",
    "# To solve the problem of finding the maximum bitwise AND (&) for every pair of distinct indices i and j in the arry A, we nee to find two numbers in the array such that their bitwise AND is maximized\n",
    "def max_bitwise_and_brute_force(arr):\n",
    "    \"\"\" \n",
    "    Time Complexity: O(n^2) - Since we have two nested Loops\n",
    "    Space Complexity: O(1) - As we only use a few extra variables\n",
    "    \"\"\"\n",
    "    max_and = 0 \n",
    "    n = len(arr)\n",
    "\n",
    "    for i in range(n):\n",
    "        for j in range(i, n + 1):\n",
    "            max_and = max(max_and, arr[i] & arr[j])\n",
    "\n",
    "    return max_and\n",
    "\n",
    "if __name__ == '__main__':\n",
    "    arr = [26,13,23,28,27,7,25]\n",
    "    print(max_bitwise_and_brute_force(arr))"
   ]
  },
  {
   "cell_type": "markdown",
   "metadata": {},
   "source": [
    "**Optimized Approach Using Sorting**: $O(n log n)$\n",
    "- Since the bitwise **AND** is larger when the numbers are larger, we can try sorting the array and comparing the bitwise **AND** of adjacent elements. The idea here is that larger numbers have more set bits, so the reseult of the **AND** is likely to be higher.\n",
    "\n",
    "</p>\n",
    "\n",
    "* We first sort the array in descending order.\n",
    "* The idea is that numbers that are closer together in magnitude have a higher likelihood of having a higher bitwise **AND** results.\n",
    "* We only compare adjacent elements in the sorted array.\n"
   ]
  },
  {
   "cell_type": "code",
   "execution_count": null,
   "metadata": {},
   "outputs": [
    {
     "name": "stdout",
     "output_type": "stream",
     "text": [
      "26\n"
     ]
    }
   ],
   "source": [
    "def max_bitwise_and_optimized(arr):\n",
    "    \"\"\" \n",
    "    Total Time Complexity: O(n log n) - Because sorting takes O(n log n) and the loop to find the maximum AND takes O(n) \n",
    "    Space Complexity: O(1) - Excluding the space used by sorting \n",
    "    \"\"\"\n",
    "    arr.sort(reversed=True) # sort the array in descending order \n",
    "    max_and = 0 \n",
    "\n",
    "    for i in range(len(arr) - 1):\n",
    "        max_and = max(max_and, arr[i] & arr[i + 1])\n",
    "\n",
    "    return max_and\n",
    "\n",
    "if __name__ == '__main__':\n",
    "    arr = [26,13,23,28,27,7,25]\n",
    "    print(max_bitwise_and_brute_force(arr))\n",
    "\n"
   ]
  },
  {
   "cell_type": "markdown",
   "metadata": {},
   "source": [
    "### Convert Decimal to Binary "
   ]
  },
  {
   "cell_type": "code",
   "execution_count": 4,
   "metadata": {},
   "outputs": [
    {
     "name": "stdout",
     "output_type": "stream",
     "text": [
      "11011\n"
     ]
    }
   ],
   "source": [
    "#Method 1: Given a decimal number convert to Binary - Using the buit-in function\n",
    "def decimal_to_binary(num):\n",
    "    return bin(num)[2:] # to remove  the '0b' prefix\n",
    "\n",
    "if __name__ == '__main__':\n",
    "    num = 27\n",
    "    print(decimal_to_binary(num))\n"
   ]
  },
  {
   "cell_type": "code",
   "execution_count": 35,
   "metadata": {},
   "outputs": [
    {
     "name": "stdout",
     "output_type": "stream",
     "text": [
      "11011\n"
     ]
    }
   ],
   "source": [
    "#Method 2: Given a decimal number convert to Binary - manual method \n",
    "def decimal_to_binary_manual(num):\n",
    "    if num == 0:\n",
    "        return '0'\n",
    "    \n",
    "    binary_digit = []\n",
    "\n",
    "    while num > 0:\n",
    "        remainder = num % 2\n",
    "        binary_digit.append(str(remainder))\n",
    "        num = num // 2\n",
    "\n",
    "    binary_digit.reverse()\n",
    "    return ''.join(binary_digit)\n",
    "\n",
    "if __name__ == '__main__':\n",
    "    num = 27 \n",
    "    print(decimal_to_binary_manual(num))"
   ]
  },
  {
   "cell_type": "markdown",
   "metadata": {},
   "source": [
    "**Using insert instead of append**"
   ]
  },
  {
   "cell_type": "code",
   "execution_count": 34,
   "metadata": {},
   "outputs": [
    {
     "name": "stdout",
     "output_type": "stream",
     "text": [
      "11011\n"
     ]
    }
   ],
   "source": [
    "#Q: Convert Decimal to Binary \n",
    "def decimal_to_binary_manul(arr):\n",
    "    if arr == 0:\n",
    "        return '0'\n",
    "    \n",
    "    binary_digits = []\n",
    "    while num > 0:\n",
    "        remainder = num % 2\n",
    "        binary_digits.insert(str(remainder))\n",
    "        num = num // 2\n",
    "\n",
    "    binary_digits.reverse()\n",
    "    return ''.join(binary_digits)\n",
    "\n",
    "if __name__ == '__main__':\n",
    "    num = 27 \n",
    "    print(decimal_to_binary_manual(num))\n"
   ]
  },
  {
   "cell_type": "markdown",
   "metadata": {},
   "source": [
    "### Finding List of Duplicates Using Set"
   ]
  },
  {
   "cell_type": "code",
   "execution_count": 87,
   "metadata": {},
   "outputs": [
    {
     "name": "stdout",
     "output_type": "stream",
     "text": [
      "The following are list of duplicates in the input array: [8, 2, 6, 7]\n"
     ]
    }
   ],
   "source": [
    "#Q1; Find all duplicates and return as list \n",
    "def find_all_duplicates(arr):\n",
    "    \"\"\" \n",
    "    Time Complexity: n * O(1) ==> O(n) : Loop Operations\n",
    "    Space Complexity: O(n): The hash may store up to n uinque elements\n",
    "    \"\"\"\n",
    "    seen = set()\n",
    "    duplicates = set()\n",
    "\n",
    "    for num in arr:\n",
    "        if num in seen:\n",
    "            duplicates.add(num)\n",
    "        else:\n",
    "            seen.add(num)\n",
    "\n",
    "    return list(duplicates)\n",
    "\n",
    "if __name__ == '__main__':\n",
    "    arr = [6, 2, 3, 7, 8, 2, 8, 6, 7]\n",
    "    sol = find_all_duplicates(arr)\n",
    "    print(f\"The following are list of duplicates in the input array: {sol}\")"
   ]
  },
  {
   "cell_type": "markdown",
   "metadata": {},
   "source": [
    "### Practice Interview Questions"
   ]
  },
  {
   "cell_type": "code",
   "execution_count": 36,
   "metadata": {},
   "outputs": [
    {
     "name": "stdout",
     "output_type": "stream",
     "text": [
      "1\n"
     ]
    }
   ],
   "source": [
    "#Q: Both Side Max\n",
    "def find_both_side_max(arr):\n",
    "    \"\"\" \n",
    "    \"\"\"\n",
    "    n = len(arr)\n",
    "    max_and = 0 \n",
    "\n",
    "    for k in range(1, n):\n",
    "        #find the left side max \n",
    "        left_max = max(arr[:k])\n",
    "\n",
    "        # find the right side max \n",
    "        right_max = max(arr[k:])\n",
    "\n",
    "        max_and = max(max_and, left_max & right_max)\n",
    "\n",
    "    return max_and\n",
    "\n",
    "if __name__ == '__main__':\n",
    "    n = [5 , -2 , 3 ,1, 2]\n",
    "    print(find_both_side_max(n))"
   ]
  },
  {
   "cell_type": "markdown",
   "metadata": {},
   "source": [
    "**Find the maximum sum achievable by selecting a specific number of elements from both the beginning and the end of a list**. You can choose a maximum of 3\n",
    "\n",
    "- **Real World Analogy**: Imagine you have a row of cards with numbers on them. You want to pick exactly three cards to maximize your score. You can choose any combination of cards from the left end and the right end of the row. This code helps you determine the best combination to achieve the highest possible score."
   ]
  },
  {
   "cell_type": "code",
   "execution_count": 61,
   "metadata": {},
   "outputs": [
    {
     "name": "stdout",
     "output_type": "stream",
     "text": [
      "Taking 0 from left and 3 from right: Sum = 6\n",
      "Taking 1 from left and 2 from right: Sum = 8\n",
      "Taking 2 from left and 1 from right: Sum = 5\n",
      "Taking 3 from left and 0 from right: Sum = 6\n",
      "The maximum achievable sum by picking 3 cards is: 8\n"
     ]
    }
   ],
   "source": [
    "#Q:Find maximum sum from both sides using the both side index. The total number of elements to select from the list is 3. Return the maximum sum from all possible combinations \n",
    "def both_side_max_index(cards, k =3):\n",
    "    \"\"\" \n",
    "    \"\"\"\n",
    "    n = len(cards)\n",
    "\n",
    "    if k > n:\n",
    "        return sum(cards)\n",
    "    \n",
    "    #helper function \n",
    "    def manual_sum(arr):\n",
    "        total = 0 \n",
    "        for num in arr:\n",
    "            total += num\n",
    "\n",
    "        return total \n",
    "    \n",
    "    max_and = float('-inf')\n",
    "    for left_count in range(0, k + 1):\n",
    "        right_count = k - left_count\n",
    "\n",
    "        left_sum = manual_sum(cards[:left_count]) if left_count > 0 else 0 \n",
    "\n",
    "        #Calculate right sum of right_count cards from the end manually \n",
    "        right_sum = manual_sum(cards[-right_count:]) if right_count > 0 else 0 \n",
    "\n",
    "        current_sum = left_sum + right_sum\n",
    "        max_and = max(max_and, current_sum)\n",
    "\n",
    "        #Debug statements to trace computation \n",
    "        print(f\"Taking {left_count} from left and {right_count} from right: Sum = {current_sum}\")\n",
    "\n",
    "    return max_and\n",
    "\n",
    "if __name__ == '__main__':\n",
    "    cards = [5, -2, 3, 1, 2]\n",
    "    print(f\"The maximum achievable sum by picking 3 cards is: {both_side_max_index(cards, k=3)}\")"
   ]
  },
  {
   "cell_type": "markdown",
   "metadata": {},
   "source": [
    "**Given an array, find an element from the array which is occuring more than n/2 times** "
   ]
  },
  {
   "cell_type": "code",
   "execution_count": 73,
   "metadata": {},
   "outputs": [
    {
     "name": "stdout",
     "output_type": "stream",
     "text": [
      "The majority occuring element in the array is: 1\n"
     ]
    }
   ],
   "source": [
    "#Q:Given an array find the element from the array that occurs more than 2/2 times \n",
    "def majority_element(arr):\n",
    "    count = 0 \n",
    "    candidate = None \n",
    "\n",
    "    def manual_sum(element):\n",
    "        total_sum = 0 \n",
    "        for value in element:\n",
    "            total_sum += value\n",
    "            \n",
    "        return total_sum \n",
    "    \n",
    "    #Step 1: Find a candidate for the majority element \n",
    "    for num in arr:\n",
    "        if count == 0:\n",
    "            candidate = num \n",
    "        count += (1 if num == candidate else -1)\n",
    "\n",
    "    #Step 2: Verify if the candidate is actually the majority element \n",
    "    count = manual_sum(1 for num in arr if num == candidate)\n",
    "\n",
    "    if count > len(arr) // 2:\n",
    "        return candidate\n",
    "    else:\n",
    "        return None\n",
    "\n",
    "\n",
    "if __name__ == '__main__':\n",
    "    arr = [2,1,1,1,4,7,1,1,1,1]\n",
    "    result = majority_element(arr)\n",
    "    print(f\"The majority occuring element in the array is: {result}\")"
   ]
  },
  {
   "cell_type": "markdown",
   "metadata": {},
   "source": [
    "### Dynamic Programming \n",
    "\n",
    "Dynamic programming is just optimized recursion. For example - using the fibonacci numberss function"
   ]
  },
  {
   "cell_type": "code",
   "execution_count": 54,
   "metadata": {},
   "outputs": [],
   "source": [
    "def fibonacci(n, memo={}):\n",
    "    if n == 0:\n",
    "        return 0 \n",
    "    \n",
    "    if n == 1:\n",
    "        return 1\n",
    "\n",
    "    if n in memo:\n",
    "        return memo[n]\n",
    "    \n",
    "    memo[n] = fibonacci(n - 1) + fibonacci(n - 2)\n",
    "\n",
    "    return memo[n]\n"
   ]
  },
  {
   "cell_type": "markdown",
   "metadata": {},
   "source": [
    "### Top-down vs bottom-up\n",
    "\n",
    "**Top-Down**\n",
    "- The above method of using recursion and memoization is **also known as top-down** dynamic programming, becuase we started from the top and move towards the base case.\n",
    "\n",
    "**Bottom-Up**\n",
    "- Another way to approach a dynamic programming problem is with a **bottom-up** algorithm. In the bottom-up, we start at the bottom (base case) and work our way up to larger problems. This is done iteratively and also known as **tabulation**. Below is a bottom-up version of fibonacci numbers problem"
   ]
  },
  {
   "cell_type": "code",
   "execution_count": 55,
   "metadata": {},
   "outputs": [],
   "source": [
    "def fibonacci(n):\n",
    "    arr = [0] * (n + 1)\n",
    "\n",
    "    #base case, the second fibonacci number is 1\n",
    "    arr[1] = 1\n",
    "    for i in range(2, n + 1):\n",
    "        arr[i] = arr[i - 1] + arr[i - 2]\n",
    "\n",
    "    return arr[n]"
   ]
  },
  {
   "cell_type": "markdown",
   "metadata": {},
   "source": [
    "Top-down and bottom-up refers only to how you decide to implement your algorithm. There is fundamentally nothing different between the two approaches. Every top-down implementation can be implemented bottom-up and vice versa.  The thing defines a DP algorithm are the base cases and recurrence relation. \n",
    "\n",
    "**State**\n",
    "- State refers to a set of variables that can fully describe a scenario. In DP, a call to `dp(state)` should return the answer to the oroginal problem as if `state` was the input.\n",
    "\n",
    "**Time and Space Complexity of DP algorithms**\n",
    "- Complexity analysis for DP algorithms is very easy. Like with trees/graphs, we calculated each state only once. Therefor if there are $N$ possible states, and the work done at each state is $F$, then the \n",
    "- Time complexity will be $O(N . F)$  - Notice this is same argument we used in the tree and graph problems\n",
    "- Space complecity will be $O(N)$\n",
    "\n",
    "If we are doing **top-down**, our hash map will store all the states at the end. If we are doing **bottom-up**, the array we used for **tabulation** will be the same size as the number of states.\n",
    "\n",
    "**NB**: In many problems, the **space complexity** can be improved when implementing **bottom-up**, but not **top-down**.\n"
   ]
  },
  {
   "cell_type": "markdown",
   "metadata": {},
   "source": [
    "### Dynamic Programming: Knapsack Problem\n",
    "\n",
    "The Knapsack problem is a common optimization problem where you have to choose a subset of items to include in a knapsack such that their total weight does not exceed the knapsack's capacity and their total value is maximized. "
   ]
  },
  {
   "cell_type": "code",
   "execution_count": 57,
   "metadata": {},
   "outputs": [
    {
     "name": "stdout",
     "output_type": "stream",
     "text": [
      "Maximum value in knapsack = 220\n"
     ]
    }
   ],
   "source": [
    "def knapsack(values, weights, capacity):\n",
    "    \"\"\" \n",
    "    Time complexity: The outer loop runs for each of n items and the inner loop runs for each of the capacity and they are both considered once\n",
    "     : Each combination with a total time complexity - O(n x Capacity)\n",
    "\n",
    "    Space complexity: DP table was created with a 2D size (n + 1) x (capacity + 1) - The space required for this table \n",
    "     : O(n x capacity)\n",
    "    \"\"\"\n",
    "    n = len(values)\n",
    "\n",
    "    # create a 2D array to store the maximum value for each capacity and items \n",
    "    dp = [[0 for x in range(capacity + 1)] for x in range(n + 1)]\n",
    "\n",
    "    # Build the tabulation table dp[][] in bottom-up approach \n",
    "    for i in range(n + 1):\n",
    "        for w in range(capacity + 1):\n",
    "            if i == 0 or w == 0:\n",
    "                dp[i][w] = 0 \n",
    "            elif weights[i - 1] <= w:\n",
    "                #include the item or exclude the item \n",
    "                dp[i][w] = max(values[i - 1] + dp[i - 1][w - weights[i - 1]], dp[i - 1][w])\n",
    "            else:\n",
    "                dp[i][w] = dp[i - 1][w]\n",
    "\n",
    "    #dp[n][capacity] will contain the maximum value achievable with n items and given capacity \n",
    "    return dp[n][capacity]\n",
    "\n",
    "# Example \n",
    "values = [60, 100, 120]\n",
    "weights = [10, 20, 30]\n",
    "capacity = 50\n",
    "\n",
    "max_value = knapsack(values, weights, capacity)\n",
    "print(f\"Maximum value in knapsack = {max_value}\")\n"
   ]
  },
  {
   "cell_type": "code",
   "execution_count": 60,
   "metadata": {},
   "outputs": [
    {
     "name": "stdout",
     "output_type": "stream",
     "text": [
      "Maximum value in Knapsack = 220\n"
     ]
    }
   ],
   "source": [
    "#Method 2: knapsack problem \n",
    "def knapsack_optimized(values, weights, capacity):\n",
    "    \"\"\" \n",
    "    Time complexity: O(n x capacity)\n",
    "    Space complexity: O(n x capacity)\n",
    "    \"\"\"\n",
    "    n = len(values)\n",
    "\n",
    "    #creat DP 2D array tp store the maximum values and capacity \n",
    "    dp = [[0 for _ in range(capacity + 1)] for _ in range(n + 1)]\n",
    "\n",
    "    #Build tabulation table in bottom-up manner \n",
    "    for i in range(1, n + 1):\n",
    "        for w in range(1, capacity + 1):\n",
    "            if i == 0 and w == 0:\n",
    "                dp[i][w] = 0\n",
    "            elif weights[i - 1] <= w:\n",
    "                dp[i][w] = max(values[i -1] + dp[i - 1][w - weights[i -1]], dp[i - 1][w])\n",
    "            else:\n",
    "                dp[i][w] = dp[i -1][w]\n",
    "\n",
    "    return dp[n][capacity]\n",
    "\n",
    "#Example\n",
    "values = [60, 100, 120]\n",
    "weights = [10, 20, 30]\n",
    "capacity = 50\n",
    "\n",
    "max_value = knapsack(values, weights, capacity)\n",
    "print(\"Maximum value in Knapsack =\", max_value)"
   ]
  },
  {
   "cell_type": "code",
   "execution_count": 61,
   "metadata": {},
   "outputs": [
    {
     "name": "stdout",
     "output_type": "stream",
     "text": [
      "Maximum value in Knapsack = 220\n"
     ]
    }
   ],
   "source": [
    "#Method 3: Knapsack problem with top-down approach - In this approach we use memoization to store intermediate results and avoid redundant calculations \n",
    "\n",
    "def knapsack_top_down(values, weights, capacity):\n",
    "    \"\"\" \n",
    "    Time Complexity: O(n x Capacity) - Since each subproblem is solved only once and stored to the memo table \n",
    "    Space Complexity: O(n x Capacity) - Due to the memo table and recursion stack \n",
    "    \"\"\"\n",
    "    # Initialize memoization table with -1 (indicating uncomputed states)\n",
    "    n = len(weights)\n",
    "    memo = [[-1] * (capacity + 1) for _ in range(n)]\n",
    "\n",
    "    #Helper function to solve the problem  recursively \n",
    "    def knapsack_recursive(i, remaining_capacity):\n",
    "        #Base Case: No item left or capacity is zero \n",
    "        if i == n or remaining_capacity == 0:\n",
    "            return 0\n",
    "        \n",
    "        # If we have already solved this subproblem, return the stored result\n",
    "        if memo[i][remaining_capacity] != -1:\n",
    "            return memo[i][remaining_capacity]\n",
    "        \n",
    "        #Case 1 - Do not include the current item \n",
    "        max_value = knapsack_recursive(i + 1, remaining_capacity)\n",
    "\n",
    "        #Case 2- Include the current item (if it fits in the knapsack)\n",
    "        if weights[i] <= remaining_capacity:\n",
    "            max_value = max(max_value, values[i] + knapsack_recursive(i + 1, remaining_capacity - weights[i]))\n",
    "\n",
    "        #Memoize the result and return it \n",
    "        memo[i][remaining_capacity] = max_value\n",
    "        return max_value\n",
    "    \n",
    "    # Start solving from the 0th item and the full capacity of the knapsack\n",
    "    return knapsack_recursive(0, capacity)\n",
    "\n",
    "#Example\n",
    "values = [60, 100, 120]\n",
    "weights = [10, 20, 30]\n",
    "capacity = 50\n",
    "\n",
    "max_value = knapsack_top_down(values, weights, capacity)\n",
    "print(\"Maximum value in Knapsack =\", max_value)"
   ]
  },
  {
   "cell_type": "markdown",
   "metadata": {},
   "source": [
    "#### Coin Change\n",
    "\n",
    "**Question 1:** You are given integer array **coins** representing coins of different denominations and an integer **amount** representing a total amount of money. Return the fewest number of coins that you need to make up that amount. If that amount of money cannot be made up by any combination of this coins, return -1. You may assume that you have an infinite number of each kind of coin. \n",
    "\n",
    "- The DP translation for this problem state: For each coin in the `coins` array, and for each amount from the coin value up to the `amount`, update the `dp` array.\n",
    "\n",
    "$$dp[i] = min(dp[i], dp[i - coin] + 1)$$"
   ]
  },
  {
   "cell_type": "code",
   "execution_count": 104,
   "metadata": {},
   "outputs": [
    {
     "name": "stdout",
     "output_type": "stream",
     "text": [
      "The coins used to make up the change amount 11: [6, 5]\n",
      "The fewest number of coins needed for the change amount of 11 is: 2\n"
     ]
    }
   ],
   "source": [
    "#Q: Given an integer array of coins and total amount, return the fewest number of coins change that make up the amount\n",
    "#This is a DP problem as it requires to return the fewest amount that make up the coin change \n",
    "def coinChange(coins, amount):\n",
    "    \"\"\"\n",
    "     Time Complexity: O(n * m) - where n is the number of coins and m is the amount\n",
    "     Space Complexity: O(m) - because of the dp array\n",
    "    \"\"\"\n",
    "    #Initialize a DP array with a large value (amount + 1 is sufficient as infinity)\n",
    "    dp = [float('inf')] * (amount + 1) \n",
    "\n",
    "    # Base case: to make amount 0, 0 coins are needed \n",
    "    dp[0] =  0 \n",
    "\n",
    "    # Fill dp array\n",
    "    for coin in coins:\n",
    "        for i in range(coin, amount + 1):\n",
    "            dp[i] = min(dp[i], dp[i - coin] + 1) \n",
    "            \n",
    "    #If dp[amount] == infinity, return -1\n",
    "    if dp[amount] == float('inf'):\n",
    "        return -1\n",
    "    \n",
    "    #Backtrack to find which coins were used \n",
    "    result_coins = []\n",
    "\n",
    "    remaining_amount = amount \n",
    "\n",
    "    while remaining_amount > 0:\n",
    "        for coin in coins:\n",
    "            if remaining_amount >= coin and dp[remaining_amount] == dp[remaining_amount - coin] + 1:\n",
    "                result_coins.append(coin)\n",
    "                remaining_amount -= coin \n",
    "                break\n",
    "\n",
    "    #Debug Statement: print the coin used \n",
    "    print(f\"The coins used to make up the change amount {amount}: {result_coins}\")\n",
    "\n",
    "    return dp[amount]\n",
    "\n",
    "if __name__ == '__main__':\n",
    "    coins = [9, 6, 5, 1]\n",
    "    amount  = 11\n",
    "    result = coinChange(coins, amount)\n",
    "    print(f\"The fewest number of coins needed for the change amount of 11 is: {result}\")"
   ]
  },
  {
   "cell_type": "code",
   "execution_count": 89,
   "metadata": {},
   "outputs": [
    {
     "name": "stdout",
     "output_type": "stream",
     "text": [
      "Taking 0 from left and 3 from right: Sum = 6\n",
      "Taking 1 from left and 2 from right: Sum = 8\n",
      "Taking 2 from left and 1 from right: Sum = 5\n",
      "Taking 3 from left and 0 from right: Sum = 6\n",
      "The maximum achievable sum by picking 3 cards is: 8\n"
     ]
    }
   ],
   "source": [
    "#Q: both_side_index\n",
    "def both_side_index(cards, k=3):\n",
    "    n = len(cards)\n",
    "\n",
    "    max_sum = float('inf')\n",
    "\n",
    "    if k > n:\n",
    "        return sum(cards)\n",
    "    \n",
    "    def manual_sum(arr):\n",
    "        total_sum  = 0 \n",
    "        for i in arr:\n",
    "            total_sum += 1\n",
    "        return total_sum\n",
    "    \n",
    "    for left_count in range(0, k + 1):\n",
    "        right_count = k - left_count\n",
    "\n",
    "        #calculate left_sum\n",
    "        left_sum = manual_sum(cards[:left_count]) if left_count > 0 else 0 \n",
    "\n",
    "        #calculate right_sum from the end \n",
    "        right_sum = manual_sum(cards[-right_count:]) if right_count > 0 else 0 \n",
    "\n",
    "        current_sum = left_sum + right_sum\n",
    "\n",
    "        max_sum = max(max_sum, current_sum)\n",
    "\n",
    "        #Debug statement \n",
    "        print(f\"Taking {left_count} from left and {right_count} from right: Sum ={current_sum}\")\n",
    "\n",
    "    return max_sum \n",
    "\n",
    "if __name__ == '__main__':\n",
    "    cards = [5, -2, 3, 1, 2]\n",
    "    print(f\"The maximum achievable sum by picking 3 cards is: {both_side_max_index(cards, k=3)}\")"
   ]
  },
  {
   "cell_type": "code",
   "execution_count": 94,
   "metadata": {},
   "outputs": [
    {
     "name": "stdout",
     "output_type": "stream",
     "text": [
      "The majority occuring element in the array is: 1\n"
     ]
    }
   ],
   "source": [
    "#Q:Majority element in an arr\n",
    "def majority_element(arr):\n",
    "    count = 0 \n",
    "    candidate = None\n",
    "\n",
    "    def manual_sum(elements):\n",
    "        total_sum =  0 \n",
    "        for value in elements:\n",
    "            total_sum += value\n",
    "        return total_sum\n",
    "    \n",
    "    for num in arr:\n",
    "        if count == 0:\n",
    "            candidate = num \n",
    "\n",
    "        count += (1 if num == candidate else - 1)\n",
    "\n",
    "    #verify the candidate \n",
    "    count = manual_sum(1 for num in arr if num == candidate)\n",
    "\n",
    "    if count > len(arr) // 2:\n",
    "        return candidate\n",
    "    else:\n",
    "        return None\n",
    "    \n",
    "if __name__ == '__main__':\n",
    "    arr = [2,1,1,1,4,7,1,1,1,1]\n",
    "    result = majority_element(arr)\n",
    "    print(f\"The majority occuring element in the array is: {result}\")"
   ]
  },
  {
   "cell_type": "code",
   "execution_count": 95,
   "metadata": {},
   "outputs": [
    {
     "name": "stdout",
     "output_type": "stream",
     "text": [
      "1\n"
     ]
    }
   ],
   "source": [
    "a =[2,1,1,1,4,7,1,1,1,1]\n",
    "\n",
    "count =0\n",
    "for i in a:\n",
    "    if count == 0:\n",
    "        element =i\n",
    "    if element ==i:\n",
    "        count=count+1\n",
    "    else:\n",
    "        count=count-1\n",
    "print(element); "
   ]
  },
  {
   "cell_type": "code",
   "execution_count": null,
   "metadata": {},
   "outputs": [],
   "source": []
  }
 ],
 "metadata": {
  "kernelspec": {
   "display_name": "DevOpsManager",
   "language": "python",
   "name": "python3"
  },
  "language_info": {
   "codemirror_mode": {
    "name": "ipython",
    "version": 3
   },
   "file_extension": ".py",
   "mimetype": "text/x-python",
   "name": "python",
   "nbconvert_exporter": "python",
   "pygments_lexer": "ipython3",
   "version": "3.12.4"
  }
 },
 "nbformat": 4,
 "nbformat_minor": 2
}

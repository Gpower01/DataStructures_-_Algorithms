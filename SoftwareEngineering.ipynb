{
 "cells": [
  {
   "cell_type": "markdown",
   "metadata": {},
   "source": [
    "### Software Engineering | Interview Crash Course | Data Structure and Algorithm \n",
    "\n",
    "* This is a collection of helpful resources for interviews and solving Data Structures & Algorithms problems.\n",
    "\n",
    "#### Tips:\n",
    "**Brainstorming DS&A**\n",
    "- Try to figure out what data structure or algorithm is applicable. Break the problem down and try to find common patterns that you've learned. Figure out what the problem needs you to do, and think about what data structure or algorithm can accomplish it with a good time complexity.\n",
    "\n",
    "<p>\n",
    "\n",
    "* Once you have decided on what data structires/algorithms to use, you now need to construct your actual algorithm. \n",
    "\n",
    "~ **Before coding, you should think of the rough steps of the algorithm.**"
   ]
  },
  {
   "cell_type": "markdown",
   "metadata": {},
   "source": [
    "### Big-O Complexity\n",
    "* First let's talk about the time complexity of common operations, split by data structure/algorithm.\n",
    "\n",
    "1) **Arrays (Dynamic array/list)**\n",
    "\n",
    "Given `n = arr.lenght`\n",
    "\n",
    "* Add or remove element at the end: **O(1)** - amortized\n",
    "* Add or remove element from arbitray index: **O(n)**\n",
    "* Access or modify element at arbitrary index: **O(1)**\n",
    "* Check if element exists: **O(n)**\n",
    "* Two pointers: **O(n.k)**, where `k` is the work done at each iteration, includes sliding window\n",
    "* Building a prefix sum: **O(n)**\n",
    "* Finding the sum of a substring giving a prefix sum: **O(1)**"
   ]
  },
  {
   "cell_type": "markdown",
   "metadata": {},
   "source": [
    "* Add or remove element at the end: **O(1)** - amortozed example using **Queue**"
   ]
  },
  {
   "cell_type": "code",
   "execution_count": 1,
   "metadata": {},
   "outputs": [],
   "source": [
    "class Queue:\n",
    "    def __init__(self):\n",
    "        self.input = [] # Stores elements that are enqueued \n",
    "        self.output =  [] # Stores elements that are dequeued \n",
    "\n",
    "    def enqueue(self, element):\n",
    "        self.input.append(element) # Append the element to the input list \n",
    "\n",
    "    def dequeue(self):\n",
    "        if not self.output: # If the output list is empty \n",
    "            #Traverse all elements from the input list to the output list, reversing the order\n",
    "            while self.input: # While the input list is not empty \n",
    "                self.output.append(self.input.pop()) #Pop the last element from the input list and append it to the output list \n",
    "\n",
    "        return self.output.pop() # Pop and return the last element from the output list \n",
    "    "
   ]
  },
  {
   "cell_type": "markdown",
   "metadata": {},
   "source": [
    "2) **Strings (immutable)**\n",
    "\n",
    "Given `n = s.length`"
   ]
  },
  {
   "cell_type": "code",
   "execution_count": null,
   "metadata": {},
   "outputs": [],
   "source": []
  }
 ],
 "metadata": {
  "kernelspec": {
   "display_name": "test",
   "language": "python",
   "name": "test"
  },
  "language_info": {
   "codemirror_mode": {
    "name": "ipython",
    "version": 3
   },
   "file_extension": ".py",
   "mimetype": "text/x-python",
   "name": "python",
   "nbconvert_exporter": "python",
   "pygments_lexer": "ipython3",
   "version": "3.11.5"
  }
 },
 "nbformat": 4,
 "nbformat_minor": 2
}
